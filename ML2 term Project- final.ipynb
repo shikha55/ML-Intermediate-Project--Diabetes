{
 "cells": [
  {
   "cell_type": "markdown",
   "metadata": {},
   "source": [
    "<img src=\"https://github.com/insaid2018/Term-1/blob/master/Images/INSAID_Full%20Logo.png?raw=true\" width=\"240\" height=\"360\"/>\n",
    "\n",
    "### Machine Learning Intermediate Project - Shikha Gupta,PhD"
   ]
  },
  {
   "cell_type": "markdown",
   "metadata": {},
   "source": [
    "## Table of Contents\n",
    "\n",
    "1. [Problem Statement](#section1)<br>\n",
    "2. [Data Loading and Description](#section2)<br/>\n",
    "    - 2.1 [Importing packages](#section201)<br/>\n",
    "    - 2.2 [Reading the csv](#section202)<br/>\n",
    "3. [Data Profiling](#section3)\n",
    "    - 3.1 [Pre Profiling](#section301)<br/>\n",
    "    - 3.3 [Initial Observations](#section302)<br/>\n",
    "4. [Exploratory Data Analysis](#section4)</br>\n",
    "    - 4.1 [Distribution of Age](#section401)<br/>\n",
    "    - 4.2 [BoxPlot for Age to look at outliers](#section402)<br/>\n",
    "    - 4.3 [Analysis of Gender Distribution](#section403)<br/>\n",
    "    - 4.4 [Understanding Class Distribution](#section404)<br/>\n",
    "    - 4.5 [Analysing different classes across different gender and Age](#section405)<br/>\n",
    "5. [Processing Data for Building Models](#section5) <br/>\n",
    "    - 5.1 [Segmenting data based on Age](#section501)<br/>\n",
    "    - 5.2 [Segmenting data into X and y](#section502)<br/>\n",
    "    - 5.3 [Splitting data into train and test](#section503)<br/>\n",
    "    - 5.4 [Encoding categorical columns](#section504)<br/>\n",
    "        - 5.4.1 [Encoding train data](#section50401)<br/>\n",
    "        - 5.4.2 [Encoding test data](#section50402)<br/>\n",
    "        - 5.4.3 [Equalizing features in train and test data](#section50403)<br/>\n",
    "6. [Checking for Multicolinearity](#section6)<br/>\n",
    "7. [Post Processing EDA using Sweetviz](#section7)<br/>\n",
    "8. [Building Machine learning Models](#section8)<br/>\n",
    "   - 8.1 [Running Base Models](#section801)<br/>\n",
    "   - 8.2 [Evaluating and improving Dcision Tree](#section802)<br/>\n",
    "        - 8.2.1 [Visualizing Decision Tree](#section80201)<br/>\n",
    "        - 8.2.2 [Cross Validation for Decision Tree](#section80202)<br/>\n",
    "        - 8.2.3 [Hypertuning Decision Tree using Random Search](#section80203)<br/>\n",
    "        - 8.2.4 [Hypertuning using GridSearch](#section80204)<br/>\n",
    "        - 8.2.5 [Feature Selection based on the best DT model](#section80205)<br/>\n",
    "        - 8.2.6 [Using SFM transform to create new dataset for DT](#section80206)<br/>\n",
    "        - 8.2.7 [Running tuned DT on selected features](#section80207)<br/>\n",
    "   - 8.3 [Evaluating and improving Random Forest](#section803)<br/>\n",
    "        - 8.3.1 [Using RepeatedStratifiedKfold method for cross validation for Random Forest](#section80301)<br/>\n",
    "        - 8.3.2 [Using Random Search for hypertuning Random Forest](#section80302)<br/>\n",
    "        - 8.3.3 [Hypertuning Random Forest with Grid Search](#section80303)<br/>\n",
    "        - 8.3.4 [Feature Selection based on best Random Forest Model](#section80304)<br/>\n",
    "        - 8.3.5 [Using SFM to create new dataset with important features based on the best Random Forest Model](#section80305)<br/>\n",
    "        - 8.3.6 [Running tuned RF on selected features ](#section80306)<br/>\n",
    "        - 8.3.7 [Tuning RF model for selected features ](#section80307)<br/>\n",
    "   - 8.4 [Adding important features from the best DT and RF models](#section804)<br/>\n",
    "        - 8.4.1 [Running Base Models on new dataset containing selected features from the best DT and RF models](#section80401)<br/>\n",
    "        - 8.4.2 [Refining Logistic Regression with Grid Search for new dataset wth selected features from the best DT and RF models](#section80402)<br/>\n",
    "        - 8.4.3 [Refinining Decision Tree with Random Search using the new dataset with selected features from the best DT and RF models](#section80403)<br/> \n",
    "        - 8.4.4 [Refinining Decision Tree with Grid Search using the new dataset with selected features from the best DT and RF models](#section80404)<br/>\n",
    "        - 8.4.5 [Hypertuning Random Forest with Random Search using the new dataset with selected features from the best DT and RF models](#section80405)<br/>\n",
    "        - 8.4.6 [Hypertuning Random Forest with Grid Search using the new dataset with selected features from the best DT and RF models](#section80406)<br/>\n",
    "9. [Summary of Results](#section9)<br/>  \n",
    "10. [Conclusions](#section10)<br/>  "
   ]
  },
  {
   "cell_type": "markdown",
   "metadata": {},
   "source": [
    "<a id=section1></a>\n",
    "## 1. Problem Statement"
   ]
  },
  {
   "cell_type": "markdown",
   "metadata": {},
   "source": [
    "This notebook explores diabetes dataset and will use __Pandas__ to perform  __Exploratory Data Analysis(EDA)__. Followed by EDA, various __ML models__ will be applied to predict the occurence of disease in the patients.\n"
   ]
  },
  {
   "cell_type": "markdown",
   "metadata": {},
   "source": [
    "<a id=section2></a>\n",
    "## 2. Data Loading and Description"
   ]
  },
  {
   "cell_type": "markdown",
   "metadata": {},
   "source": [
    "### 2.1 Importing packages <a id=section201></a>"
   ]
  },
  {
   "cell_type": "code",
   "execution_count": 1,
   "metadata": {},
   "outputs": [
    {
     "name": "stderr",
     "output_type": "stream",
     "text": [
      "C:\\ProgramData\\Anaconda3\\lib\\site-packages\\statsmodels\\tools\\_testing.py:19: FutureWarning: pandas.util.testing is deprecated. Use the functions in the public API at pandas.testing instead.\n",
      "  import pandas.util.testing as tm\n"
     ]
    }
   ],
   "source": [
    "import numpy as np                                                 # Implemennts milti-dimensional array and matrices\n",
    "import pandas as pd                                                # For data manipulation and analysis\n",
    "#import lux\n",
    "import pandas_profiling\n",
    "import matplotlib.pyplot as plt                                    # Plotting library for Python programming language and it's numerical mathematics extension NumPy\n",
    "import seaborn as sns                                              # Provides a high level interface for drawing attractive and informative statistical graphics\n",
    "%matplotlib inline\n",
    "sns.set()\n",
    "\n",
    "from subprocess import check_output\n",
    "from sklearn import metrics\n",
    "import pandas.util.testing as tm"
   ]
  },
  {
   "cell_type": "code",
   "execution_count": 2,
   "metadata": {},
   "outputs": [],
   "source": [
    "pd.set_option('display.max_rows', 250)\n",
    "pd.set_option('display.max_columns', 250)"
   ]
  },
  {
   "cell_type": "markdown",
   "metadata": {},
   "source": [
    "### 2.2 Reading the csv <br id=section202></br>"
   ]
  },
  {
   "cell_type": "code",
   "execution_count": 3,
   "metadata": {},
   "outputs": [],
   "source": [
    "diabetes = pd.read_csv(\"https://raw.githubusercontent.com/shikha55/ML-Intermediate-Project--Diabetes/main/diabetes_data_upload.csv\")"
   ]
  },
  {
   "cell_type": "code",
   "execution_count": 4,
   "metadata": {},
   "outputs": [
    {
     "data": {
      "text/html": [
       "<div>\n",
       "<style scoped>\n",
       "    .dataframe tbody tr th:only-of-type {\n",
       "        vertical-align: middle;\n",
       "    }\n",
       "\n",
       "    .dataframe tbody tr th {\n",
       "        vertical-align: top;\n",
       "    }\n",
       "\n",
       "    .dataframe thead th {\n",
       "        text-align: right;\n",
       "    }\n",
       "</style>\n",
       "<table border=\"1\" class=\"dataframe\">\n",
       "  <thead>\n",
       "    <tr style=\"text-align: right;\">\n",
       "      <th></th>\n",
       "      <th>Age</th>\n",
       "      <th>Gender</th>\n",
       "      <th>Polyuria</th>\n",
       "      <th>Polydipsia</th>\n",
       "      <th>sudden weight loss</th>\n",
       "      <th>weakness</th>\n",
       "      <th>Polyphagia</th>\n",
       "      <th>Genital thrush</th>\n",
       "      <th>visual blurring</th>\n",
       "      <th>Itching</th>\n",
       "      <th>Irritability</th>\n",
       "      <th>delayed healing</th>\n",
       "      <th>partial paresis</th>\n",
       "      <th>muscle stiffness</th>\n",
       "      <th>Alopecia</th>\n",
       "      <th>Obesity</th>\n",
       "      <th>class</th>\n",
       "    </tr>\n",
       "  </thead>\n",
       "  <tbody>\n",
       "    <tr>\n",
       "      <th>0</th>\n",
       "      <td>40</td>\n",
       "      <td>Male</td>\n",
       "      <td>No</td>\n",
       "      <td>Yes</td>\n",
       "      <td>No</td>\n",
       "      <td>Yes</td>\n",
       "      <td>No</td>\n",
       "      <td>No</td>\n",
       "      <td>No</td>\n",
       "      <td>Yes</td>\n",
       "      <td>No</td>\n",
       "      <td>Yes</td>\n",
       "      <td>No</td>\n",
       "      <td>Yes</td>\n",
       "      <td>Yes</td>\n",
       "      <td>Yes</td>\n",
       "      <td>Positive</td>\n",
       "    </tr>\n",
       "    <tr>\n",
       "      <th>1</th>\n",
       "      <td>58</td>\n",
       "      <td>Male</td>\n",
       "      <td>No</td>\n",
       "      <td>No</td>\n",
       "      <td>No</td>\n",
       "      <td>Yes</td>\n",
       "      <td>No</td>\n",
       "      <td>No</td>\n",
       "      <td>Yes</td>\n",
       "      <td>No</td>\n",
       "      <td>No</td>\n",
       "      <td>No</td>\n",
       "      <td>Yes</td>\n",
       "      <td>No</td>\n",
       "      <td>Yes</td>\n",
       "      <td>No</td>\n",
       "      <td>Positive</td>\n",
       "    </tr>\n",
       "    <tr>\n",
       "      <th>2</th>\n",
       "      <td>41</td>\n",
       "      <td>Male</td>\n",
       "      <td>Yes</td>\n",
       "      <td>No</td>\n",
       "      <td>No</td>\n",
       "      <td>Yes</td>\n",
       "      <td>Yes</td>\n",
       "      <td>No</td>\n",
       "      <td>No</td>\n",
       "      <td>Yes</td>\n",
       "      <td>No</td>\n",
       "      <td>Yes</td>\n",
       "      <td>No</td>\n",
       "      <td>Yes</td>\n",
       "      <td>Yes</td>\n",
       "      <td>No</td>\n",
       "      <td>Positive</td>\n",
       "    </tr>\n",
       "    <tr>\n",
       "      <th>3</th>\n",
       "      <td>45</td>\n",
       "      <td>Male</td>\n",
       "      <td>No</td>\n",
       "      <td>No</td>\n",
       "      <td>Yes</td>\n",
       "      <td>Yes</td>\n",
       "      <td>Yes</td>\n",
       "      <td>Yes</td>\n",
       "      <td>No</td>\n",
       "      <td>Yes</td>\n",
       "      <td>No</td>\n",
       "      <td>Yes</td>\n",
       "      <td>No</td>\n",
       "      <td>No</td>\n",
       "      <td>No</td>\n",
       "      <td>No</td>\n",
       "      <td>Positive</td>\n",
       "    </tr>\n",
       "    <tr>\n",
       "      <th>4</th>\n",
       "      <td>60</td>\n",
       "      <td>Male</td>\n",
       "      <td>Yes</td>\n",
       "      <td>Yes</td>\n",
       "      <td>Yes</td>\n",
       "      <td>Yes</td>\n",
       "      <td>Yes</td>\n",
       "      <td>No</td>\n",
       "      <td>Yes</td>\n",
       "      <td>Yes</td>\n",
       "      <td>Yes</td>\n",
       "      <td>Yes</td>\n",
       "      <td>Yes</td>\n",
       "      <td>Yes</td>\n",
       "      <td>Yes</td>\n",
       "      <td>Yes</td>\n",
       "      <td>Positive</td>\n",
       "    </tr>\n",
       "    <tr>\n",
       "      <th>...</th>\n",
       "      <td>...</td>\n",
       "      <td>...</td>\n",
       "      <td>...</td>\n",
       "      <td>...</td>\n",
       "      <td>...</td>\n",
       "      <td>...</td>\n",
       "      <td>...</td>\n",
       "      <td>...</td>\n",
       "      <td>...</td>\n",
       "      <td>...</td>\n",
       "      <td>...</td>\n",
       "      <td>...</td>\n",
       "      <td>...</td>\n",
       "      <td>...</td>\n",
       "      <td>...</td>\n",
       "      <td>...</td>\n",
       "      <td>...</td>\n",
       "    </tr>\n",
       "    <tr>\n",
       "      <th>515</th>\n",
       "      <td>39</td>\n",
       "      <td>Female</td>\n",
       "      <td>Yes</td>\n",
       "      <td>Yes</td>\n",
       "      <td>Yes</td>\n",
       "      <td>No</td>\n",
       "      <td>Yes</td>\n",
       "      <td>No</td>\n",
       "      <td>No</td>\n",
       "      <td>Yes</td>\n",
       "      <td>No</td>\n",
       "      <td>Yes</td>\n",
       "      <td>Yes</td>\n",
       "      <td>No</td>\n",
       "      <td>No</td>\n",
       "      <td>No</td>\n",
       "      <td>Positive</td>\n",
       "    </tr>\n",
       "    <tr>\n",
       "      <th>516</th>\n",
       "      <td>48</td>\n",
       "      <td>Female</td>\n",
       "      <td>Yes</td>\n",
       "      <td>Yes</td>\n",
       "      <td>Yes</td>\n",
       "      <td>Yes</td>\n",
       "      <td>Yes</td>\n",
       "      <td>No</td>\n",
       "      <td>No</td>\n",
       "      <td>Yes</td>\n",
       "      <td>Yes</td>\n",
       "      <td>Yes</td>\n",
       "      <td>Yes</td>\n",
       "      <td>No</td>\n",
       "      <td>No</td>\n",
       "      <td>No</td>\n",
       "      <td>Positive</td>\n",
       "    </tr>\n",
       "    <tr>\n",
       "      <th>517</th>\n",
       "      <td>58</td>\n",
       "      <td>Female</td>\n",
       "      <td>Yes</td>\n",
       "      <td>Yes</td>\n",
       "      <td>Yes</td>\n",
       "      <td>Yes</td>\n",
       "      <td>Yes</td>\n",
       "      <td>No</td>\n",
       "      <td>Yes</td>\n",
       "      <td>No</td>\n",
       "      <td>No</td>\n",
       "      <td>No</td>\n",
       "      <td>Yes</td>\n",
       "      <td>Yes</td>\n",
       "      <td>No</td>\n",
       "      <td>Yes</td>\n",
       "      <td>Positive</td>\n",
       "    </tr>\n",
       "    <tr>\n",
       "      <th>518</th>\n",
       "      <td>32</td>\n",
       "      <td>Female</td>\n",
       "      <td>No</td>\n",
       "      <td>No</td>\n",
       "      <td>No</td>\n",
       "      <td>Yes</td>\n",
       "      <td>No</td>\n",
       "      <td>No</td>\n",
       "      <td>Yes</td>\n",
       "      <td>Yes</td>\n",
       "      <td>No</td>\n",
       "      <td>Yes</td>\n",
       "      <td>No</td>\n",
       "      <td>No</td>\n",
       "      <td>Yes</td>\n",
       "      <td>No</td>\n",
       "      <td>Negative</td>\n",
       "    </tr>\n",
       "    <tr>\n",
       "      <th>519</th>\n",
       "      <td>42</td>\n",
       "      <td>Male</td>\n",
       "      <td>No</td>\n",
       "      <td>No</td>\n",
       "      <td>No</td>\n",
       "      <td>No</td>\n",
       "      <td>No</td>\n",
       "      <td>No</td>\n",
       "      <td>No</td>\n",
       "      <td>No</td>\n",
       "      <td>No</td>\n",
       "      <td>No</td>\n",
       "      <td>No</td>\n",
       "      <td>No</td>\n",
       "      <td>No</td>\n",
       "      <td>No</td>\n",
       "      <td>Negative</td>\n",
       "    </tr>\n",
       "  </tbody>\n",
       "</table>\n",
       "<p>520 rows × 17 columns</p>\n",
       "</div>"
      ],
      "text/plain": [
       "     Age  Gender Polyuria Polydipsia sudden weight loss weakness Polyphagia  \\\n",
       "0     40    Male       No        Yes                 No      Yes         No   \n",
       "1     58    Male       No         No                 No      Yes         No   \n",
       "2     41    Male      Yes         No                 No      Yes        Yes   \n",
       "3     45    Male       No         No                Yes      Yes        Yes   \n",
       "4     60    Male      Yes        Yes                Yes      Yes        Yes   \n",
       "..   ...     ...      ...        ...                ...      ...        ...   \n",
       "515   39  Female      Yes        Yes                Yes       No        Yes   \n",
       "516   48  Female      Yes        Yes                Yes      Yes        Yes   \n",
       "517   58  Female      Yes        Yes                Yes      Yes        Yes   \n",
       "518   32  Female       No         No                 No      Yes         No   \n",
       "519   42    Male       No         No                 No       No         No   \n",
       "\n",
       "    Genital thrush visual blurring Itching Irritability delayed healing  \\\n",
       "0               No              No     Yes           No             Yes   \n",
       "1               No             Yes      No           No              No   \n",
       "2               No              No     Yes           No             Yes   \n",
       "3              Yes              No     Yes           No             Yes   \n",
       "4               No             Yes     Yes          Yes             Yes   \n",
       "..             ...             ...     ...          ...             ...   \n",
       "515             No              No     Yes           No             Yes   \n",
       "516             No              No     Yes          Yes             Yes   \n",
       "517             No             Yes      No           No              No   \n",
       "518             No             Yes     Yes           No             Yes   \n",
       "519             No              No      No           No              No   \n",
       "\n",
       "    partial paresis muscle stiffness Alopecia Obesity     class  \n",
       "0                No              Yes      Yes     Yes  Positive  \n",
       "1               Yes               No      Yes      No  Positive  \n",
       "2                No              Yes      Yes      No  Positive  \n",
       "3                No               No       No      No  Positive  \n",
       "4               Yes              Yes      Yes     Yes  Positive  \n",
       "..              ...              ...      ...     ...       ...  \n",
       "515             Yes               No       No      No  Positive  \n",
       "516             Yes               No       No      No  Positive  \n",
       "517             Yes              Yes       No     Yes  Positive  \n",
       "518              No               No      Yes      No  Negative  \n",
       "519              No               No       No      No  Negative  \n",
       "\n",
       "[520 rows x 17 columns]"
      ]
     },
     "execution_count": 4,
     "metadata": {},
     "output_type": "execute_result"
    }
   ],
   "source": [
    "diabetes"
   ]
  },
  {
   "cell_type": "code",
   "execution_count": 5,
   "metadata": {},
   "outputs": [
    {
     "data": {
      "text/plain": [
       "(520, 17)"
      ]
     },
     "execution_count": 5,
     "metadata": {},
     "output_type": "execute_result"
    }
   ],
   "source": [
    "diabetes.shape"
   ]
  },
  {
   "cell_type": "code",
   "execution_count": 6,
   "metadata": {},
   "outputs": [
    {
     "name": "stdout",
     "output_type": "stream",
     "text": [
      "<class 'pandas.core.frame.DataFrame'>\n",
      "RangeIndex: 520 entries, 0 to 519\n",
      "Data columns (total 17 columns):\n",
      " #   Column              Non-Null Count  Dtype \n",
      "---  ------              --------------  ----- \n",
      " 0   Age                 520 non-null    int64 \n",
      " 1   Gender              520 non-null    object\n",
      " 2   Polyuria            520 non-null    object\n",
      " 3   Polydipsia          520 non-null    object\n",
      " 4   sudden weight loss  520 non-null    object\n",
      " 5   weakness            520 non-null    object\n",
      " 6   Polyphagia          520 non-null    object\n",
      " 7   Genital thrush      520 non-null    object\n",
      " 8   visual blurring     520 non-null    object\n",
      " 9   Itching             520 non-null    object\n",
      " 10  Irritability        520 non-null    object\n",
      " 11  delayed healing     520 non-null    object\n",
      " 12  partial paresis     520 non-null    object\n",
      " 13  muscle stiffness    520 non-null    object\n",
      " 14  Alopecia            520 non-null    object\n",
      " 15  Obesity             520 non-null    object\n",
      " 16  class               520 non-null    object\n",
      "dtypes: int64(1), object(16)\n",
      "memory usage: 69.2+ KB\n"
     ]
    }
   ],
   "source": [
    "diabetes.info()"
   ]
  },
  {
   "cell_type": "markdown",
   "metadata": {},
   "source": [
    "## 3. Data Profiling <br id=section3 ></br>"
   ]
  },
  {
   "cell_type": "markdown",
   "metadata": {},
   "source": [
    "### 3.1 Pre Profiling <br id=section301></br>"
   ]
  },
  {
   "cell_type": "code",
   "execution_count": 7,
   "metadata": {},
   "outputs": [],
   "source": [
    "#profile = pandas_profiling.ProfileReport(diabetes)\n",
    "#profile.to_file(\"diabetes_before_preprocessing.html\")"
   ]
  },
  {
   "cell_type": "markdown",
   "metadata": {},
   "source": [
    "### 3.2 Initial Observations (based on Pandas Profiling) <br id=section302></br>\n",
    "1. There are 520 observations across 17 variables in this data set - 2 categorical, 14 Boolean and 1 Numerical\n",
    "2. There are no missing values in the data set.\n",
    "3. There are 51.7% duplicate rows."
   ]
  },
  {
   "cell_type": "code",
   "execution_count": 8,
   "metadata": {},
   "outputs": [
    {
     "data": {
      "text/html": [
       "<div>\n",
       "<style scoped>\n",
       "    .dataframe tbody tr th:only-of-type {\n",
       "        vertical-align: middle;\n",
       "    }\n",
       "\n",
       "    .dataframe tbody tr th {\n",
       "        vertical-align: top;\n",
       "    }\n",
       "\n",
       "    .dataframe thead th {\n",
       "        text-align: right;\n",
       "    }\n",
       "</style>\n",
       "<table border=\"1\" class=\"dataframe\">\n",
       "  <thead>\n",
       "    <tr style=\"text-align: right;\">\n",
       "      <th></th>\n",
       "      <th>Age</th>\n",
       "      <th>Gender</th>\n",
       "      <th>Polyuria</th>\n",
       "      <th>Polydipsia</th>\n",
       "      <th>sudden weight loss</th>\n",
       "      <th>weakness</th>\n",
       "      <th>Polyphagia</th>\n",
       "      <th>Genital thrush</th>\n",
       "      <th>visual blurring</th>\n",
       "      <th>Itching</th>\n",
       "      <th>Irritability</th>\n",
       "      <th>delayed healing</th>\n",
       "      <th>partial paresis</th>\n",
       "      <th>muscle stiffness</th>\n",
       "      <th>Alopecia</th>\n",
       "      <th>Obesity</th>\n",
       "      <th>class</th>\n",
       "    </tr>\n",
       "  </thead>\n",
       "  <tbody>\n",
       "    <tr>\n",
       "      <th>count</th>\n",
       "      <td>520.000000</td>\n",
       "      <td>520</td>\n",
       "      <td>520</td>\n",
       "      <td>520</td>\n",
       "      <td>520</td>\n",
       "      <td>520</td>\n",
       "      <td>520</td>\n",
       "      <td>520</td>\n",
       "      <td>520</td>\n",
       "      <td>520</td>\n",
       "      <td>520</td>\n",
       "      <td>520</td>\n",
       "      <td>520</td>\n",
       "      <td>520</td>\n",
       "      <td>520</td>\n",
       "      <td>520</td>\n",
       "      <td>520</td>\n",
       "    </tr>\n",
       "    <tr>\n",
       "      <th>unique</th>\n",
       "      <td>NaN</td>\n",
       "      <td>2</td>\n",
       "      <td>2</td>\n",
       "      <td>2</td>\n",
       "      <td>2</td>\n",
       "      <td>2</td>\n",
       "      <td>2</td>\n",
       "      <td>2</td>\n",
       "      <td>2</td>\n",
       "      <td>2</td>\n",
       "      <td>2</td>\n",
       "      <td>2</td>\n",
       "      <td>2</td>\n",
       "      <td>2</td>\n",
       "      <td>2</td>\n",
       "      <td>2</td>\n",
       "      <td>2</td>\n",
       "    </tr>\n",
       "    <tr>\n",
       "      <th>top</th>\n",
       "      <td>NaN</td>\n",
       "      <td>Male</td>\n",
       "      <td>No</td>\n",
       "      <td>No</td>\n",
       "      <td>No</td>\n",
       "      <td>Yes</td>\n",
       "      <td>No</td>\n",
       "      <td>No</td>\n",
       "      <td>No</td>\n",
       "      <td>No</td>\n",
       "      <td>No</td>\n",
       "      <td>No</td>\n",
       "      <td>No</td>\n",
       "      <td>No</td>\n",
       "      <td>No</td>\n",
       "      <td>No</td>\n",
       "      <td>Positive</td>\n",
       "    </tr>\n",
       "    <tr>\n",
       "      <th>freq</th>\n",
       "      <td>NaN</td>\n",
       "      <td>328</td>\n",
       "      <td>262</td>\n",
       "      <td>287</td>\n",
       "      <td>303</td>\n",
       "      <td>305</td>\n",
       "      <td>283</td>\n",
       "      <td>404</td>\n",
       "      <td>287</td>\n",
       "      <td>267</td>\n",
       "      <td>394</td>\n",
       "      <td>281</td>\n",
       "      <td>296</td>\n",
       "      <td>325</td>\n",
       "      <td>341</td>\n",
       "      <td>432</td>\n",
       "      <td>320</td>\n",
       "    </tr>\n",
       "    <tr>\n",
       "      <th>mean</th>\n",
       "      <td>48.028846</td>\n",
       "      <td>NaN</td>\n",
       "      <td>NaN</td>\n",
       "      <td>NaN</td>\n",
       "      <td>NaN</td>\n",
       "      <td>NaN</td>\n",
       "      <td>NaN</td>\n",
       "      <td>NaN</td>\n",
       "      <td>NaN</td>\n",
       "      <td>NaN</td>\n",
       "      <td>NaN</td>\n",
       "      <td>NaN</td>\n",
       "      <td>NaN</td>\n",
       "      <td>NaN</td>\n",
       "      <td>NaN</td>\n",
       "      <td>NaN</td>\n",
       "      <td>NaN</td>\n",
       "    </tr>\n",
       "    <tr>\n",
       "      <th>std</th>\n",
       "      <td>12.151466</td>\n",
       "      <td>NaN</td>\n",
       "      <td>NaN</td>\n",
       "      <td>NaN</td>\n",
       "      <td>NaN</td>\n",
       "      <td>NaN</td>\n",
       "      <td>NaN</td>\n",
       "      <td>NaN</td>\n",
       "      <td>NaN</td>\n",
       "      <td>NaN</td>\n",
       "      <td>NaN</td>\n",
       "      <td>NaN</td>\n",
       "      <td>NaN</td>\n",
       "      <td>NaN</td>\n",
       "      <td>NaN</td>\n",
       "      <td>NaN</td>\n",
       "      <td>NaN</td>\n",
       "    </tr>\n",
       "    <tr>\n",
       "      <th>min</th>\n",
       "      <td>16.000000</td>\n",
       "      <td>NaN</td>\n",
       "      <td>NaN</td>\n",
       "      <td>NaN</td>\n",
       "      <td>NaN</td>\n",
       "      <td>NaN</td>\n",
       "      <td>NaN</td>\n",
       "      <td>NaN</td>\n",
       "      <td>NaN</td>\n",
       "      <td>NaN</td>\n",
       "      <td>NaN</td>\n",
       "      <td>NaN</td>\n",
       "      <td>NaN</td>\n",
       "      <td>NaN</td>\n",
       "      <td>NaN</td>\n",
       "      <td>NaN</td>\n",
       "      <td>NaN</td>\n",
       "    </tr>\n",
       "    <tr>\n",
       "      <th>25%</th>\n",
       "      <td>39.000000</td>\n",
       "      <td>NaN</td>\n",
       "      <td>NaN</td>\n",
       "      <td>NaN</td>\n",
       "      <td>NaN</td>\n",
       "      <td>NaN</td>\n",
       "      <td>NaN</td>\n",
       "      <td>NaN</td>\n",
       "      <td>NaN</td>\n",
       "      <td>NaN</td>\n",
       "      <td>NaN</td>\n",
       "      <td>NaN</td>\n",
       "      <td>NaN</td>\n",
       "      <td>NaN</td>\n",
       "      <td>NaN</td>\n",
       "      <td>NaN</td>\n",
       "      <td>NaN</td>\n",
       "    </tr>\n",
       "    <tr>\n",
       "      <th>50%</th>\n",
       "      <td>47.500000</td>\n",
       "      <td>NaN</td>\n",
       "      <td>NaN</td>\n",
       "      <td>NaN</td>\n",
       "      <td>NaN</td>\n",
       "      <td>NaN</td>\n",
       "      <td>NaN</td>\n",
       "      <td>NaN</td>\n",
       "      <td>NaN</td>\n",
       "      <td>NaN</td>\n",
       "      <td>NaN</td>\n",
       "      <td>NaN</td>\n",
       "      <td>NaN</td>\n",
       "      <td>NaN</td>\n",
       "      <td>NaN</td>\n",
       "      <td>NaN</td>\n",
       "      <td>NaN</td>\n",
       "    </tr>\n",
       "    <tr>\n",
       "      <th>75%</th>\n",
       "      <td>57.000000</td>\n",
       "      <td>NaN</td>\n",
       "      <td>NaN</td>\n",
       "      <td>NaN</td>\n",
       "      <td>NaN</td>\n",
       "      <td>NaN</td>\n",
       "      <td>NaN</td>\n",
       "      <td>NaN</td>\n",
       "      <td>NaN</td>\n",
       "      <td>NaN</td>\n",
       "      <td>NaN</td>\n",
       "      <td>NaN</td>\n",
       "      <td>NaN</td>\n",
       "      <td>NaN</td>\n",
       "      <td>NaN</td>\n",
       "      <td>NaN</td>\n",
       "      <td>NaN</td>\n",
       "    </tr>\n",
       "    <tr>\n",
       "      <th>max</th>\n",
       "      <td>90.000000</td>\n",
       "      <td>NaN</td>\n",
       "      <td>NaN</td>\n",
       "      <td>NaN</td>\n",
       "      <td>NaN</td>\n",
       "      <td>NaN</td>\n",
       "      <td>NaN</td>\n",
       "      <td>NaN</td>\n",
       "      <td>NaN</td>\n",
       "      <td>NaN</td>\n",
       "      <td>NaN</td>\n",
       "      <td>NaN</td>\n",
       "      <td>NaN</td>\n",
       "      <td>NaN</td>\n",
       "      <td>NaN</td>\n",
       "      <td>NaN</td>\n",
       "      <td>NaN</td>\n",
       "    </tr>\n",
       "  </tbody>\n",
       "</table>\n",
       "</div>"
      ],
      "text/plain": [
       "               Age Gender Polyuria Polydipsia sudden weight loss weakness  \\\n",
       "count   520.000000    520      520        520                520      520   \n",
       "unique         NaN      2        2          2                  2        2   \n",
       "top            NaN   Male       No         No                 No      Yes   \n",
       "freq           NaN    328      262        287                303      305   \n",
       "mean     48.028846    NaN      NaN        NaN                NaN      NaN   \n",
       "std      12.151466    NaN      NaN        NaN                NaN      NaN   \n",
       "min      16.000000    NaN      NaN        NaN                NaN      NaN   \n",
       "25%      39.000000    NaN      NaN        NaN                NaN      NaN   \n",
       "50%      47.500000    NaN      NaN        NaN                NaN      NaN   \n",
       "75%      57.000000    NaN      NaN        NaN                NaN      NaN   \n",
       "max      90.000000    NaN      NaN        NaN                NaN      NaN   \n",
       "\n",
       "       Polyphagia Genital thrush visual blurring Itching Irritability  \\\n",
       "count         520            520             520     520          520   \n",
       "unique          2              2               2       2            2   \n",
       "top            No             No              No      No           No   \n",
       "freq          283            404             287     267          394   \n",
       "mean          NaN            NaN             NaN     NaN          NaN   \n",
       "std           NaN            NaN             NaN     NaN          NaN   \n",
       "min           NaN            NaN             NaN     NaN          NaN   \n",
       "25%           NaN            NaN             NaN     NaN          NaN   \n",
       "50%           NaN            NaN             NaN     NaN          NaN   \n",
       "75%           NaN            NaN             NaN     NaN          NaN   \n",
       "max           NaN            NaN             NaN     NaN          NaN   \n",
       "\n",
       "       delayed healing partial paresis muscle stiffness Alopecia Obesity  \\\n",
       "count              520             520              520      520     520   \n",
       "unique               2               2                2        2       2   \n",
       "top                 No              No               No       No      No   \n",
       "freq               281             296              325      341     432   \n",
       "mean               NaN             NaN              NaN      NaN     NaN   \n",
       "std                NaN             NaN              NaN      NaN     NaN   \n",
       "min                NaN             NaN              NaN      NaN     NaN   \n",
       "25%                NaN             NaN              NaN      NaN     NaN   \n",
       "50%                NaN             NaN              NaN      NaN     NaN   \n",
       "75%                NaN             NaN              NaN      NaN     NaN   \n",
       "max                NaN             NaN              NaN      NaN     NaN   \n",
       "\n",
       "           class  \n",
       "count        520  \n",
       "unique         2  \n",
       "top     Positive  \n",
       "freq         320  \n",
       "mean         NaN  \n",
       "std          NaN  \n",
       "min          NaN  \n",
       "25%          NaN  \n",
       "50%          NaN  \n",
       "75%          NaN  \n",
       "max          NaN  "
      ]
     },
     "execution_count": 8,
     "metadata": {},
     "output_type": "execute_result"
    }
   ],
   "source": [
    "diabetes.describe(include='all')"
   ]
  },
  {
   "cell_type": "markdown",
   "metadata": {},
   "source": [
    "## 4. Exploratory Data Analysis  <br id=section4 ></br>"
   ]
  },
  {
   "cell_type": "markdown",
   "metadata": {},
   "source": [
    "### 4.1 Distribution of Age <br id=section401></br>"
   ]
  },
  {
   "cell_type": "code",
   "execution_count": 9,
   "metadata": {},
   "outputs": [
    {
     "data": {
      "image/png": "[encoded data removed]",
      "text/plain": [
       "<Figure size 432x288 with 1 Axes>"
      ]
     },
     "metadata": {
      "needs_background": "light"
     },
     "output_type": "display_data"
    }
   ],
   "source": [
    "# Using distribution plot to understand the distriution of age\n",
    "sns.distplot(diabetes['Age'], color ='g')\n",
    "plt.title('Distribution of Age')\n",
    "plt.show()"
   ]
  },
  {
   "cell_type": "markdown",
   "metadata": {},
   "source": [
    "Conclusion: Age has normal distribution but there seems to be a few outliers. Will try to identify those in a box plot"
   ]
  },
  {
   "cell_type": "markdown",
   "metadata": {},
   "source": [
    "### 4.2 BoxPlot for Age to look at outliers <br id=section402></br>"
   ]
  },
  {
   "cell_type": "code",
   "execution_count": 10,
   "metadata": {},
   "outputs": [
    {
     "data": {
      "text/plain": [
       "<AxesSubplot:ylabel='Age'>"
      ]
     },
     "execution_count": 10,
     "metadata": {},
     "output_type": "execute_result"
    },
    {
     "data": {
      "image/png": "[encoded data removed]",
      "text/plain": [
       "<Figure size 180x360 with 1 Axes>"
      ]
     },
     "metadata": {
      "needs_background": "light"
     },
     "output_type": "display_data"
    }
   ],
   "source": [
    "# Outlier analysis in Age using Box Plot\n",
    "plt.figure(figsize=(2.5, 5))\n",
    "sns.boxplot(data=diabetes, y ='Age', palette='winter')"
   ]
  },
  {
   "cell_type": "code",
   "execution_count": 11,
   "metadata": {},
   "outputs": [
    {
     "data": {
      "text/plain": [
       "<AxesSubplot:xlabel='Gender', ylabel='Age'>"
      ]
     },
     "execution_count": 11,
     "metadata": {},
     "output_type": "execute_result"
    },
    {
     "data": {
      "image/png": "[encoded data removed]",
      "text/plain": [
       "<Figure size 360x360 with 1 Axes>"
      ]
     },
     "metadata": {
      "needs_background": "light"
     },
     "output_type": "display_data"
    }
   ],
   "source": [
    "plt.figure(figsize=(5, 5))\n",
    "sns.boxplot(x=\"Gender\", y=\"Age\", data=diabetes,linewidth=2.0)"
   ]
  },
  {
   "cell_type": "markdown",
   "metadata": {},
   "source": [
    "Conclusion: Age has two outliers with age >80 years"
   ]
  },
  {
   "cell_type": "markdown",
   "metadata": {},
   "source": [
    "### 4.3 Analysis of Gender Distribution <br id=section403 ></br>"
   ]
  },
  {
   "cell_type": "code",
   "execution_count": 12,
   "metadata": {},
   "outputs": [
    {
     "name": "stdout",
     "output_type": "stream",
     "text": [
      "Male      328\n",
      "Female    192\n",
      "Name: Gender, dtype: int64\n"
     ]
    }
   ],
   "source": [
    "#Understanding distribution of gender\n",
    "print(diabetes['Gender'].value_counts())"
   ]
  },
  {
   "cell_type": "code",
   "execution_count": 13,
   "metadata": {},
   "outputs": [
    {
     "data": {
      "text/plain": [
       "Text(0.5, 1.0, 'Gender Distribution')"
      ]
     },
     "execution_count": 13,
     "metadata": {},
     "output_type": "execute_result"
    },
    {
     "data": {
      "image/png": "[encoded data removed]",
      "text/plain": [
       "<Figure size 360x360 with 1 Axes>"
      ]
     },
     "metadata": {},
     "output_type": "display_data"
    }
   ],
   "source": [
    "#Plotting distribution of Gender\n",
    "ax=diabetes['Gender'].value_counts().plot(kind='pie',autopct='%3.1f%%',figsize=(5,5), fontsize=\"14\", label=\"\", labeldistance=None)\n",
    "ax.legend (fontsize=14,\n",
    "          loc=\"upper left\",\n",
    "          bbox_to_anchor=(1, 0, 0.5, 1))\n",
    "plt.title(('Gender Distribution'),size=16)\n",
    "                                             #wedgeprops=dict(width=0.15), autopct='%3.1f%%', \n",
    "                                                                  #figsize=(13, 12), fontsize=11, \n",
    "                                                                 #startangle=20, shadow=True, cmap='inferno')"
   ]
  },
  {
   "cell_type": "markdown",
   "metadata": {},
   "source": [
    "Conclusion: There is a slight imbalance in the Gender distribution with 60% patients being Male and 40% patients being female"
   ]
  },
  {
   "cell_type": "markdown",
   "metadata": {},
   "source": [
    "### 4.4 Understanding Class Distribution <br id=section404 ></br>"
   ]
  },
  {
   "cell_type": "code",
   "execution_count": 14,
   "metadata": {},
   "outputs": [
    {
     "data": {
      "text/plain": [
       "Text(0.5, 1.0, 'Class Distribution')"
      ]
     },
     "execution_count": 14,
     "metadata": {},
     "output_type": "execute_result"
    },
    {
     "data": {
      "image/png": "[encoded data removed]",
      "text/plain": [
       "<Figure size 288x288 with 1 Axes>"
      ]
     },
     "metadata": {},
     "output_type": "display_data"
    }
   ],
   "source": [
    "colors=[\"red\", \"green\"]\n",
    "ax=diabetes['class'].value_counts().plot(kind='pie',autopct='%3.1f%%',figsize=(4,4), fontsize=\"14\", label=\"\", labeldistance=None,colors= colors)\n",
    "ax.legend (fontsize=14,\n",
    "          loc=\"upper left\",\n",
    "          bbox_to_anchor=(1, 0, 0.5, 1))\n",
    "plt.title(('Class Distribution'),size=16)"
   ]
  },
  {
   "cell_type": "markdown",
   "metadata": {},
   "source": [
    "Conclusion: Just like Gender, there is a slight impbalance in class as well. "
   ]
  },
  {
   "cell_type": "markdown",
   "metadata": {},
   "source": [
    "### 4.5  Analysing different classes across different gender and Age <br id=section405 ></br>"
   ]
  },
  {
   "cell_type": "code",
   "execution_count": 15,
   "metadata": {},
   "outputs": [
    {
     "data": {
      "image/png": "[encoded data removed]",
      "text/plain": [
       "<Figure size 432x288 with 1 Axes>"
      ]
     },
     "metadata": {},
     "output_type": "display_data"
    }
   ],
   "source": [
    "# Plotting distribution of class acrosss different Gender\n",
    "subgroup_names=['Male', 'Female']\n",
    "subgroup_size=[328,192]\n",
    "group_names=['Negative','Positive','Positive','Negative']\n",
    "colorlist = ['black','w','w','black']  \n",
    "group_size=[181,147,173,19]\n",
    "a, b, c =[plt.cm.Reds,plt.cm.GnBu, plt.cm.YlGn]\n",
    "\n",
    "\n",
    "fig, ax = plt.subplots()\n",
    "ax.axis('equal')\n",
    "mypie, _ = ax.pie(group_size,radius=1.9,colors=[b(0.6), a(0.6), a(0.6),b(0.6)])\n",
    "plt.setp(mypie, width=0.7, edgecolor='white')\n",
    "wedges,texts = plt.pie(group_size,labels=group_names, labeldistance= 1.35)\n",
    "for text, color in zip(texts, colorlist):\n",
    "    text.set_color(color)\n",
    "    \n",
    "# Second Ring (Inside)\n",
    "mypie2, _ = ax.pie(subgroup_size, radius=1.2, labels=subgroup_names, labeldistance=0.4, colors=[c(0.5), c(0.5)]) #autopct='%3.1f%%')\n",
    "\n",
    "#,wedgeprops = { 'linewidth' : 7, 'edgecolor' : 'white' })\n",
    "#plt.margins(0,0)\n",
    "#plt.rcParams['text.color'] = 'black'\n",
    "\n",
    "# show it\n",
    "plt.show()\n"
   ]
  },
  {
   "cell_type": "code",
   "execution_count": 16,
   "metadata": {},
   "outputs": [
    {
     "data": {
      "text/plain": [
       "Gender  class   \n",
       "Female  Negative     19\n",
       "        Positive    173\n",
       "Male    Negative    181\n",
       "        Positive    147\n",
       "Name: Gender, dtype: int64"
      ]
     },
     "execution_count": 16,
     "metadata": {},
     "output_type": "execute_result"
    }
   ],
   "source": [
    "#Looking at distribution of class across Male and Female patients\n",
    "diabetes.groupby(['Gender','class'])['Gender'].count()"
   ]
  },
  {
   "cell_type": "code",
   "execution_count": 17,
   "metadata": {},
   "outputs": [
    {
     "data": {
      "text/plain": [
       "<AxesSubplot:>"
      ]
     },
     "execution_count": 17,
     "metadata": {},
     "output_type": "execute_result"
    },
    {
     "data": {
      "image/png": "[encoded data removed]",
      "text/plain": [
       "<Figure size 720x576 with 1 Axes>"
      ]
     },
     "metadata": {},
     "output_type": "display_data"
    }
   ],
   "source": [
    "#Plotting donut chart with percentage of difference classes across difference gender\n",
    "\n",
    "diabetes.groupby(['class','Gender'])['Age'].count().plot(kind='pie',wedgeprops=dict(width=0.15),autopct='%3.1f%%', \n",
    "                                                                  figsize=(10, 8), fontsize=13, startangle=20, \n",
    "                                                                  label=\"\",shadow=True, colors=['green','green','red','red'])\n",
    "                                                                 "
   ]
  },
  {
   "cell_type": "markdown",
   "metadata": {},
   "source": [
    "Conclusion: 90% of female patients are disease positive , which constitutes 33% of total number of patients whereas 44% of male patients are disease positive, which constitutes 28% of total patient population. "
   ]
  },
  {
   "cell_type": "code",
   "execution_count": 18,
   "metadata": {},
   "outputs": [
    {
     "data": {
      "image/png": "[encoded data removed]",
      "text/plain": [
       "<Figure size 360x360 with 1 Axes>"
      ]
     },
     "metadata": {
      "needs_background": "light"
     },
     "output_type": "display_data"
    }
   ],
   "source": [
    "# Plotting box plots to understand distriburtion of Age across difference classes in Male and Female patients\n",
    "plt.figure(figsize=(5, 5))\n",
    "ax = sns.boxplot(x=\"Gender\", y=\"Age\", hue='class', data=diabetes, palette='Set3',linewidth=2.0)"
   ]
  },
  {
   "cell_type": "code",
   "execution_count": 19,
   "metadata": {},
   "outputs": [
    {
     "data": {
      "text/plain": [
       "Age  Gender  class   \n",
       "16   Male    Positive     1\n",
       "25   Female  Positive     1\n",
       "     Male    Positive     1\n",
       "26   Male    Negative     1\n",
       "27   Male    Negative     6\n",
       "28   Female  Positive     5\n",
       "             Negative     1\n",
       "     Male    Negative     3\n",
       "29   Male    Negative     1\n",
       "30   Female  Positive     6\n",
       "     Male    Negative    18\n",
       "             Positive     1\n",
       "31   Female  Positive     2\n",
       "     Male    Positive     1\n",
       "32   Female  Negative     1\n",
       "     Male    Positive     3\n",
       "             Negative     1\n",
       "33   Female  Negative     2\n",
       "     Male    Positive     2\n",
       "34   Female  Negative     2\n",
       "             Positive     1\n",
       "     Male    Negative     3\n",
       "35   Female  Positive    21\n",
       "     Male    Positive     6\n",
       "             Negative     3\n",
       "36   Female  Positive     2\n",
       "             Negative     1\n",
       "     Male    Negative     4\n",
       "             Positive     1\n",
       "37   Male    Negative     4\n",
       "             Positive     3\n",
       "38   Female  Positive     7\n",
       "     Male    Negative     7\n",
       "             Positive     6\n",
       "39   Female  Positive    11\n",
       "     Male    Positive     4\n",
       "             Negative     1\n",
       "40   Female  Positive    11\n",
       "     Male    Negative    10\n",
       "             Positive     3\n",
       "41   Male    Positive     4\n",
       "42   Male    Negative     6\n",
       "             Positive     3\n",
       "43   Female  Positive     6\n",
       "     Male    Negative    15\n",
       "             Positive     4\n",
       "44   Male    Negative     5\n",
       "             Positive     2\n",
       "45   Female  Positive     8\n",
       "     Male    Negative     8\n",
       "             Positive     2\n",
       "46   Female  Positive     1\n",
       "     Male    Negative     7\n",
       "47   Female  Positive     5\n",
       "     Male    Negative    11\n",
       "             Positive     5\n",
       "48   Female  Positive    18\n",
       "     Male    Positive    10\n",
       "49   Female  Positive     1\n",
       "     Male    Positive     5\n",
       "             Negative     1\n",
       "50   Female  Positive    12\n",
       "             Negative     4\n",
       "     Male    Negative     1\n",
       "             Positive     1\n",
       "51   Female  Negative     3\n",
       "             Positive     1\n",
       "     Male    Positive     1\n",
       "52   Male    Positive     3\n",
       "             Negative     1\n",
       "53   Female  Positive     5\n",
       "     Male    Negative    11\n",
       "             Positive     4\n",
       "54   Female  Positive     1\n",
       "     Male    Positive     8\n",
       "             Negative     7\n",
       "55   Female  Positive    14\n",
       "             Negative     1\n",
       "     Male    Positive     6\n",
       "             Negative     1\n",
       "56   Female  Positive     1\n",
       "     Male    Negative     4\n",
       "             Positive     3\n",
       "57   Male    Positive     9\n",
       "             Negative     6\n",
       "58   Female  Positive     4\n",
       "     Male    Negative     7\n",
       "             Positive     7\n",
       "59   Female  Negative     3\n",
       "             Positive     1\n",
       "60   Female  Positive     5\n",
       "     Male    Negative     5\n",
       "             Positive     5\n",
       "61   Female  Positive     4\n",
       "     Male    Positive     3\n",
       "             Negative     1\n",
       "62   Female  Positive     1\n",
       "     Male    Positive     6\n",
       "63   Male    Positive     3\n",
       "64   Male    Negative     4\n",
       "             Positive     1\n",
       "65   Female  Positive     3\n",
       "             Negative     1\n",
       "     Male    Negative     2\n",
       "66   Female  Positive     1\n",
       "     Male    Positive     7\n",
       "             Negative     1\n",
       "67   Male    Negative     5\n",
       "             Positive     3\n",
       "68   Female  Positive     7\n",
       "     Male    Positive     2\n",
       "             Negative     1\n",
       "69   Female  Positive     5\n",
       "70   Male    Positive     3\n",
       "             Negative     2\n",
       "72   Male    Negative     7\n",
       "             Positive     2\n",
       "79   Male    Positive     1\n",
       "85   Male    Positive     2\n",
       "90   Female  Positive     2\n",
       "Name: class, dtype: int64"
      ]
     },
     "execution_count": 19,
     "metadata": {},
     "output_type": "execute_result"
    }
   ],
   "source": [
    "diabetes.groupby(['Age','Gender'])['class'].value_counts()"
   ]
  },
  {
   "cell_type": "markdown",
   "metadata": {},
   "source": [
    "Conclusions: \n",
    "1. Median age for positive class in Males is ~55 years and for negative class is 45 years.  Median age for disease positive and negative Female patients is close to ~50 years.\n",
    "2. There is a high variability in the age of disease positive Male patients. The age of disease positive Male patients varies from 16 to 85 years.\n",
    "3. There is one outlier in disease positive Female patient population with 90 years of age."
   ]
  },
  {
   "cell_type": "markdown",
   "metadata": {},
   "source": [
    "# 5. Processing data for Building Models <br id=section5 ></br>"
   ]
  },
  {
   "cell_type": "code",
   "execution_count": 20,
   "metadata": {},
   "outputs": [],
   "source": [
    "df=diabetes.copy()"
   ]
  },
  {
   "cell_type": "code",
   "execution_count": 21,
   "metadata": {},
   "outputs": [
    {
     "name": "stdout",
     "output_type": "stream",
     "text": [
      "<class 'pandas.core.frame.DataFrame'>\n",
      "RangeIndex: 520 entries, 0 to 519\n",
      "Data columns (total 17 columns):\n",
      " #   Column              Non-Null Count  Dtype \n",
      "---  ------              --------------  ----- \n",
      " 0   Age                 520 non-null    int64 \n",
      " 1   Gender              520 non-null    object\n",
      " 2   Polyuria            520 non-null    object\n",
      " 3   Polydipsia          520 non-null    object\n",
      " 4   sudden weight loss  520 non-null    object\n",
      " 5   weakness            520 non-null    object\n",
      " 6   Polyphagia          520 non-null    object\n",
      " 7   Genital thrush      520 non-null    object\n",
      " 8   visual blurring     520 non-null    object\n",
      " 9   Itching             520 non-null    object\n",
      " 10  Irritability        520 non-null    object\n",
      " 11  delayed healing     520 non-null    object\n",
      " 12  partial paresis     520 non-null    object\n",
      " 13  muscle stiffness    520 non-null    object\n",
      " 14  Alopecia            520 non-null    object\n",
      " 15  Obesity             520 non-null    object\n",
      " 16  class               520 non-null    object\n",
      "dtypes: int64(1), object(16)\n",
      "memory usage: 69.2+ KB\n"
     ]
    }
   ],
   "source": [
    "df.info()"
   ]
  },
  {
   "cell_type": "code",
   "execution_count": 22,
   "metadata": {},
   "outputs": [
    {
     "data": {
      "text/html": [
       "<div>\n",
       "<style scoped>\n",
       "    .dataframe tbody tr th:only-of-type {\n",
       "        vertical-align: middle;\n",
       "    }\n",
       "\n",
       "    .dataframe tbody tr th {\n",
       "        vertical-align: top;\n",
       "    }\n",
       "\n",
       "    .dataframe thead th {\n",
       "        text-align: right;\n",
       "    }\n",
       "</style>\n",
       "<table border=\"1\" class=\"dataframe\">\n",
       "  <thead>\n",
       "    <tr style=\"text-align: right;\">\n",
       "      <th></th>\n",
       "      <th>Age</th>\n",
       "      <th>Gender</th>\n",
       "      <th>Polyuria</th>\n",
       "      <th>Polydipsia</th>\n",
       "      <th>sudden weight loss</th>\n",
       "      <th>weakness</th>\n",
       "      <th>Polyphagia</th>\n",
       "      <th>Genital thrush</th>\n",
       "      <th>visual blurring</th>\n",
       "      <th>Itching</th>\n",
       "      <th>Irritability</th>\n",
       "      <th>delayed healing</th>\n",
       "      <th>partial paresis</th>\n",
       "      <th>muscle stiffness</th>\n",
       "      <th>Alopecia</th>\n",
       "      <th>Obesity</th>\n",
       "      <th>class</th>\n",
       "    </tr>\n",
       "  </thead>\n",
       "  <tbody>\n",
       "    <tr>\n",
       "      <th>500</th>\n",
       "      <td>66</td>\n",
       "      <td>Male</td>\n",
       "      <td>Yes</td>\n",
       "      <td>No</td>\n",
       "      <td>Yes</td>\n",
       "      <td>No</td>\n",
       "      <td>No</td>\n",
       "      <td>Yes</td>\n",
       "      <td>No</td>\n",
       "      <td>Yes</td>\n",
       "      <td>Yes</td>\n",
       "      <td>No</td>\n",
       "      <td>No</td>\n",
       "      <td>No</td>\n",
       "      <td>Yes</td>\n",
       "      <td>No</td>\n",
       "      <td>Positive</td>\n",
       "    </tr>\n",
       "    <tr>\n",
       "      <th>501</th>\n",
       "      <td>67</td>\n",
       "      <td>Male</td>\n",
       "      <td>No</td>\n",
       "      <td>No</td>\n",
       "      <td>No</td>\n",
       "      <td>No</td>\n",
       "      <td>Yes</td>\n",
       "      <td>No</td>\n",
       "      <td>Yes</td>\n",
       "      <td>No</td>\n",
       "      <td>No</td>\n",
       "      <td>No</td>\n",
       "      <td>No</td>\n",
       "      <td>Yes</td>\n",
       "      <td>No</td>\n",
       "      <td>No</td>\n",
       "      <td>Negative</td>\n",
       "    </tr>\n",
       "    <tr>\n",
       "      <th>502</th>\n",
       "      <td>70</td>\n",
       "      <td>Male</td>\n",
       "      <td>Yes</td>\n",
       "      <td>No</td>\n",
       "      <td>No</td>\n",
       "      <td>No</td>\n",
       "      <td>Yes</td>\n",
       "      <td>No</td>\n",
       "      <td>Yes</td>\n",
       "      <td>Yes</td>\n",
       "      <td>No</td>\n",
       "      <td>Yes</td>\n",
       "      <td>Yes</td>\n",
       "      <td>Yes</td>\n",
       "      <td>Yes</td>\n",
       "      <td>No</td>\n",
       "      <td>Negative</td>\n",
       "    </tr>\n",
       "    <tr>\n",
       "      <th>503</th>\n",
       "      <td>44</td>\n",
       "      <td>Male</td>\n",
       "      <td>No</td>\n",
       "      <td>No</td>\n",
       "      <td>No</td>\n",
       "      <td>No</td>\n",
       "      <td>No</td>\n",
       "      <td>No</td>\n",
       "      <td>No</td>\n",
       "      <td>No</td>\n",
       "      <td>No</td>\n",
       "      <td>No</td>\n",
       "      <td>No</td>\n",
       "      <td>No</td>\n",
       "      <td>No</td>\n",
       "      <td>No</td>\n",
       "      <td>Negative</td>\n",
       "    </tr>\n",
       "    <tr>\n",
       "      <th>504</th>\n",
       "      <td>38</td>\n",
       "      <td>Male</td>\n",
       "      <td>No</td>\n",
       "      <td>No</td>\n",
       "      <td>No</td>\n",
       "      <td>No</td>\n",
       "      <td>No</td>\n",
       "      <td>No</td>\n",
       "      <td>No</td>\n",
       "      <td>No</td>\n",
       "      <td>No</td>\n",
       "      <td>No</td>\n",
       "      <td>No</td>\n",
       "      <td>No</td>\n",
       "      <td>No</td>\n",
       "      <td>No</td>\n",
       "      <td>Negative</td>\n",
       "    </tr>\n",
       "    <tr>\n",
       "      <th>505</th>\n",
       "      <td>35</td>\n",
       "      <td>Male</td>\n",
       "      <td>No</td>\n",
       "      <td>No</td>\n",
       "      <td>No</td>\n",
       "      <td>No</td>\n",
       "      <td>No</td>\n",
       "      <td>No</td>\n",
       "      <td>No</td>\n",
       "      <td>No</td>\n",
       "      <td>No</td>\n",
       "      <td>No</td>\n",
       "      <td>No</td>\n",
       "      <td>No</td>\n",
       "      <td>No</td>\n",
       "      <td>No</td>\n",
       "      <td>Negative</td>\n",
       "    </tr>\n",
       "    <tr>\n",
       "      <th>506</th>\n",
       "      <td>61</td>\n",
       "      <td>Male</td>\n",
       "      <td>No</td>\n",
       "      <td>No</td>\n",
       "      <td>No</td>\n",
       "      <td>Yes</td>\n",
       "      <td>No</td>\n",
       "      <td>Yes</td>\n",
       "      <td>No</td>\n",
       "      <td>Yes</td>\n",
       "      <td>No</td>\n",
       "      <td>Yes</td>\n",
       "      <td>No</td>\n",
       "      <td>No</td>\n",
       "      <td>Yes</td>\n",
       "      <td>No</td>\n",
       "      <td>Negative</td>\n",
       "    </tr>\n",
       "    <tr>\n",
       "      <th>507</th>\n",
       "      <td>60</td>\n",
       "      <td>Male</td>\n",
       "      <td>No</td>\n",
       "      <td>No</td>\n",
       "      <td>Yes</td>\n",
       "      <td>No</td>\n",
       "      <td>No</td>\n",
       "      <td>No</td>\n",
       "      <td>No</td>\n",
       "      <td>No</td>\n",
       "      <td>No</td>\n",
       "      <td>No</td>\n",
       "      <td>No</td>\n",
       "      <td>No</td>\n",
       "      <td>No</td>\n",
       "      <td>Yes</td>\n",
       "      <td>Negative</td>\n",
       "    </tr>\n",
       "    <tr>\n",
       "      <th>508</th>\n",
       "      <td>58</td>\n",
       "      <td>Male</td>\n",
       "      <td>No</td>\n",
       "      <td>No</td>\n",
       "      <td>No</td>\n",
       "      <td>Yes</td>\n",
       "      <td>No</td>\n",
       "      <td>No</td>\n",
       "      <td>No</td>\n",
       "      <td>Yes</td>\n",
       "      <td>No</td>\n",
       "      <td>Yes</td>\n",
       "      <td>No</td>\n",
       "      <td>Yes</td>\n",
       "      <td>Yes</td>\n",
       "      <td>No</td>\n",
       "      <td>Negative</td>\n",
       "    </tr>\n",
       "    <tr>\n",
       "      <th>509</th>\n",
       "      <td>54</td>\n",
       "      <td>Male</td>\n",
       "      <td>No</td>\n",
       "      <td>No</td>\n",
       "      <td>No</td>\n",
       "      <td>No</td>\n",
       "      <td>No</td>\n",
       "      <td>No</td>\n",
       "      <td>No</td>\n",
       "      <td>No</td>\n",
       "      <td>No</td>\n",
       "      <td>No</td>\n",
       "      <td>No</td>\n",
       "      <td>No</td>\n",
       "      <td>No</td>\n",
       "      <td>No</td>\n",
       "      <td>Negative</td>\n",
       "    </tr>\n",
       "    <tr>\n",
       "      <th>510</th>\n",
       "      <td>67</td>\n",
       "      <td>Male</td>\n",
       "      <td>No</td>\n",
       "      <td>No</td>\n",
       "      <td>No</td>\n",
       "      <td>Yes</td>\n",
       "      <td>No</td>\n",
       "      <td>No</td>\n",
       "      <td>No</td>\n",
       "      <td>Yes</td>\n",
       "      <td>No</td>\n",
       "      <td>Yes</td>\n",
       "      <td>No</td>\n",
       "      <td>No</td>\n",
       "      <td>Yes</td>\n",
       "      <td>No</td>\n",
       "      <td>Negative</td>\n",
       "    </tr>\n",
       "    <tr>\n",
       "      <th>511</th>\n",
       "      <td>66</td>\n",
       "      <td>Male</td>\n",
       "      <td>No</td>\n",
       "      <td>No</td>\n",
       "      <td>No</td>\n",
       "      <td>Yes</td>\n",
       "      <td>Yes</td>\n",
       "      <td>No</td>\n",
       "      <td>Yes</td>\n",
       "      <td>Yes</td>\n",
       "      <td>No</td>\n",
       "      <td>Yes</td>\n",
       "      <td>Yes</td>\n",
       "      <td>Yes</td>\n",
       "      <td>Yes</td>\n",
       "      <td>No</td>\n",
       "      <td>Negative</td>\n",
       "    </tr>\n",
       "    <tr>\n",
       "      <th>512</th>\n",
       "      <td>43</td>\n",
       "      <td>Male</td>\n",
       "      <td>No</td>\n",
       "      <td>No</td>\n",
       "      <td>No</td>\n",
       "      <td>No</td>\n",
       "      <td>No</td>\n",
       "      <td>No</td>\n",
       "      <td>No</td>\n",
       "      <td>No</td>\n",
       "      <td>No</td>\n",
       "      <td>No</td>\n",
       "      <td>No</td>\n",
       "      <td>No</td>\n",
       "      <td>Yes</td>\n",
       "      <td>No</td>\n",
       "      <td>Negative</td>\n",
       "    </tr>\n",
       "    <tr>\n",
       "      <th>513</th>\n",
       "      <td>62</td>\n",
       "      <td>Female</td>\n",
       "      <td>Yes</td>\n",
       "      <td>Yes</td>\n",
       "      <td>Yes</td>\n",
       "      <td>Yes</td>\n",
       "      <td>No</td>\n",
       "      <td>No</td>\n",
       "      <td>Yes</td>\n",
       "      <td>No</td>\n",
       "      <td>No</td>\n",
       "      <td>No</td>\n",
       "      <td>Yes</td>\n",
       "      <td>No</td>\n",
       "      <td>No</td>\n",
       "      <td>Yes</td>\n",
       "      <td>Positive</td>\n",
       "    </tr>\n",
       "    <tr>\n",
       "      <th>514</th>\n",
       "      <td>54</td>\n",
       "      <td>Female</td>\n",
       "      <td>Yes</td>\n",
       "      <td>Yes</td>\n",
       "      <td>Yes</td>\n",
       "      <td>Yes</td>\n",
       "      <td>Yes</td>\n",
       "      <td>No</td>\n",
       "      <td>No</td>\n",
       "      <td>No</td>\n",
       "      <td>No</td>\n",
       "      <td>No</td>\n",
       "      <td>Yes</td>\n",
       "      <td>No</td>\n",
       "      <td>No</td>\n",
       "      <td>No</td>\n",
       "      <td>Positive</td>\n",
       "    </tr>\n",
       "    <tr>\n",
       "      <th>515</th>\n",
       "      <td>39</td>\n",
       "      <td>Female</td>\n",
       "      <td>Yes</td>\n",
       "      <td>Yes</td>\n",
       "      <td>Yes</td>\n",
       "      <td>No</td>\n",
       "      <td>Yes</td>\n",
       "      <td>No</td>\n",
       "      <td>No</td>\n",
       "      <td>Yes</td>\n",
       "      <td>No</td>\n",
       "      <td>Yes</td>\n",
       "      <td>Yes</td>\n",
       "      <td>No</td>\n",
       "      <td>No</td>\n",
       "      <td>No</td>\n",
       "      <td>Positive</td>\n",
       "    </tr>\n",
       "    <tr>\n",
       "      <th>516</th>\n",
       "      <td>48</td>\n",
       "      <td>Female</td>\n",
       "      <td>Yes</td>\n",
       "      <td>Yes</td>\n",
       "      <td>Yes</td>\n",
       "      <td>Yes</td>\n",
       "      <td>Yes</td>\n",
       "      <td>No</td>\n",
       "      <td>No</td>\n",
       "      <td>Yes</td>\n",
       "      <td>Yes</td>\n",
       "      <td>Yes</td>\n",
       "      <td>Yes</td>\n",
       "      <td>No</td>\n",
       "      <td>No</td>\n",
       "      <td>No</td>\n",
       "      <td>Positive</td>\n",
       "    </tr>\n",
       "    <tr>\n",
       "      <th>517</th>\n",
       "      <td>58</td>\n",
       "      <td>Female</td>\n",
       "      <td>Yes</td>\n",
       "      <td>Yes</td>\n",
       "      <td>Yes</td>\n",
       "      <td>Yes</td>\n",
       "      <td>Yes</td>\n",
       "      <td>No</td>\n",
       "      <td>Yes</td>\n",
       "      <td>No</td>\n",
       "      <td>No</td>\n",
       "      <td>No</td>\n",
       "      <td>Yes</td>\n",
       "      <td>Yes</td>\n",
       "      <td>No</td>\n",
       "      <td>Yes</td>\n",
       "      <td>Positive</td>\n",
       "    </tr>\n",
       "    <tr>\n",
       "      <th>518</th>\n",
       "      <td>32</td>\n",
       "      <td>Female</td>\n",
       "      <td>No</td>\n",
       "      <td>No</td>\n",
       "      <td>No</td>\n",
       "      <td>Yes</td>\n",
       "      <td>No</td>\n",
       "      <td>No</td>\n",
       "      <td>Yes</td>\n",
       "      <td>Yes</td>\n",
       "      <td>No</td>\n",
       "      <td>Yes</td>\n",
       "      <td>No</td>\n",
       "      <td>No</td>\n",
       "      <td>Yes</td>\n",
       "      <td>No</td>\n",
       "      <td>Negative</td>\n",
       "    </tr>\n",
       "    <tr>\n",
       "      <th>519</th>\n",
       "      <td>42</td>\n",
       "      <td>Male</td>\n",
       "      <td>No</td>\n",
       "      <td>No</td>\n",
       "      <td>No</td>\n",
       "      <td>No</td>\n",
       "      <td>No</td>\n",
       "      <td>No</td>\n",
       "      <td>No</td>\n",
       "      <td>No</td>\n",
       "      <td>No</td>\n",
       "      <td>No</td>\n",
       "      <td>No</td>\n",
       "      <td>No</td>\n",
       "      <td>No</td>\n",
       "      <td>No</td>\n",
       "      <td>Negative</td>\n",
       "    </tr>\n",
       "  </tbody>\n",
       "</table>\n",
       "</div>"
      ],
      "text/plain": [
       "     Age  Gender Polyuria Polydipsia sudden weight loss weakness Polyphagia  \\\n",
       "500   66    Male      Yes         No                Yes       No         No   \n",
       "501   67    Male       No         No                 No       No        Yes   \n",
       "502   70    Male      Yes         No                 No       No        Yes   \n",
       "503   44    Male       No         No                 No       No         No   \n",
       "504   38    Male       No         No                 No       No         No   \n",
       "505   35    Male       No         No                 No       No         No   \n",
       "506   61    Male       No         No                 No      Yes         No   \n",
       "507   60    Male       No         No                Yes       No         No   \n",
       "508   58    Male       No         No                 No      Yes         No   \n",
       "509   54    Male       No         No                 No       No         No   \n",
       "510   67    Male       No         No                 No      Yes         No   \n",
       "511   66    Male       No         No                 No      Yes        Yes   \n",
       "512   43    Male       No         No                 No       No         No   \n",
       "513   62  Female      Yes        Yes                Yes      Yes         No   \n",
       "514   54  Female      Yes        Yes                Yes      Yes        Yes   \n",
       "515   39  Female      Yes        Yes                Yes       No        Yes   \n",
       "516   48  Female      Yes        Yes                Yes      Yes        Yes   \n",
       "517   58  Female      Yes        Yes                Yes      Yes        Yes   \n",
       "518   32  Female       No         No                 No      Yes         No   \n",
       "519   42    Male       No         No                 No       No         No   \n",
       "\n",
       "    Genital thrush visual blurring Itching Irritability delayed healing  \\\n",
       "500            Yes              No     Yes          Yes              No   \n",
       "501             No             Yes      No           No              No   \n",
       "502             No             Yes     Yes           No             Yes   \n",
       "503             No              No      No           No              No   \n",
       "504             No              No      No           No              No   \n",
       "505             No              No      No           No              No   \n",
       "506            Yes              No     Yes           No             Yes   \n",
       "507             No              No      No           No              No   \n",
       "508             No              No     Yes           No             Yes   \n",
       "509             No              No      No           No              No   \n",
       "510             No              No     Yes           No             Yes   \n",
       "511             No             Yes     Yes           No             Yes   \n",
       "512             No              No      No           No              No   \n",
       "513             No             Yes      No           No              No   \n",
       "514             No              No      No           No              No   \n",
       "515             No              No     Yes           No             Yes   \n",
       "516             No              No     Yes          Yes             Yes   \n",
       "517             No             Yes      No           No              No   \n",
       "518             No             Yes     Yes           No             Yes   \n",
       "519             No              No      No           No              No   \n",
       "\n",
       "    partial paresis muscle stiffness Alopecia Obesity     class  \n",
       "500              No               No      Yes      No  Positive  \n",
       "501              No              Yes       No      No  Negative  \n",
       "502             Yes              Yes      Yes      No  Negative  \n",
       "503              No               No       No      No  Negative  \n",
       "504              No               No       No      No  Negative  \n",
       "505              No               No       No      No  Negative  \n",
       "506              No               No      Yes      No  Negative  \n",
       "507              No               No       No     Yes  Negative  \n",
       "508              No              Yes      Yes      No  Negative  \n",
       "509              No               No       No      No  Negative  \n",
       "510              No               No      Yes      No  Negative  \n",
       "511             Yes              Yes      Yes      No  Negative  \n",
       "512              No               No      Yes      No  Negative  \n",
       "513             Yes               No       No     Yes  Positive  \n",
       "514             Yes               No       No      No  Positive  \n",
       "515             Yes               No       No      No  Positive  \n",
       "516             Yes               No       No      No  Positive  \n",
       "517             Yes              Yes       No     Yes  Positive  \n",
       "518              No               No      Yes      No  Negative  \n",
       "519              No               No       No      No  Negative  "
      ]
     },
     "execution_count": 22,
     "metadata": {},
     "output_type": "execute_result"
    }
   ],
   "source": [
    "df.tail(20)"
   ]
  },
  {
   "cell_type": "markdown",
   "metadata": {},
   "source": [
    "### 5.1  Segmenting data based on Age  <br id=section501 ></br>"
   ]
  },
  {
   "cell_type": "code",
   "execution_count": 23,
   "metadata": {},
   "outputs": [],
   "source": [
    "df['Age_Group'] = pd.cut(df['Age'],\n",
    "                         [0,17,30,40,50,60,99],\n",
    "                         labels=['0-17','18-30','31-40','41-50','51-60','>60'],include_lowest=True)"
   ]
  },
  {
   "cell_type": "code",
   "execution_count": 24,
   "metadata": {},
   "outputs": [],
   "source": [
    "df.drop(['Age'],axis=1, inplace=True)"
   ]
  },
  {
   "cell_type": "markdown",
   "metadata": {},
   "source": [
    "### 5.2  Segmenting data into X and y  <br id=section502 ></br>"
   ]
  },
  {
   "cell_type": "code",
   "execution_count": 25,
   "metadata": {},
   "outputs": [
    {
     "data": {
      "text/html": [
       "<div>\n",
       "<style scoped>\n",
       "    .dataframe tbody tr th:only-of-type {\n",
       "        vertical-align: middle;\n",
       "    }\n",
       "\n",
       "    .dataframe tbody tr th {\n",
       "        vertical-align: top;\n",
       "    }\n",
       "\n",
       "    .dataframe thead th {\n",
       "        text-align: right;\n",
       "    }\n",
       "</style>\n",
       "<table border=\"1\" class=\"dataframe\">\n",
       "  <thead>\n",
       "    <tr style=\"text-align: right;\">\n",
       "      <th></th>\n",
       "      <th>Gender</th>\n",
       "      <th>Polyuria</th>\n",
       "      <th>Polydipsia</th>\n",
       "      <th>sudden weight loss</th>\n",
       "      <th>weakness</th>\n",
       "      <th>Polyphagia</th>\n",
       "      <th>Genital thrush</th>\n",
       "      <th>visual blurring</th>\n",
       "      <th>Itching</th>\n",
       "      <th>Irritability</th>\n",
       "      <th>delayed healing</th>\n",
       "      <th>partial paresis</th>\n",
       "      <th>muscle stiffness</th>\n",
       "      <th>Alopecia</th>\n",
       "      <th>Obesity</th>\n",
       "      <th>Age_Group</th>\n",
       "    </tr>\n",
       "  </thead>\n",
       "  <tbody>\n",
       "    <tr>\n",
       "      <th>0</th>\n",
       "      <td>Male</td>\n",
       "      <td>No</td>\n",
       "      <td>Yes</td>\n",
       "      <td>No</td>\n",
       "      <td>Yes</td>\n",
       "      <td>No</td>\n",
       "      <td>No</td>\n",
       "      <td>No</td>\n",
       "      <td>Yes</td>\n",
       "      <td>No</td>\n",
       "      <td>Yes</td>\n",
       "      <td>No</td>\n",
       "      <td>Yes</td>\n",
       "      <td>Yes</td>\n",
       "      <td>Yes</td>\n",
       "      <td>31-40</td>\n",
       "    </tr>\n",
       "    <tr>\n",
       "      <th>1</th>\n",
       "      <td>Male</td>\n",
       "      <td>No</td>\n",
       "      <td>No</td>\n",
       "      <td>No</td>\n",
       "      <td>Yes</td>\n",
       "      <td>No</td>\n",
       "      <td>No</td>\n",
       "      <td>Yes</td>\n",
       "      <td>No</td>\n",
       "      <td>No</td>\n",
       "      <td>No</td>\n",
       "      <td>Yes</td>\n",
       "      <td>No</td>\n",
       "      <td>Yes</td>\n",
       "      <td>No</td>\n",
       "      <td>51-60</td>\n",
       "    </tr>\n",
       "    <tr>\n",
       "      <th>2</th>\n",
       "      <td>Male</td>\n",
       "      <td>Yes</td>\n",
       "      <td>No</td>\n",
       "      <td>No</td>\n",
       "      <td>Yes</td>\n",
       "      <td>Yes</td>\n",
       "      <td>No</td>\n",
       "      <td>No</td>\n",
       "      <td>Yes</td>\n",
       "      <td>No</td>\n",
       "      <td>Yes</td>\n",
       "      <td>No</td>\n",
       "      <td>Yes</td>\n",
       "      <td>Yes</td>\n",
       "      <td>No</td>\n",
       "      <td>41-50</td>\n",
       "    </tr>\n",
       "    <tr>\n",
       "      <th>3</th>\n",
       "      <td>Male</td>\n",
       "      <td>No</td>\n",
       "      <td>No</td>\n",
       "      <td>Yes</td>\n",
       "      <td>Yes</td>\n",
       "      <td>Yes</td>\n",
       "      <td>Yes</td>\n",
       "      <td>No</td>\n",
       "      <td>Yes</td>\n",
       "      <td>No</td>\n",
       "      <td>Yes</td>\n",
       "      <td>No</td>\n",
       "      <td>No</td>\n",
       "      <td>No</td>\n",
       "      <td>No</td>\n",
       "      <td>41-50</td>\n",
       "    </tr>\n",
       "    <tr>\n",
       "      <th>4</th>\n",
       "      <td>Male</td>\n",
       "      <td>Yes</td>\n",
       "      <td>Yes</td>\n",
       "      <td>Yes</td>\n",
       "      <td>Yes</td>\n",
       "      <td>Yes</td>\n",
       "      <td>No</td>\n",
       "      <td>Yes</td>\n",
       "      <td>Yes</td>\n",
       "      <td>Yes</td>\n",
       "      <td>Yes</td>\n",
       "      <td>Yes</td>\n",
       "      <td>Yes</td>\n",
       "      <td>Yes</td>\n",
       "      <td>Yes</td>\n",
       "      <td>51-60</td>\n",
       "    </tr>\n",
       "    <tr>\n",
       "      <th>...</th>\n",
       "      <td>...</td>\n",
       "      <td>...</td>\n",
       "      <td>...</td>\n",
       "      <td>...</td>\n",
       "      <td>...</td>\n",
       "      <td>...</td>\n",
       "      <td>...</td>\n",
       "      <td>...</td>\n",
       "      <td>...</td>\n",
       "      <td>...</td>\n",
       "      <td>...</td>\n",
       "      <td>...</td>\n",
       "      <td>...</td>\n",
       "      <td>...</td>\n",
       "      <td>...</td>\n",
       "      <td>...</td>\n",
       "    </tr>\n",
       "    <tr>\n",
       "      <th>515</th>\n",
       "      <td>Female</td>\n",
       "      <td>Yes</td>\n",
       "      <td>Yes</td>\n",
       "      <td>Yes</td>\n",
       "      <td>No</td>\n",
       "      <td>Yes</td>\n",
       "      <td>No</td>\n",
       "      <td>No</td>\n",
       "      <td>Yes</td>\n",
       "      <td>No</td>\n",
       "      <td>Yes</td>\n",
       "      <td>Yes</td>\n",
       "      <td>No</td>\n",
       "      <td>No</td>\n",
       "      <td>No</td>\n",
       "      <td>31-40</td>\n",
       "    </tr>\n",
       "    <tr>\n",
       "      <th>516</th>\n",
       "      <td>Female</td>\n",
       "      <td>Yes</td>\n",
       "      <td>Yes</td>\n",
       "      <td>Yes</td>\n",
       "      <td>Yes</td>\n",
       "      <td>Yes</td>\n",
       "      <td>No</td>\n",
       "      <td>No</td>\n",
       "      <td>Yes</td>\n",
       "      <td>Yes</td>\n",
       "      <td>Yes</td>\n",
       "      <td>Yes</td>\n",
       "      <td>No</td>\n",
       "      <td>No</td>\n",
       "      <td>No</td>\n",
       "      <td>41-50</td>\n",
       "    </tr>\n",
       "    <tr>\n",
       "      <th>517</th>\n",
       "      <td>Female</td>\n",
       "      <td>Yes</td>\n",
       "      <td>Yes</td>\n",
       "      <td>Yes</td>\n",
       "      <td>Yes</td>\n",
       "      <td>Yes</td>\n",
       "      <td>No</td>\n",
       "      <td>Yes</td>\n",
       "      <td>No</td>\n",
       "      <td>No</td>\n",
       "      <td>No</td>\n",
       "      <td>Yes</td>\n",
       "      <td>Yes</td>\n",
       "      <td>No</td>\n",
       "      <td>Yes</td>\n",
       "      <td>51-60</td>\n",
       "    </tr>\n",
       "    <tr>\n",
       "      <th>518</th>\n",
       "      <td>Female</td>\n",
       "      <td>No</td>\n",
       "      <td>No</td>\n",
       "      <td>No</td>\n",
       "      <td>Yes</td>\n",
       "      <td>No</td>\n",
       "      <td>No</td>\n",
       "      <td>Yes</td>\n",
       "      <td>Yes</td>\n",
       "      <td>No</td>\n",
       "      <td>Yes</td>\n",
       "      <td>No</td>\n",
       "      <td>No</td>\n",
       "      <td>Yes</td>\n",
       "      <td>No</td>\n",
       "      <td>31-40</td>\n",
       "    </tr>\n",
       "    <tr>\n",
       "      <th>519</th>\n",
       "      <td>Male</td>\n",
       "      <td>No</td>\n",
       "      <td>No</td>\n",
       "      <td>No</td>\n",
       "      <td>No</td>\n",
       "      <td>No</td>\n",
       "      <td>No</td>\n",
       "      <td>No</td>\n",
       "      <td>No</td>\n",
       "      <td>No</td>\n",
       "      <td>No</td>\n",
       "      <td>No</td>\n",
       "      <td>No</td>\n",
       "      <td>No</td>\n",
       "      <td>No</td>\n",
       "      <td>41-50</td>\n",
       "    </tr>\n",
       "  </tbody>\n",
       "</table>\n",
       "<p>520 rows × 16 columns</p>\n",
       "</div>"
      ],
      "text/plain": [
       "     Gender Polyuria Polydipsia sudden weight loss weakness Polyphagia  \\\n",
       "0      Male       No        Yes                 No      Yes         No   \n",
       "1      Male       No         No                 No      Yes         No   \n",
       "2      Male      Yes         No                 No      Yes        Yes   \n",
       "3      Male       No         No                Yes      Yes        Yes   \n",
       "4      Male      Yes        Yes                Yes      Yes        Yes   \n",
       "..      ...      ...        ...                ...      ...        ...   \n",
       "515  Female      Yes        Yes                Yes       No        Yes   \n",
       "516  Female      Yes        Yes                Yes      Yes        Yes   \n",
       "517  Female      Yes        Yes                Yes      Yes        Yes   \n",
       "518  Female       No         No                 No      Yes         No   \n",
       "519    Male       No         No                 No       No         No   \n",
       "\n",
       "    Genital thrush visual blurring Itching Irritability delayed healing  \\\n",
       "0               No              No     Yes           No             Yes   \n",
       "1               No             Yes      No           No              No   \n",
       "2               No              No     Yes           No             Yes   \n",
       "3              Yes              No     Yes           No             Yes   \n",
       "4               No             Yes     Yes          Yes             Yes   \n",
       "..             ...             ...     ...          ...             ...   \n",
       "515             No              No     Yes           No             Yes   \n",
       "516             No              No     Yes          Yes             Yes   \n",
       "517             No             Yes      No           No              No   \n",
       "518             No             Yes     Yes           No             Yes   \n",
       "519             No              No      No           No              No   \n",
       "\n",
       "    partial paresis muscle stiffness Alopecia Obesity Age_Group  \n",
       "0                No              Yes      Yes     Yes     31-40  \n",
       "1               Yes               No      Yes      No     51-60  \n",
       "2                No              Yes      Yes      No     41-50  \n",
       "3                No               No       No      No     41-50  \n",
       "4               Yes              Yes      Yes     Yes     51-60  \n",
       "..              ...              ...      ...     ...       ...  \n",
       "515             Yes               No       No      No     31-40  \n",
       "516             Yes               No       No      No     41-50  \n",
       "517             Yes              Yes       No     Yes     51-60  \n",
       "518              No               No      Yes      No     31-40  \n",
       "519              No               No       No      No     41-50  \n",
       "\n",
       "[520 rows x 16 columns]"
      ]
     },
     "execution_count": 25,
     "metadata": {},
     "output_type": "execute_result"
    }
   ],
   "source": [
    "# Defining X and Y \n",
    "X = df.loc[:,df.columns != 'class']\n",
    "X"
   ]
  },
  {
   "cell_type": "code",
   "execution_count": 26,
   "metadata": {},
   "outputs": [],
   "source": [
    "y = df.loc[:,df.columns == 'class']  # y = df.class is giving syntax error most likely since class is a keyword in python"
   ]
  },
  {
   "cell_type": "markdown",
   "metadata": {},
   "source": [
    "### 5.3 Splitting data into train and test <br id=section503 ></br>"
   ]
  },
  {
   "cell_type": "code",
   "execution_count": 27,
   "metadata": {},
   "outputs": [],
   "source": [
    "#Splitting data into train and test\n",
    "from sklearn.model_selection import train_test_split\n",
    "X_train, X_test, y_train, y_test = train_test_split(X, y, test_size=0.20, random_state=4, stratify = y)"
   ]
  },
  {
   "cell_type": "code",
   "execution_count": 28,
   "metadata": {},
   "outputs": [
    {
     "name": "stdout",
     "output_type": "stream",
     "text": [
      "(416, 16)\n",
      "(416, 1)\n"
     ]
    }
   ],
   "source": [
    "print(X_train.shape)\n",
    "print(y_train.shape)"
   ]
  },
  {
   "cell_type": "code",
   "execution_count": 29,
   "metadata": {},
   "outputs": [
    {
     "data": {
      "text/plain": [
       "Age_Group\n",
       "0-17       1\n",
       "18-30     40\n",
       "31-40    102\n",
       "41-50    112\n",
       "51-60    101\n",
       ">60       60\n",
       "Name: Age_Group, dtype: int64"
      ]
     },
     "execution_count": 29,
     "metadata": {},
     "output_type": "execute_result"
    }
   ],
   "source": [
    "grouped=X_train.groupby([\"Age_Group\"])[\"Age_Group\"]\n",
    "grouped.count()"
   ]
  },
  {
   "cell_type": "code",
   "execution_count": 30,
   "metadata": {},
   "outputs": [
    {
     "data": {
      "text/plain": [
       "Age_Group\n",
       "0-17      0\n",
       "18-30     4\n",
       "31-40    21\n",
       "41-50    33\n",
       "51-60    26\n",
       ">60      20\n",
       "Name: Age_Group, dtype: int64"
      ]
     },
     "execution_count": 30,
     "metadata": {},
     "output_type": "execute_result"
    }
   ],
   "source": [
    "grouped=X_test.groupby([\"Age_Group\"])[\"Age_Group\"]\n",
    "grouped.count()"
   ]
  },
  {
   "cell_type": "markdown",
   "metadata": {},
   "source": [
    "### 5.4 Encoding categorical columns  <br id=section504 ></br>"
   ]
  },
  {
   "cell_type": "markdown",
   "metadata": {},
   "source": [
    "### 5.4.1 Encoding train data  <br id=section50401 ></br>"
   ]
  },
  {
   "cell_type": "code",
   "execution_count": 31,
   "metadata": {},
   "outputs": [
    {
     "data": {
      "text/plain": [
       "0"
      ]
     },
     "execution_count": 31,
     "metadata": {},
     "output_type": "execute_result"
    }
   ],
   "source": [
    "cols= X_train.columns\n",
    "num_cols = X_train._get_numeric_data().columns\n",
    "len(num_cols)"
   ]
  },
  {
   "cell_type": "code",
   "execution_count": 32,
   "metadata": {},
   "outputs": [],
   "source": [
    "cat_cols = X_train.columns"
   ]
  },
  {
   "cell_type": "code",
   "execution_count": 33,
   "metadata": {},
   "outputs": [
    {
     "data": {
      "text/plain": [
       "16"
      ]
     },
     "execution_count": 33,
     "metadata": {},
     "output_type": "execute_result"
    }
   ],
   "source": [
    "len(cat_cols)"
   ]
  },
  {
   "cell_type": "code",
   "execution_count": 34,
   "metadata": {},
   "outputs": [
    {
     "name": "stderr",
     "output_type": "stream",
     "text": [
      "C:\\ProgramData\\Anaconda3\\lib\\site-packages\\ipykernel_launcher.py:8: SettingWithCopyWarning: \n",
      "A value is trying to be set on a copy of a slice from a DataFrame.\n",
      "Try using .loc[row_indexer,col_indexer] = value instead\n",
      "\n",
      "See the caveats in the documentation: https://pandas.pydata.org/pandas-docs/stable/user_guide/indexing.html#returning-a-view-versus-a-copy\n",
      "  \n"
     ]
    }
   ],
   "source": [
    "# Using Label encoder to convert non-numerical labels to numerical labels. \n",
    "# Label encoder is used because all categorical columns are Binary\n",
    "\n",
    "from sklearn.preprocessing import LabelEncoder  \n",
    "number = LabelEncoder()\n",
    "# transform data\n",
    "for i in cat_cols:\n",
    "    X_train [i] = number.fit_transform(X_train[i].astype('str'))\n"
   ]
  },
  {
   "cell_type": "code",
   "execution_count": 35,
   "metadata": {},
   "outputs": [
    {
     "data": {
      "text/plain": [
       "(416, 16)"
      ]
     },
     "execution_count": 35,
     "metadata": {},
     "output_type": "execute_result"
    }
   ],
   "source": [
    "X_train.shape"
   ]
  },
  {
   "cell_type": "code",
   "execution_count": 36,
   "metadata": {},
   "outputs": [],
   "source": [
    "# Using dummy enocding for Age_Group since there are 6 nominal categories\n",
    "X_train= pd.get_dummies(X_train, columns = ['Age_Group'])"
   ]
  },
  {
   "cell_type": "code",
   "execution_count": 37,
   "metadata": {},
   "outputs": [
    {
     "data": {
      "text/plain": [
       "(416, 21)"
      ]
     },
     "execution_count": 37,
     "metadata": {},
     "output_type": "execute_result"
    }
   ],
   "source": [
    "X_train.shape"
   ]
  },
  {
   "cell_type": "markdown",
   "metadata": {},
   "source": [
    "### 5.4.2 Encoding test data  <br id=section50402 ></br>"
   ]
  },
  {
   "cell_type": "code",
   "execution_count": 38,
   "metadata": {},
   "outputs": [
    {
     "data": {
      "text/html": [
       "<div>\n",
       "<style scoped>\n",
       "    .dataframe tbody tr th:only-of-type {\n",
       "        vertical-align: middle;\n",
       "    }\n",
       "\n",
       "    .dataframe tbody tr th {\n",
       "        vertical-align: top;\n",
       "    }\n",
       "\n",
       "    .dataframe thead th {\n",
       "        text-align: right;\n",
       "    }\n",
       "</style>\n",
       "<table border=\"1\" class=\"dataframe\">\n",
       "  <thead>\n",
       "    <tr style=\"text-align: right;\">\n",
       "      <th></th>\n",
       "      <th>Gender</th>\n",
       "      <th>Polyuria</th>\n",
       "      <th>Polydipsia</th>\n",
       "      <th>sudden weight loss</th>\n",
       "      <th>weakness</th>\n",
       "      <th>Polyphagia</th>\n",
       "      <th>Genital thrush</th>\n",
       "      <th>visual blurring</th>\n",
       "      <th>Itching</th>\n",
       "      <th>Irritability</th>\n",
       "      <th>delayed healing</th>\n",
       "      <th>partial paresis</th>\n",
       "      <th>muscle stiffness</th>\n",
       "      <th>Alopecia</th>\n",
       "      <th>Obesity</th>\n",
       "      <th>Age_Group</th>\n",
       "    </tr>\n",
       "  </thead>\n",
       "  <tbody>\n",
       "    <tr>\n",
       "      <th>446</th>\n",
       "      <td>Female</td>\n",
       "      <td>Yes</td>\n",
       "      <td>Yes</td>\n",
       "      <td>Yes</td>\n",
       "      <td>No</td>\n",
       "      <td>Yes</td>\n",
       "      <td>No</td>\n",
       "      <td>No</td>\n",
       "      <td>No</td>\n",
       "      <td>No</td>\n",
       "      <td>Yes</td>\n",
       "      <td>Yes</td>\n",
       "      <td>No</td>\n",
       "      <td>No</td>\n",
       "      <td>No</td>\n",
       "      <td>41-50</td>\n",
       "    </tr>\n",
       "    <tr>\n",
       "      <th>337</th>\n",
       "      <td>Female</td>\n",
       "      <td>Yes</td>\n",
       "      <td>Yes</td>\n",
       "      <td>Yes</td>\n",
       "      <td>Yes</td>\n",
       "      <td>No</td>\n",
       "      <td>No</td>\n",
       "      <td>Yes</td>\n",
       "      <td>No</td>\n",
       "      <td>No</td>\n",
       "      <td>No</td>\n",
       "      <td>Yes</td>\n",
       "      <td>No</td>\n",
       "      <td>No</td>\n",
       "      <td>Yes</td>\n",
       "      <td>51-60</td>\n",
       "    </tr>\n",
       "    <tr>\n",
       "      <th>54</th>\n",
       "      <td>Female</td>\n",
       "      <td>No</td>\n",
       "      <td>No</td>\n",
       "      <td>No</td>\n",
       "      <td>No</td>\n",
       "      <td>No</td>\n",
       "      <td>No</td>\n",
       "      <td>Yes</td>\n",
       "      <td>No</td>\n",
       "      <td>No</td>\n",
       "      <td>No</td>\n",
       "      <td>Yes</td>\n",
       "      <td>Yes</td>\n",
       "      <td>No</td>\n",
       "      <td>No</td>\n",
       "      <td>51-60</td>\n",
       "    </tr>\n",
       "    <tr>\n",
       "      <th>110</th>\n",
       "      <td>Female</td>\n",
       "      <td>No</td>\n",
       "      <td>No</td>\n",
       "      <td>Yes</td>\n",
       "      <td>Yes</td>\n",
       "      <td>No</td>\n",
       "      <td>No</td>\n",
       "      <td>Yes</td>\n",
       "      <td>Yes</td>\n",
       "      <td>No</td>\n",
       "      <td>Yes</td>\n",
       "      <td>No</td>\n",
       "      <td>No</td>\n",
       "      <td>No</td>\n",
       "      <td>No</td>\n",
       "      <td>51-60</td>\n",
       "    </tr>\n",
       "    <tr>\n",
       "      <th>279</th>\n",
       "      <td>Male</td>\n",
       "      <td>No</td>\n",
       "      <td>No</td>\n",
       "      <td>No</td>\n",
       "      <td>Yes</td>\n",
       "      <td>No</td>\n",
       "      <td>Yes</td>\n",
       "      <td>No</td>\n",
       "      <td>Yes</td>\n",
       "      <td>No</td>\n",
       "      <td>Yes</td>\n",
       "      <td>No</td>\n",
       "      <td>No</td>\n",
       "      <td>Yes</td>\n",
       "      <td>No</td>\n",
       "      <td>41-50</td>\n",
       "    </tr>\n",
       "  </tbody>\n",
       "</table>\n",
       "</div>"
      ],
      "text/plain": [
       "     Gender Polyuria Polydipsia sudden weight loss weakness Polyphagia  \\\n",
       "446  Female      Yes        Yes                Yes       No        Yes   \n",
       "337  Female      Yes        Yes                Yes      Yes         No   \n",
       "54   Female       No         No                 No       No         No   \n",
       "110  Female       No         No                Yes      Yes         No   \n",
       "279    Male       No         No                 No      Yes         No   \n",
       "\n",
       "    Genital thrush visual blurring Itching Irritability delayed healing  \\\n",
       "446             No              No      No           No             Yes   \n",
       "337             No             Yes      No           No              No   \n",
       "54              No             Yes      No           No              No   \n",
       "110             No             Yes     Yes           No             Yes   \n",
       "279            Yes              No     Yes           No             Yes   \n",
       "\n",
       "    partial paresis muscle stiffness Alopecia Obesity Age_Group  \n",
       "446             Yes               No       No      No     41-50  \n",
       "337             Yes               No       No     Yes     51-60  \n",
       "54              Yes              Yes       No      No     51-60  \n",
       "110              No               No       No      No     51-60  \n",
       "279              No               No      Yes      No     41-50  "
      ]
     },
     "execution_count": 38,
     "metadata": {},
     "output_type": "execute_result"
    }
   ],
   "source": [
    "X_test.head()"
   ]
  },
  {
   "cell_type": "code",
   "execution_count": 39,
   "metadata": {},
   "outputs": [
    {
     "name": "stderr",
     "output_type": "stream",
     "text": [
      "C:\\ProgramData\\Anaconda3\\lib\\site-packages\\ipykernel_launcher.py:2: SettingWithCopyWarning: \n",
      "A value is trying to be set on a copy of a slice from a DataFrame.\n",
      "Try using .loc[row_indexer,col_indexer] = value instead\n",
      "\n",
      "See the caveats in the documentation: https://pandas.pydata.org/pandas-docs/stable/user_guide/indexing.html#returning-a-view-versus-a-copy\n",
      "  \n"
     ]
    }
   ],
   "source": [
    "for i in cat_cols:\n",
    "    X_test [i] = number.fit_transform(X_test[i].astype('str'))"
   ]
  },
  {
   "cell_type": "code",
   "execution_count": 40,
   "metadata": {},
   "outputs": [
    {
     "data": {
      "text/plain": [
       "(104, 16)"
      ]
     },
     "execution_count": 40,
     "metadata": {},
     "output_type": "execute_result"
    }
   ],
   "source": [
    "X_test.shape"
   ]
  },
  {
   "cell_type": "code",
   "execution_count": 41,
   "metadata": {},
   "outputs": [],
   "source": [
    "X_test= pd.get_dummies(X_test, columns = ['Age_Group'])"
   ]
  },
  {
   "cell_type": "code",
   "execution_count": 42,
   "metadata": {},
   "outputs": [
    {
     "data": {
      "text/plain": [
       "(104, 20)"
      ]
     },
     "execution_count": 42,
     "metadata": {},
     "output_type": "execute_result"
    }
   ],
   "source": [
    "X_test.shape"
   ]
  },
  {
   "cell_type": "code",
   "execution_count": 43,
   "metadata": {},
   "outputs": [
    {
     "name": "stderr",
     "output_type": "stream",
     "text": [
      "C:\\ProgramData\\Anaconda3\\lib\\site-packages\\ipykernel_launcher.py:1: SettingWithCopyWarning: \n",
      "A value is trying to be set on a copy of a slice from a DataFrame.\n",
      "Try using .loc[row_indexer,col_indexer] = value instead\n",
      "\n",
      "See the caveats in the documentation: https://pandas.pydata.org/pandas-docs/stable/user_guide/indexing.html#returning-a-view-versus-a-copy\n",
      "  \"\"\"Entry point for launching an IPython kernel.\n"
     ]
    }
   ],
   "source": [
    "y_test ['class'] = number.fit_transform(y_test ['class'].astype('str'))"
   ]
  },
  {
   "cell_type": "code",
   "execution_count": 44,
   "metadata": {},
   "outputs": [
    {
     "name": "stderr",
     "output_type": "stream",
     "text": [
      "C:\\ProgramData\\Anaconda3\\lib\\site-packages\\ipykernel_launcher.py:1: SettingWithCopyWarning: \n",
      "A value is trying to be set on a copy of a slice from a DataFrame.\n",
      "Try using .loc[row_indexer,col_indexer] = value instead\n",
      "\n",
      "See the caveats in the documentation: https://pandas.pydata.org/pandas-docs/stable/user_guide/indexing.html#returning-a-view-versus-a-copy\n",
      "  \"\"\"Entry point for launching an IPython kernel.\n"
     ]
    }
   ],
   "source": [
    "y_train ['class'] = number.fit_transform(y_train ['class'].astype('str'))"
   ]
  },
  {
   "cell_type": "markdown",
   "metadata": {},
   "source": [
    "### 5.4.3 Equalizing features in train and test data  <br id=section50403 ></br>"
   ]
  },
  {
   "cell_type": "code",
   "execution_count": 45,
   "metadata": {},
   "outputs": [
    {
     "data": {
      "text/plain": [
       "(416, 21)"
      ]
     },
     "execution_count": 45,
     "metadata": {},
     "output_type": "execute_result"
    }
   ],
   "source": [
    "X_train.shape"
   ]
  },
  {
   "cell_type": "code",
   "execution_count": 46,
   "metadata": {},
   "outputs": [
    {
     "data": {
      "text/plain": [
       "(104, 20)"
      ]
     },
     "execution_count": 46,
     "metadata": {},
     "output_type": "execute_result"
    }
   ],
   "source": [
    "X_test.shape"
   ]
  },
  {
   "cell_type": "code",
   "execution_count": 47,
   "metadata": {},
   "outputs": [],
   "source": [
    "# To equalize features , dropping age_geoup 0-17 in X_train which only havs one observation , which is an outlier based on Age\n",
    "\n",
    "X_train.drop(\"Age_Group_0\",axis=1,inplace=True)"
   ]
  },
  {
   "cell_type": "code",
   "execution_count": 48,
   "metadata": {},
   "outputs": [
    {
     "data": {
      "text/plain": [
       "(416, 20)"
      ]
     },
     "execution_count": 48,
     "metadata": {},
     "output_type": "execute_result"
    }
   ],
   "source": [
    "X_train.shape"
   ]
  },
  {
   "cell_type": "markdown",
   "metadata": {},
   "source": [
    "## 6. Checking for multicolinearity <br id=section6 ></br>"
   ]
  },
  {
   "cell_type": "code",
   "execution_count": 49,
   "metadata": {},
   "outputs": [],
   "source": [
    "df2=df.copy()"
   ]
  },
  {
   "cell_type": "code",
   "execution_count": 50,
   "metadata": {},
   "outputs": [],
   "source": [
    "cols =df2.columns\n",
    "num_cols = df2._get_numeric_data().columns\n",
    "cat_cols2= list(set(cols) - set(num_cols))"
   ]
  },
  {
   "cell_type": "code",
   "execution_count": 51,
   "metadata": {},
   "outputs": [],
   "source": [
    "from sklearn.preprocessing import LabelEncoder   \n",
    "number=LabelEncoder()\n",
    "for i in cat_cols2:\n",
    "    df2 [i] = number.fit_transform(df2[i].astype('str'))"
   ]
  },
  {
   "cell_type": "code",
   "execution_count": 52,
   "metadata": {},
   "outputs": [],
   "source": [
    "df2= pd.get_dummies(df2, columns = ['Age_Group'])"
   ]
  },
  {
   "cell_type": "code",
   "execution_count": 53,
   "metadata": {},
   "outputs": [
    {
     "data": {
      "text/html": [
       "<div>\n",
       "<style scoped>\n",
       "    .dataframe tbody tr th:only-of-type {\n",
       "        vertical-align: middle;\n",
       "    }\n",
       "\n",
       "    .dataframe tbody tr th {\n",
       "        vertical-align: top;\n",
       "    }\n",
       "\n",
       "    .dataframe thead th {\n",
       "        text-align: right;\n",
       "    }\n",
       "</style>\n",
       "<table border=\"1\" class=\"dataframe\">\n",
       "  <thead>\n",
       "    <tr style=\"text-align: right;\">\n",
       "      <th></th>\n",
       "      <th>Gender</th>\n",
       "      <th>Polyuria</th>\n",
       "      <th>Polydipsia</th>\n",
       "      <th>sudden weight loss</th>\n",
       "      <th>weakness</th>\n",
       "      <th>Polyphagia</th>\n",
       "      <th>Genital thrush</th>\n",
       "      <th>visual blurring</th>\n",
       "      <th>Itching</th>\n",
       "      <th>Irritability</th>\n",
       "      <th>delayed healing</th>\n",
       "      <th>partial paresis</th>\n",
       "      <th>muscle stiffness</th>\n",
       "      <th>Alopecia</th>\n",
       "      <th>Obesity</th>\n",
       "      <th>class</th>\n",
       "      <th>Age_Group_0</th>\n",
       "      <th>Age_Group_1</th>\n",
       "      <th>Age_Group_2</th>\n",
       "      <th>Age_Group_3</th>\n",
       "      <th>Age_Group_4</th>\n",
       "      <th>Age_Group_5</th>\n",
       "    </tr>\n",
       "  </thead>\n",
       "  <tbody>\n",
       "    <tr>\n",
       "      <th>0</th>\n",
       "      <td>1</td>\n",
       "      <td>0</td>\n",
       "      <td>1</td>\n",
       "      <td>0</td>\n",
       "      <td>1</td>\n",
       "      <td>0</td>\n",
       "      <td>0</td>\n",
       "      <td>0</td>\n",
       "      <td>1</td>\n",
       "      <td>0</td>\n",
       "      <td>1</td>\n",
       "      <td>0</td>\n",
       "      <td>1</td>\n",
       "      <td>1</td>\n",
       "      <td>1</td>\n",
       "      <td>1</td>\n",
       "      <td>0</td>\n",
       "      <td>0</td>\n",
       "      <td>1</td>\n",
       "      <td>0</td>\n",
       "      <td>0</td>\n",
       "      <td>0</td>\n",
       "    </tr>\n",
       "    <tr>\n",
       "      <th>1</th>\n",
       "      <td>1</td>\n",
       "      <td>0</td>\n",
       "      <td>0</td>\n",
       "      <td>0</td>\n",
       "      <td>1</td>\n",
       "      <td>0</td>\n",
       "      <td>0</td>\n",
       "      <td>1</td>\n",
       "      <td>0</td>\n",
       "      <td>0</td>\n",
       "      <td>0</td>\n",
       "      <td>1</td>\n",
       "      <td>0</td>\n",
       "      <td>1</td>\n",
       "      <td>0</td>\n",
       "      <td>1</td>\n",
       "      <td>0</td>\n",
       "      <td>0</td>\n",
       "      <td>0</td>\n",
       "      <td>0</td>\n",
       "      <td>1</td>\n",
       "      <td>0</td>\n",
       "    </tr>\n",
       "    <tr>\n",
       "      <th>2</th>\n",
       "      <td>1</td>\n",
       "      <td>1</td>\n",
       "      <td>0</td>\n",
       "      <td>0</td>\n",
       "      <td>1</td>\n",
       "      <td>1</td>\n",
       "      <td>0</td>\n",
       "      <td>0</td>\n",
       "      <td>1</td>\n",
       "      <td>0</td>\n",
       "      <td>1</td>\n",
       "      <td>0</td>\n",
       "      <td>1</td>\n",
       "      <td>1</td>\n",
       "      <td>0</td>\n",
       "      <td>1</td>\n",
       "      <td>0</td>\n",
       "      <td>0</td>\n",
       "      <td>0</td>\n",
       "      <td>1</td>\n",
       "      <td>0</td>\n",
       "      <td>0</td>\n",
       "    </tr>\n",
       "    <tr>\n",
       "      <th>3</th>\n",
       "      <td>1</td>\n",
       "      <td>0</td>\n",
       "      <td>0</td>\n",
       "      <td>1</td>\n",
       "      <td>1</td>\n",
       "      <td>1</td>\n",
       "      <td>1</td>\n",
       "      <td>0</td>\n",
       "      <td>1</td>\n",
       "      <td>0</td>\n",
       "      <td>1</td>\n",
       "      <td>0</td>\n",
       "      <td>0</td>\n",
       "      <td>0</td>\n",
       "      <td>0</td>\n",
       "      <td>1</td>\n",
       "      <td>0</td>\n",
       "      <td>0</td>\n",
       "      <td>0</td>\n",
       "      <td>1</td>\n",
       "      <td>0</td>\n",
       "      <td>0</td>\n",
       "    </tr>\n",
       "    <tr>\n",
       "      <th>4</th>\n",
       "      <td>1</td>\n",
       "      <td>1</td>\n",
       "      <td>1</td>\n",
       "      <td>1</td>\n",
       "      <td>1</td>\n",
       "      <td>1</td>\n",
       "      <td>0</td>\n",
       "      <td>1</td>\n",
       "      <td>1</td>\n",
       "      <td>1</td>\n",
       "      <td>1</td>\n",
       "      <td>1</td>\n",
       "      <td>1</td>\n",
       "      <td>1</td>\n",
       "      <td>1</td>\n",
       "      <td>1</td>\n",
       "      <td>0</td>\n",
       "      <td>0</td>\n",
       "      <td>0</td>\n",
       "      <td>0</td>\n",
       "      <td>1</td>\n",
       "      <td>0</td>\n",
       "    </tr>\n",
       "    <tr>\n",
       "      <th>...</th>\n",
       "      <td>...</td>\n",
       "      <td>...</td>\n",
       "      <td>...</td>\n",
       "      <td>...</td>\n",
       "      <td>...</td>\n",
       "      <td>...</td>\n",
       "      <td>...</td>\n",
       "      <td>...</td>\n",
       "      <td>...</td>\n",
       "      <td>...</td>\n",
       "      <td>...</td>\n",
       "      <td>...</td>\n",
       "      <td>...</td>\n",
       "      <td>...</td>\n",
       "      <td>...</td>\n",
       "      <td>...</td>\n",
       "      <td>...</td>\n",
       "      <td>...</td>\n",
       "      <td>...</td>\n",
       "      <td>...</td>\n",
       "      <td>...</td>\n",
       "      <td>...</td>\n",
       "    </tr>\n",
       "    <tr>\n",
       "      <th>515</th>\n",
       "      <td>0</td>\n",
       "      <td>1</td>\n",
       "      <td>1</td>\n",
       "      <td>1</td>\n",
       "      <td>0</td>\n",
       "      <td>1</td>\n",
       "      <td>0</td>\n",
       "      <td>0</td>\n",
       "      <td>1</td>\n",
       "      <td>0</td>\n",
       "      <td>1</td>\n",
       "      <td>1</td>\n",
       "      <td>0</td>\n",
       "      <td>0</td>\n",
       "      <td>0</td>\n",
       "      <td>1</td>\n",
       "      <td>0</td>\n",
       "      <td>0</td>\n",
       "      <td>1</td>\n",
       "      <td>0</td>\n",
       "      <td>0</td>\n",
       "      <td>0</td>\n",
       "    </tr>\n",
       "    <tr>\n",
       "      <th>516</th>\n",
       "      <td>0</td>\n",
       "      <td>1</td>\n",
       "      <td>1</td>\n",
       "      <td>1</td>\n",
       "      <td>1</td>\n",
       "      <td>1</td>\n",
       "      <td>0</td>\n",
       "      <td>0</td>\n",
       "      <td>1</td>\n",
       "      <td>1</td>\n",
       "      <td>1</td>\n",
       "      <td>1</td>\n",
       "      <td>0</td>\n",
       "      <td>0</td>\n",
       "      <td>0</td>\n",
       "      <td>1</td>\n",
       "      <td>0</td>\n",
       "      <td>0</td>\n",
       "      <td>0</td>\n",
       "      <td>1</td>\n",
       "      <td>0</td>\n",
       "      <td>0</td>\n",
       "    </tr>\n",
       "    <tr>\n",
       "      <th>517</th>\n",
       "      <td>0</td>\n",
       "      <td>1</td>\n",
       "      <td>1</td>\n",
       "      <td>1</td>\n",
       "      <td>1</td>\n",
       "      <td>1</td>\n",
       "      <td>0</td>\n",
       "      <td>1</td>\n",
       "      <td>0</td>\n",
       "      <td>0</td>\n",
       "      <td>0</td>\n",
       "      <td>1</td>\n",
       "      <td>1</td>\n",
       "      <td>0</td>\n",
       "      <td>1</td>\n",
       "      <td>1</td>\n",
       "      <td>0</td>\n",
       "      <td>0</td>\n",
       "      <td>0</td>\n",
       "      <td>0</td>\n",
       "      <td>1</td>\n",
       "      <td>0</td>\n",
       "    </tr>\n",
       "    <tr>\n",
       "      <th>518</th>\n",
       "      <td>0</td>\n",
       "      <td>0</td>\n",
       "      <td>0</td>\n",
       "      <td>0</td>\n",
       "      <td>1</td>\n",
       "      <td>0</td>\n",
       "      <td>0</td>\n",
       "      <td>1</td>\n",
       "      <td>1</td>\n",
       "      <td>0</td>\n",
       "      <td>1</td>\n",
       "      <td>0</td>\n",
       "      <td>0</td>\n",
       "      <td>1</td>\n",
       "      <td>0</td>\n",
       "      <td>0</td>\n",
       "      <td>0</td>\n",
       "      <td>0</td>\n",
       "      <td>1</td>\n",
       "      <td>0</td>\n",
       "      <td>0</td>\n",
       "      <td>0</td>\n",
       "    </tr>\n",
       "    <tr>\n",
       "      <th>519</th>\n",
       "      <td>1</td>\n",
       "      <td>0</td>\n",
       "      <td>0</td>\n",
       "      <td>0</td>\n",
       "      <td>0</td>\n",
       "      <td>0</td>\n",
       "      <td>0</td>\n",
       "      <td>0</td>\n",
       "      <td>0</td>\n",
       "      <td>0</td>\n",
       "      <td>0</td>\n",
       "      <td>0</td>\n",
       "      <td>0</td>\n",
       "      <td>0</td>\n",
       "      <td>0</td>\n",
       "      <td>0</td>\n",
       "      <td>0</td>\n",
       "      <td>0</td>\n",
       "      <td>0</td>\n",
       "      <td>1</td>\n",
       "      <td>0</td>\n",
       "      <td>0</td>\n",
       "    </tr>\n",
       "  </tbody>\n",
       "</table>\n",
       "<p>520 rows × 22 columns</p>\n",
       "</div>"
      ],
      "text/plain": [
       "     Gender  Polyuria  Polydipsia  sudden weight loss  weakness  Polyphagia  \\\n",
       "0         1         0           1                   0         1           0   \n",
       "1         1         0           0                   0         1           0   \n",
       "2         1         1           0                   0         1           1   \n",
       "3         1         0           0                   1         1           1   \n",
       "4         1         1           1                   1         1           1   \n",
       "..      ...       ...         ...                 ...       ...         ...   \n",
       "515       0         1           1                   1         0           1   \n",
       "516       0         1           1                   1         1           1   \n",
       "517       0         1           1                   1         1           1   \n",
       "518       0         0           0                   0         1           0   \n",
       "519       1         0           0                   0         0           0   \n",
       "\n",
       "     Genital thrush  visual blurring  Itching  Irritability  delayed healing  \\\n",
       "0                 0                0        1             0                1   \n",
       "1                 0                1        0             0                0   \n",
       "2                 0                0        1             0                1   \n",
       "3                 1                0        1             0                1   \n",
       "4                 0                1        1             1                1   \n",
       "..              ...              ...      ...           ...              ...   \n",
       "515               0                0        1             0                1   \n",
       "516               0                0        1             1                1   \n",
       "517               0                1        0             0                0   \n",
       "518               0                1        1             0                1   \n",
       "519               0                0        0             0                0   \n",
       "\n",
       "     partial paresis  muscle stiffness  Alopecia  Obesity  class  Age_Group_0  \\\n",
       "0                  0                 1         1        1      1            0   \n",
       "1                  1                 0         1        0      1            0   \n",
       "2                  0                 1         1        0      1            0   \n",
       "3                  0                 0         0        0      1            0   \n",
       "4                  1                 1         1        1      1            0   \n",
       "..               ...               ...       ...      ...    ...          ...   \n",
       "515                1                 0         0        0      1            0   \n",
       "516                1                 0         0        0      1            0   \n",
       "517                1                 1         0        1      1            0   \n",
       "518                0                 0         1        0      0            0   \n",
       "519                0                 0         0        0      0            0   \n",
       "\n",
       "     Age_Group_1  Age_Group_2  Age_Group_3  Age_Group_4  Age_Group_5  \n",
       "0              0            1            0            0            0  \n",
       "1              0            0            0            1            0  \n",
       "2              0            0            1            0            0  \n",
       "3              0            0            1            0            0  \n",
       "4              0            0            0            1            0  \n",
       "..           ...          ...          ...          ...          ...  \n",
       "515            0            1            0            0            0  \n",
       "516            0            0            1            0            0  \n",
       "517            0            0            0            1            0  \n",
       "518            0            1            0            0            0  \n",
       "519            0            0            1            0            0  \n",
       "\n",
       "[520 rows x 22 columns]"
      ]
     },
     "execution_count": 53,
     "metadata": {},
     "output_type": "execute_result"
    }
   ],
   "source": [
    "df2"
   ]
  },
  {
   "cell_type": "code",
   "execution_count": 54,
   "metadata": {},
   "outputs": [
    {
     "data": {
      "text/plain": [
       "Text(0.5, 1.0, 'Correlation between features')"
      ]
     },
     "execution_count": 54,
     "metadata": {},
     "output_type": "execute_result"
    },
    {
     "data": {
      "image/png": "[encoded data removed]",
      "text/plain": [
       "<Figure size 720x720 with 2 Axes>"
      ]
     },
     "metadata": {
      "needs_background": "light"
     },
     "output_type": "display_data"
    }
   ],
   "source": [
    "corr = df2.corr()\n",
    "plt.figure(figsize=(10,10))\n",
    "sns.heatmap(corr,vmax=.8, linewidth=.01, square = True, annot = False,cmap='YlGnBu',linecolor ='black')\n",
    "plt.title('Correlation between features')"
   ]
  },
  {
   "cell_type": "code",
   "execution_count": 55,
   "metadata": {},
   "outputs": [
    {
     "data": {
      "text/plain": [
       "class                 1.000000\n",
       "Polyuria              0.665922\n",
       "Polydipsia            0.648734\n",
       "Gender                0.449233\n",
       "sudden weight loss    0.436568\n",
       "partial paresis       0.432288\n",
       "Polyphagia            0.342504\n",
       "Irritability          0.299467\n",
       "Alopecia              0.267512\n",
       "visual blurring       0.251300\n",
       "weakness              0.243275\n",
       "Age_Group_1           0.185733\n",
       "muscle stiffness      0.122474\n",
       "Genital thrush        0.110288\n",
       "Age_Group_2           0.077276\n",
       "Age_Group_5           0.074162\n",
       "Obesity               0.072173\n",
       "delayed healing       0.046980\n",
       "Age_Group_0           0.034702\n",
       "Age_Group_3           0.019664\n",
       "Itching               0.013384\n",
       "Age_Group_4           0.001415\n",
       "Name: class, dtype: float64"
      ]
     },
     "execution_count": 55,
     "metadata": {},
     "output_type": "execute_result"
    }
   ],
   "source": [
    "corr_matrix=df2.corr().abs()\n",
    "corr_matrix['class'].sort_values(ascending=False)"
   ]
  },
  {
   "cell_type": "code",
   "execution_count": 56,
   "metadata": {},
   "outputs": [],
   "source": [
    "corr_matrix1 = df2.corr().abs()"
   ]
  },
  {
   "cell_type": "code",
   "execution_count": 57,
   "metadata": {},
   "outputs": [
    {
     "data": {
      "text/html": [
       "<div>\n",
       "<style scoped>\n",
       "    .dataframe tbody tr th:only-of-type {\n",
       "        vertical-align: middle;\n",
       "    }\n",
       "\n",
       "    .dataframe tbody tr th {\n",
       "        vertical-align: top;\n",
       "    }\n",
       "\n",
       "    .dataframe thead th {\n",
       "        text-align: right;\n",
       "    }\n",
       "</style>\n",
       "<table border=\"1\" class=\"dataframe\">\n",
       "  <thead>\n",
       "    <tr style=\"text-align: right;\">\n",
       "      <th></th>\n",
       "      <th>Gender</th>\n",
       "      <th>Polyuria</th>\n",
       "      <th>Polydipsia</th>\n",
       "      <th>sudden weight loss</th>\n",
       "      <th>weakness</th>\n",
       "      <th>Polyphagia</th>\n",
       "      <th>Genital thrush</th>\n",
       "      <th>visual blurring</th>\n",
       "      <th>Itching</th>\n",
       "      <th>Irritability</th>\n",
       "      <th>delayed healing</th>\n",
       "      <th>partial paresis</th>\n",
       "      <th>muscle stiffness</th>\n",
       "      <th>Alopecia</th>\n",
       "      <th>Obesity</th>\n",
       "      <th>class</th>\n",
       "      <th>Age_Group_0</th>\n",
       "      <th>Age_Group_1</th>\n",
       "      <th>Age_Group_2</th>\n",
       "      <th>Age_Group_3</th>\n",
       "      <th>Age_Group_4</th>\n",
       "      <th>Age_Group_5</th>\n",
       "    </tr>\n",
       "  </thead>\n",
       "  <tbody>\n",
       "    <tr>\n",
       "      <th>Gender</th>\n",
       "      <td>1.000000</td>\n",
       "      <td>0.268894</td>\n",
       "      <td>0.312262</td>\n",
       "      <td>0.281840</td>\n",
       "      <td>0.124490</td>\n",
       "      <td>0.219968</td>\n",
       "      <td>0.208961</td>\n",
       "      <td>0.208092</td>\n",
       "      <td>0.052496</td>\n",
       "      <td>0.013735</td>\n",
       "      <td>0.101978</td>\n",
       "      <td>0.332288</td>\n",
       "      <td>0.090542</td>\n",
       "      <td>0.327871</td>\n",
       "      <td>0.005396</td>\n",
       "      <td>0.449233</td>\n",
       "      <td>0.033584</td>\n",
       "      <td>0.046479</td>\n",
       "      <td>0.146138</td>\n",
       "      <td>0.012988</td>\n",
       "      <td>0.073202</td>\n",
       "      <td>0.061169</td>\n",
       "    </tr>\n",
       "    <tr>\n",
       "      <th>Polyuria</th>\n",
       "      <td>0.268894</td>\n",
       "      <td>1.000000</td>\n",
       "      <td>0.598609</td>\n",
       "      <td>0.447207</td>\n",
       "      <td>0.263000</td>\n",
       "      <td>0.373873</td>\n",
       "      <td>0.087273</td>\n",
       "      <td>0.235095</td>\n",
       "      <td>0.088289</td>\n",
       "      <td>0.237740</td>\n",
       "      <td>0.149873</td>\n",
       "      <td>0.441664</td>\n",
       "      <td>0.152938</td>\n",
       "      <td>0.144192</td>\n",
       "      <td>0.126567</td>\n",
       "      <td>0.665922</td>\n",
       "      <td>0.044234</td>\n",
       "      <td>0.191143</td>\n",
       "      <td>0.017858</td>\n",
       "      <td>0.059545</td>\n",
       "      <td>0.008849</td>\n",
       "      <td>0.184506</td>\n",
       "    </tr>\n",
       "    <tr>\n",
       "      <th>Polydipsia</th>\n",
       "      <td>0.312262</td>\n",
       "      <td>0.598609</td>\n",
       "      <td>1.000000</td>\n",
       "      <td>0.405965</td>\n",
       "      <td>0.332453</td>\n",
       "      <td>0.316839</td>\n",
       "      <td>0.028081</td>\n",
       "      <td>0.331250</td>\n",
       "      <td>0.128716</td>\n",
       "      <td>0.203446</td>\n",
       "      <td>0.115691</td>\n",
       "      <td>0.442249</td>\n",
       "      <td>0.180723</td>\n",
       "      <td>0.310964</td>\n",
       "      <td>0.098691</td>\n",
       "      <td>0.648734</td>\n",
       "      <td>0.039551</td>\n",
       "      <td>0.204468</td>\n",
       "      <td>0.062667</td>\n",
       "      <td>0.008872</td>\n",
       "      <td>0.045853</td>\n",
       "      <td>0.023085</td>\n",
       "    </tr>\n",
       "    <tr>\n",
       "      <th>sudden weight loss</th>\n",
       "      <td>0.281840</td>\n",
       "      <td>0.447207</td>\n",
       "      <td>0.405965</td>\n",
       "      <td>1.000000</td>\n",
       "      <td>0.282884</td>\n",
       "      <td>0.243511</td>\n",
       "      <td>0.089858</td>\n",
       "      <td>0.068754</td>\n",
       "      <td>0.004516</td>\n",
       "      <td>0.140340</td>\n",
       "      <td>0.088140</td>\n",
       "      <td>0.264014</td>\n",
       "      <td>0.109756</td>\n",
       "      <td>0.202727</td>\n",
       "      <td>0.169294</td>\n",
       "      <td>0.436568</td>\n",
       "      <td>0.051869</td>\n",
       "      <td>0.117168</td>\n",
       "      <td>0.015336</td>\n",
       "      <td>0.012961</td>\n",
       "      <td>0.127099</td>\n",
       "      <td>0.101437</td>\n",
       "    </tr>\n",
       "    <tr>\n",
       "      <th>weakness</th>\n",
       "      <td>0.124490</td>\n",
       "      <td>0.263000</td>\n",
       "      <td>0.332453</td>\n",
       "      <td>0.282884</td>\n",
       "      <td>1.000000</td>\n",
       "      <td>0.180266</td>\n",
       "      <td>0.027780</td>\n",
       "      <td>0.301043</td>\n",
       "      <td>0.309440</td>\n",
       "      <td>0.146698</td>\n",
       "      <td>0.335507</td>\n",
       "      <td>0.272982</td>\n",
       "      <td>0.263164</td>\n",
       "      <td>0.090490</td>\n",
       "      <td>0.045665</td>\n",
       "      <td>0.243275</td>\n",
       "      <td>0.052281</td>\n",
       "      <td>0.235837</td>\n",
       "      <td>0.102409</td>\n",
       "      <td>0.077956</td>\n",
       "      <td>0.104616</td>\n",
       "      <td>0.087420</td>\n",
       "    </tr>\n",
       "    <tr>\n",
       "      <th>Polyphagia</th>\n",
       "      <td>0.219968</td>\n",
       "      <td>0.373873</td>\n",
       "      <td>0.316839</td>\n",
       "      <td>0.243511</td>\n",
       "      <td>0.180266</td>\n",
       "      <td>1.000000</td>\n",
       "      <td>0.063712</td>\n",
       "      <td>0.293545</td>\n",
       "      <td>0.144390</td>\n",
       "      <td>0.239466</td>\n",
       "      <td>0.263980</td>\n",
       "      <td>0.373569</td>\n",
       "      <td>0.320031</td>\n",
       "      <td>0.053498</td>\n",
       "      <td>0.029785</td>\n",
       "      <td>0.342504</td>\n",
       "      <td>0.047966</td>\n",
       "      <td>0.181111</td>\n",
       "      <td>0.173182</td>\n",
       "      <td>0.009356</td>\n",
       "      <td>0.090929</td>\n",
       "      <td>0.241206</td>\n",
       "    </tr>\n",
       "    <tr>\n",
       "      <th>Genital thrush</th>\n",
       "      <td>0.208961</td>\n",
       "      <td>0.087273</td>\n",
       "      <td>0.028081</td>\n",
       "      <td>0.089858</td>\n",
       "      <td>0.027780</td>\n",
       "      <td>0.063712</td>\n",
       "      <td>1.000000</td>\n",
       "      <td>0.148408</td>\n",
       "      <td>0.125336</td>\n",
       "      <td>0.160551</td>\n",
       "      <td>0.136111</td>\n",
       "      <td>0.195612</td>\n",
       "      <td>0.100188</td>\n",
       "      <td>0.204847</td>\n",
       "      <td>0.053828</td>\n",
       "      <td>0.110288</td>\n",
       "      <td>0.023521</td>\n",
       "      <td>0.129719</td>\n",
       "      <td>0.080857</td>\n",
       "      <td>0.109746</td>\n",
       "      <td>0.007196</td>\n",
       "      <td>0.053182</td>\n",
       "    </tr>\n",
       "    <tr>\n",
       "      <th>visual blurring</th>\n",
       "      <td>0.208092</td>\n",
       "      <td>0.235095</td>\n",
       "      <td>0.331250</td>\n",
       "      <td>0.068754</td>\n",
       "      <td>0.301043</td>\n",
       "      <td>0.293545</td>\n",
       "      <td>0.148408</td>\n",
       "      <td>1.000000</td>\n",
       "      <td>0.291191</td>\n",
       "      <td>0.077095</td>\n",
       "      <td>0.177767</td>\n",
       "      <td>0.364156</td>\n",
       "      <td>0.412369</td>\n",
       "      <td>0.014604</td>\n",
       "      <td>0.109005</td>\n",
       "      <td>0.251300</td>\n",
       "      <td>0.039551</td>\n",
       "      <td>0.176679</td>\n",
       "      <td>0.173931</td>\n",
       "      <td>0.146351</td>\n",
       "      <td>0.207869</td>\n",
       "      <td>0.280317</td>\n",
       "    </tr>\n",
       "    <tr>\n",
       "      <th>Itching</th>\n",
       "      <td>0.052496</td>\n",
       "      <td>0.088289</td>\n",
       "      <td>0.128716</td>\n",
       "      <td>0.004516</td>\n",
       "      <td>0.309440</td>\n",
       "      <td>0.144390</td>\n",
       "      <td>0.125336</td>\n",
       "      <td>0.291191</td>\n",
       "      <td>1.000000</td>\n",
       "      <td>0.114006</td>\n",
       "      <td>0.453316</td>\n",
       "      <td>0.116669</td>\n",
       "      <td>0.215575</td>\n",
       "      <td>0.266506</td>\n",
       "      <td>0.001894</td>\n",
       "      <td>0.013384</td>\n",
       "      <td>0.042729</td>\n",
       "      <td>0.254482</td>\n",
       "      <td>0.107237</td>\n",
       "      <td>0.063938</td>\n",
       "      <td>0.073521</td>\n",
       "      <td>0.160779</td>\n",
       "    </tr>\n",
       "    <tr>\n",
       "      <th>Irritability</th>\n",
       "      <td>0.013735</td>\n",
       "      <td>0.237740</td>\n",
       "      <td>0.203446</td>\n",
       "      <td>0.140340</td>\n",
       "      <td>0.146698</td>\n",
       "      <td>0.239466</td>\n",
       "      <td>0.160551</td>\n",
       "      <td>0.077095</td>\n",
       "      <td>0.114006</td>\n",
       "      <td>1.000000</td>\n",
       "      <td>0.126877</td>\n",
       "      <td>0.151571</td>\n",
       "      <td>0.201637</td>\n",
       "      <td>0.043708</td>\n",
       "      <td>0.127801</td>\n",
       "      <td>0.299467</td>\n",
       "      <td>0.024823</td>\n",
       "      <td>0.155807</td>\n",
       "      <td>0.040174</td>\n",
       "      <td>0.031373</td>\n",
       "      <td>0.049862</td>\n",
       "      <td>0.268882</td>\n",
       "    </tr>\n",
       "    <tr>\n",
       "      <th>delayed healing</th>\n",
       "      <td>0.101978</td>\n",
       "      <td>0.149873</td>\n",
       "      <td>0.115691</td>\n",
       "      <td>0.088140</td>\n",
       "      <td>0.335507</td>\n",
       "      <td>0.263980</td>\n",
       "      <td>0.136111</td>\n",
       "      <td>0.177767</td>\n",
       "      <td>0.453316</td>\n",
       "      <td>0.126877</td>\n",
       "      <td>1.000000</td>\n",
       "      <td>0.187382</td>\n",
       "      <td>0.250078</td>\n",
       "      <td>0.290179</td>\n",
       "      <td>0.066339</td>\n",
       "      <td>0.046980</td>\n",
       "      <td>0.040482</td>\n",
       "      <td>0.183339</td>\n",
       "      <td>0.113801</td>\n",
       "      <td>0.005544</td>\n",
       "      <td>0.131390</td>\n",
       "      <td>0.130808</td>\n",
       "    </tr>\n",
       "    <tr>\n",
       "      <th>partial paresis</th>\n",
       "      <td>0.332288</td>\n",
       "      <td>0.441664</td>\n",
       "      <td>0.442249</td>\n",
       "      <td>0.264014</td>\n",
       "      <td>0.272982</td>\n",
       "      <td>0.373569</td>\n",
       "      <td>0.195612</td>\n",
       "      <td>0.364156</td>\n",
       "      <td>0.116669</td>\n",
       "      <td>0.151571</td>\n",
       "      <td>0.187382</td>\n",
       "      <td>1.000000</td>\n",
       "      <td>0.232634</td>\n",
       "      <td>0.221576</td>\n",
       "      <td>0.009401</td>\n",
       "      <td>0.432288</td>\n",
       "      <td>0.038185</td>\n",
       "      <td>0.138898</td>\n",
       "      <td>0.054692</td>\n",
       "      <td>0.081940</td>\n",
       "      <td>0.138232</td>\n",
       "      <td>0.113433</td>\n",
       "    </tr>\n",
       "    <tr>\n",
       "      <th>muscle stiffness</th>\n",
       "      <td>0.090542</td>\n",
       "      <td>0.152938</td>\n",
       "      <td>0.180723</td>\n",
       "      <td>0.109756</td>\n",
       "      <td>0.263164</td>\n",
       "      <td>0.320031</td>\n",
       "      <td>0.100188</td>\n",
       "      <td>0.412369</td>\n",
       "      <td>0.215575</td>\n",
       "      <td>0.201637</td>\n",
       "      <td>0.250078</td>\n",
       "      <td>0.232634</td>\n",
       "      <td>1.000000</td>\n",
       "      <td>0.040758</td>\n",
       "      <td>0.158910</td>\n",
       "      <td>0.122474</td>\n",
       "      <td>0.034001</td>\n",
       "      <td>0.135593</td>\n",
       "      <td>0.075949</td>\n",
       "      <td>0.171627</td>\n",
       "      <td>0.179138</td>\n",
       "      <td>0.198173</td>\n",
       "    </tr>\n",
       "    <tr>\n",
       "      <th>Alopecia</th>\n",
       "      <td>0.327871</td>\n",
       "      <td>0.144192</td>\n",
       "      <td>0.310964</td>\n",
       "      <td>0.202727</td>\n",
       "      <td>0.090490</td>\n",
       "      <td>0.053498</td>\n",
       "      <td>0.204847</td>\n",
       "      <td>0.014604</td>\n",
       "      <td>0.266506</td>\n",
       "      <td>0.043708</td>\n",
       "      <td>0.290179</td>\n",
       "      <td>0.221576</td>\n",
       "      <td>0.040758</td>\n",
       "      <td>1.000000</td>\n",
       "      <td>0.029229</td>\n",
       "      <td>0.267512</td>\n",
       "      <td>0.031803</td>\n",
       "      <td>0.191191</td>\n",
       "      <td>0.231835</td>\n",
       "      <td>0.027859</td>\n",
       "      <td>0.115716</td>\n",
       "      <td>0.251981</td>\n",
       "    </tr>\n",
       "    <tr>\n",
       "      <th>Obesity</th>\n",
       "      <td>0.005396</td>\n",
       "      <td>0.126567</td>\n",
       "      <td>0.098691</td>\n",
       "      <td>0.169294</td>\n",
       "      <td>0.045665</td>\n",
       "      <td>0.029785</td>\n",
       "      <td>0.053828</td>\n",
       "      <td>0.109005</td>\n",
       "      <td>0.001894</td>\n",
       "      <td>0.127801</td>\n",
       "      <td>0.066339</td>\n",
       "      <td>0.009401</td>\n",
       "      <td>0.158910</td>\n",
       "      <td>0.029229</td>\n",
       "      <td>1.000000</td>\n",
       "      <td>0.072173</td>\n",
       "      <td>0.019811</td>\n",
       "      <td>0.137222</td>\n",
       "      <td>0.046048</td>\n",
       "      <td>0.006159</td>\n",
       "      <td>0.101563</td>\n",
       "      <td>0.049206</td>\n",
       "    </tr>\n",
       "    <tr>\n",
       "      <th>class</th>\n",
       "      <td>0.449233</td>\n",
       "      <td>0.665922</td>\n",
       "      <td>0.648734</td>\n",
       "      <td>0.436568</td>\n",
       "      <td>0.243275</td>\n",
       "      <td>0.342504</td>\n",
       "      <td>0.110288</td>\n",
       "      <td>0.251300</td>\n",
       "      <td>0.013384</td>\n",
       "      <td>0.299467</td>\n",
       "      <td>0.046980</td>\n",
       "      <td>0.432288</td>\n",
       "      <td>0.122474</td>\n",
       "      <td>0.267512</td>\n",
       "      <td>0.072173</td>\n",
       "      <td>1.000000</td>\n",
       "      <td>0.034702</td>\n",
       "      <td>0.185733</td>\n",
       "      <td>0.077276</td>\n",
       "      <td>0.019664</td>\n",
       "      <td>0.001415</td>\n",
       "      <td>0.074162</td>\n",
       "    </tr>\n",
       "    <tr>\n",
       "      <th>Age_Group_0</th>\n",
       "      <td>0.033584</td>\n",
       "      <td>0.044234</td>\n",
       "      <td>0.039551</td>\n",
       "      <td>0.051869</td>\n",
       "      <td>0.052281</td>\n",
       "      <td>0.047966</td>\n",
       "      <td>0.023521</td>\n",
       "      <td>0.039551</td>\n",
       "      <td>0.042729</td>\n",
       "      <td>0.024823</td>\n",
       "      <td>0.040482</td>\n",
       "      <td>0.038185</td>\n",
       "      <td>0.034001</td>\n",
       "      <td>0.031803</td>\n",
       "      <td>0.019811</td>\n",
       "      <td>0.034702</td>\n",
       "      <td>1.000000</td>\n",
       "      <td>0.013346</td>\n",
       "      <td>0.024433</td>\n",
       "      <td>0.027295</td>\n",
       "      <td>0.024953</td>\n",
       "      <td>0.018717</td>\n",
       "    </tr>\n",
       "    <tr>\n",
       "      <th>Age_Group_1</th>\n",
       "      <td>0.046479</td>\n",
       "      <td>0.191143</td>\n",
       "      <td>0.204468</td>\n",
       "      <td>0.117168</td>\n",
       "      <td>0.235837</td>\n",
       "      <td>0.181111</td>\n",
       "      <td>0.129719</td>\n",
       "      <td>0.176679</td>\n",
       "      <td>0.254482</td>\n",
       "      <td>0.155807</td>\n",
       "      <td>0.183339</td>\n",
       "      <td>0.138898</td>\n",
       "      <td>0.135593</td>\n",
       "      <td>0.191191</td>\n",
       "      <td>0.137222</td>\n",
       "      <td>0.185733</td>\n",
       "      <td>0.013346</td>\n",
       "      <td>1.000000</td>\n",
       "      <td>0.169231</td>\n",
       "      <td>0.189056</td>\n",
       "      <td>0.172834</td>\n",
       "      <td>0.129641</td>\n",
       "    </tr>\n",
       "    <tr>\n",
       "      <th>Age_Group_2</th>\n",
       "      <td>0.146138</td>\n",
       "      <td>0.017858</td>\n",
       "      <td>0.062667</td>\n",
       "      <td>0.015336</td>\n",
       "      <td>0.102409</td>\n",
       "      <td>0.173182</td>\n",
       "      <td>0.080857</td>\n",
       "      <td>0.173931</td>\n",
       "      <td>0.107237</td>\n",
       "      <td>0.040174</td>\n",
       "      <td>0.113801</td>\n",
       "      <td>0.054692</td>\n",
       "      <td>0.075949</td>\n",
       "      <td>0.231835</td>\n",
       "      <td>0.046048</td>\n",
       "      <td>0.077276</td>\n",
       "      <td>0.024433</td>\n",
       "      <td>0.169231</td>\n",
       "      <td>1.000000</td>\n",
       "      <td>0.346119</td>\n",
       "      <td>0.316419</td>\n",
       "      <td>0.237343</td>\n",
       "    </tr>\n",
       "    <tr>\n",
       "      <th>Age_Group_3</th>\n",
       "      <td>0.012988</td>\n",
       "      <td>0.059545</td>\n",
       "      <td>0.008872</td>\n",
       "      <td>0.012961</td>\n",
       "      <td>0.077956</td>\n",
       "      <td>0.009356</td>\n",
       "      <td>0.109746</td>\n",
       "      <td>0.146351</td>\n",
       "      <td>0.063938</td>\n",
       "      <td>0.031373</td>\n",
       "      <td>0.005544</td>\n",
       "      <td>0.081940</td>\n",
       "      <td>0.171627</td>\n",
       "      <td>0.027859</td>\n",
       "      <td>0.006159</td>\n",
       "      <td>0.019664</td>\n",
       "      <td>0.027295</td>\n",
       "      <td>0.189056</td>\n",
       "      <td>0.346119</td>\n",
       "      <td>1.000000</td>\n",
       "      <td>0.353487</td>\n",
       "      <td>0.265147</td>\n",
       "    </tr>\n",
       "    <tr>\n",
       "      <th>Age_Group_4</th>\n",
       "      <td>0.073202</td>\n",
       "      <td>0.008849</td>\n",
       "      <td>0.045853</td>\n",
       "      <td>0.127099</td>\n",
       "      <td>0.104616</td>\n",
       "      <td>0.090929</td>\n",
       "      <td>0.007196</td>\n",
       "      <td>0.207869</td>\n",
       "      <td>0.073521</td>\n",
       "      <td>0.049862</td>\n",
       "      <td>0.131390</td>\n",
       "      <td>0.138232</td>\n",
       "      <td>0.179138</td>\n",
       "      <td>0.115716</td>\n",
       "      <td>0.101563</td>\n",
       "      <td>0.001415</td>\n",
       "      <td>0.024953</td>\n",
       "      <td>0.172834</td>\n",
       "      <td>0.316419</td>\n",
       "      <td>0.353487</td>\n",
       "      <td>1.000000</td>\n",
       "      <td>0.242395</td>\n",
       "    </tr>\n",
       "    <tr>\n",
       "      <th>Age_Group_5</th>\n",
       "      <td>0.061169</td>\n",
       "      <td>0.184506</td>\n",
       "      <td>0.023085</td>\n",
       "      <td>0.101437</td>\n",
       "      <td>0.087420</td>\n",
       "      <td>0.241206</td>\n",
       "      <td>0.053182</td>\n",
       "      <td>0.280317</td>\n",
       "      <td>0.160779</td>\n",
       "      <td>0.268882</td>\n",
       "      <td>0.130808</td>\n",
       "      <td>0.113433</td>\n",
       "      <td>0.198173</td>\n",
       "      <td>0.251981</td>\n",
       "      <td>0.049206</td>\n",
       "      <td>0.074162</td>\n",
       "      <td>0.018717</td>\n",
       "      <td>0.129641</td>\n",
       "      <td>0.237343</td>\n",
       "      <td>0.265147</td>\n",
       "      <td>0.242395</td>\n",
       "      <td>1.000000</td>\n",
       "    </tr>\n",
       "  </tbody>\n",
       "</table>\n",
       "</div>"
      ],
      "text/plain": [
       "                      Gender  Polyuria  Polydipsia  sudden weight loss  \\\n",
       "Gender              1.000000  0.268894    0.312262            0.281840   \n",
       "Polyuria            0.268894  1.000000    0.598609            0.447207   \n",
       "Polydipsia          0.312262  0.598609    1.000000            0.405965   \n",
       "sudden weight loss  0.281840  0.447207    0.405965            1.000000   \n",
       "weakness            0.124490  0.263000    0.332453            0.282884   \n",
       "Polyphagia          0.219968  0.373873    0.316839            0.243511   \n",
       "Genital thrush      0.208961  0.087273    0.028081            0.089858   \n",
       "visual blurring     0.208092  0.235095    0.331250            0.068754   \n",
       "Itching             0.052496  0.088289    0.128716            0.004516   \n",
       "Irritability        0.013735  0.237740    0.203446            0.140340   \n",
       "delayed healing     0.101978  0.149873    0.115691            0.088140   \n",
       "partial paresis     0.332288  0.441664    0.442249            0.264014   \n",
       "muscle stiffness    0.090542  0.152938    0.180723            0.109756   \n",
       "Alopecia            0.327871  0.144192    0.310964            0.202727   \n",
       "Obesity             0.005396  0.126567    0.098691            0.169294   \n",
       "class               0.449233  0.665922    0.648734            0.436568   \n",
       "Age_Group_0         0.033584  0.044234    0.039551            0.051869   \n",
       "Age_Group_1         0.046479  0.191143    0.204468            0.117168   \n",
       "Age_Group_2         0.146138  0.017858    0.062667            0.015336   \n",
       "Age_Group_3         0.012988  0.059545    0.008872            0.012961   \n",
       "Age_Group_4         0.073202  0.008849    0.045853            0.127099   \n",
       "Age_Group_5         0.061169  0.184506    0.023085            0.101437   \n",
       "\n",
       "                    weakness  Polyphagia  Genital thrush  visual blurring  \\\n",
       "Gender              0.124490    0.219968        0.208961         0.208092   \n",
       "Polyuria            0.263000    0.373873        0.087273         0.235095   \n",
       "Polydipsia          0.332453    0.316839        0.028081         0.331250   \n",
       "sudden weight loss  0.282884    0.243511        0.089858         0.068754   \n",
       "weakness            1.000000    0.180266        0.027780         0.301043   \n",
       "Polyphagia          0.180266    1.000000        0.063712         0.293545   \n",
       "Genital thrush      0.027780    0.063712        1.000000         0.148408   \n",
       "visual blurring     0.301043    0.293545        0.148408         1.000000   \n",
       "Itching             0.309440    0.144390        0.125336         0.291191   \n",
       "Irritability        0.146698    0.239466        0.160551         0.077095   \n",
       "delayed healing     0.335507    0.263980        0.136111         0.177767   \n",
       "partial paresis     0.272982    0.373569        0.195612         0.364156   \n",
       "muscle stiffness    0.263164    0.320031        0.100188         0.412369   \n",
       "Alopecia            0.090490    0.053498        0.204847         0.014604   \n",
       "Obesity             0.045665    0.029785        0.053828         0.109005   \n",
       "class               0.243275    0.342504        0.110288         0.251300   \n",
       "Age_Group_0         0.052281    0.047966        0.023521         0.039551   \n",
       "Age_Group_1         0.235837    0.181111        0.129719         0.176679   \n",
       "Age_Group_2         0.102409    0.173182        0.080857         0.173931   \n",
       "Age_Group_3         0.077956    0.009356        0.109746         0.146351   \n",
       "Age_Group_4         0.104616    0.090929        0.007196         0.207869   \n",
       "Age_Group_5         0.087420    0.241206        0.053182         0.280317   \n",
       "\n",
       "                     Itching  Irritability  delayed healing  partial paresis  \\\n",
       "Gender              0.052496      0.013735         0.101978         0.332288   \n",
       "Polyuria            0.088289      0.237740         0.149873         0.441664   \n",
       "Polydipsia          0.128716      0.203446         0.115691         0.442249   \n",
       "sudden weight loss  0.004516      0.140340         0.088140         0.264014   \n",
       "weakness            0.309440      0.146698         0.335507         0.272982   \n",
       "Polyphagia          0.144390      0.239466         0.263980         0.373569   \n",
       "Genital thrush      0.125336      0.160551         0.136111         0.195612   \n",
       "visual blurring     0.291191      0.077095         0.177767         0.364156   \n",
       "Itching             1.000000      0.114006         0.453316         0.116669   \n",
       "Irritability        0.114006      1.000000         0.126877         0.151571   \n",
       "delayed healing     0.453316      0.126877         1.000000         0.187382   \n",
       "partial paresis     0.116669      0.151571         0.187382         1.000000   \n",
       "muscle stiffness    0.215575      0.201637         0.250078         0.232634   \n",
       "Alopecia            0.266506      0.043708         0.290179         0.221576   \n",
       "Obesity             0.001894      0.127801         0.066339         0.009401   \n",
       "class               0.013384      0.299467         0.046980         0.432288   \n",
       "Age_Group_0         0.042729      0.024823         0.040482         0.038185   \n",
       "Age_Group_1         0.254482      0.155807         0.183339         0.138898   \n",
       "Age_Group_2         0.107237      0.040174         0.113801         0.054692   \n",
       "Age_Group_3         0.063938      0.031373         0.005544         0.081940   \n",
       "Age_Group_4         0.073521      0.049862         0.131390         0.138232   \n",
       "Age_Group_5         0.160779      0.268882         0.130808         0.113433   \n",
       "\n",
       "                    muscle stiffness  Alopecia   Obesity     class  \\\n",
       "Gender                      0.090542  0.327871  0.005396  0.449233   \n",
       "Polyuria                    0.152938  0.144192  0.126567  0.665922   \n",
       "Polydipsia                  0.180723  0.310964  0.098691  0.648734   \n",
       "sudden weight loss          0.109756  0.202727  0.169294  0.436568   \n",
       "weakness                    0.263164  0.090490  0.045665  0.243275   \n",
       "Polyphagia                  0.320031  0.053498  0.029785  0.342504   \n",
       "Genital thrush              0.100188  0.204847  0.053828  0.110288   \n",
       "visual blurring             0.412369  0.014604  0.109005  0.251300   \n",
       "Itching                     0.215575  0.266506  0.001894  0.013384   \n",
       "Irritability                0.201637  0.043708  0.127801  0.299467   \n",
       "delayed healing             0.250078  0.290179  0.066339  0.046980   \n",
       "partial paresis             0.232634  0.221576  0.009401  0.432288   \n",
       "muscle stiffness            1.000000  0.040758  0.158910  0.122474   \n",
       "Alopecia                    0.040758  1.000000  0.029229  0.267512   \n",
       "Obesity                     0.158910  0.029229  1.000000  0.072173   \n",
       "class                       0.122474  0.267512  0.072173  1.000000   \n",
       "Age_Group_0                 0.034001  0.031803  0.019811  0.034702   \n",
       "Age_Group_1                 0.135593  0.191191  0.137222  0.185733   \n",
       "Age_Group_2                 0.075949  0.231835  0.046048  0.077276   \n",
       "Age_Group_3                 0.171627  0.027859  0.006159  0.019664   \n",
       "Age_Group_4                 0.179138  0.115716  0.101563  0.001415   \n",
       "Age_Group_5                 0.198173  0.251981  0.049206  0.074162   \n",
       "\n",
       "                    Age_Group_0  Age_Group_1  Age_Group_2  Age_Group_3  \\\n",
       "Gender                 0.033584     0.046479     0.146138     0.012988   \n",
       "Polyuria               0.044234     0.191143     0.017858     0.059545   \n",
       "Polydipsia             0.039551     0.204468     0.062667     0.008872   \n",
       "sudden weight loss     0.051869     0.117168     0.015336     0.012961   \n",
       "weakness               0.052281     0.235837     0.102409     0.077956   \n",
       "Polyphagia             0.047966     0.181111     0.173182     0.009356   \n",
       "Genital thrush         0.023521     0.129719     0.080857     0.109746   \n",
       "visual blurring        0.039551     0.176679     0.173931     0.146351   \n",
       "Itching                0.042729     0.254482     0.107237     0.063938   \n",
       "Irritability           0.024823     0.155807     0.040174     0.031373   \n",
       "delayed healing        0.040482     0.183339     0.113801     0.005544   \n",
       "partial paresis        0.038185     0.138898     0.054692     0.081940   \n",
       "muscle stiffness       0.034001     0.135593     0.075949     0.171627   \n",
       "Alopecia               0.031803     0.191191     0.231835     0.027859   \n",
       "Obesity                0.019811     0.137222     0.046048     0.006159   \n",
       "class                  0.034702     0.185733     0.077276     0.019664   \n",
       "Age_Group_0            1.000000     0.013346     0.024433     0.027295   \n",
       "Age_Group_1            0.013346     1.000000     0.169231     0.189056   \n",
       "Age_Group_2            0.024433     0.169231     1.000000     0.346119   \n",
       "Age_Group_3            0.027295     0.189056     0.346119     1.000000   \n",
       "Age_Group_4            0.024953     0.172834     0.316419     0.353487   \n",
       "Age_Group_5            0.018717     0.129641     0.237343     0.265147   \n",
       "\n",
       "                    Age_Group_4  Age_Group_5  \n",
       "Gender                 0.073202     0.061169  \n",
       "Polyuria               0.008849     0.184506  \n",
       "Polydipsia             0.045853     0.023085  \n",
       "sudden weight loss     0.127099     0.101437  \n",
       "weakness               0.104616     0.087420  \n",
       "Polyphagia             0.090929     0.241206  \n",
       "Genital thrush         0.007196     0.053182  \n",
       "visual blurring        0.207869     0.280317  \n",
       "Itching                0.073521     0.160779  \n",
       "Irritability           0.049862     0.268882  \n",
       "delayed healing        0.131390     0.130808  \n",
       "partial paresis        0.138232     0.113433  \n",
       "muscle stiffness       0.179138     0.198173  \n",
       "Alopecia               0.115716     0.251981  \n",
       "Obesity                0.101563     0.049206  \n",
       "class                  0.001415     0.074162  \n",
       "Age_Group_0            0.024953     0.018717  \n",
       "Age_Group_1            0.172834     0.129641  \n",
       "Age_Group_2            0.316419     0.237343  \n",
       "Age_Group_3            0.353487     0.265147  \n",
       "Age_Group_4            1.000000     0.242395  \n",
       "Age_Group_5            0.242395     1.000000  "
      ]
     },
     "execution_count": 57,
     "metadata": {},
     "output_type": "execute_result"
    }
   ],
   "source": [
    "corr_matrix1"
   ]
  },
  {
   "cell_type": "code",
   "execution_count": 58,
   "metadata": {},
   "outputs": [
    {
     "data": {
      "text/plain": [
       "[]"
      ]
     },
     "execution_count": 58,
     "metadata": {},
     "output_type": "execute_result"
    }
   ],
   "source": [
    "high_corr_var=np.where(corr_matrix1 >0.7)\n",
    "high_corr_var=[(corr_matrix1.columns[x],corr_matrix.columns[y]) for x,y in zip(*high_corr_var) if x!=y and x<y]\n",
    "high_corr_var"
   ]
  },
  {
   "cell_type": "code",
   "execution_count": 59,
   "metadata": {},
   "outputs": [
    {
     "data": {
      "text/plain": [
       "[('Polyuria', 'Polydipsia'), ('Polyuria', 'class'), ('Polydipsia', 'class')]"
      ]
     },
     "execution_count": 59,
     "metadata": {},
     "output_type": "execute_result"
    }
   ],
   "source": [
    "high_corr_var=np.where(corr_matrix1 >0.5)\n",
    "high_corr_var=[(corr_matrix1.columns[x],corr_matrix.columns[y]) for x,y in zip(*high_corr_var) if x!=y and x<y]\n",
    "high_corr_var"
   ]
  },
  {
   "cell_type": "markdown",
   "metadata": {},
   "source": [
    "Conclusion: There is no multicolinearity in the data when the threshold for co-relation co-efficient is set at 0.7.  At a lower threshold of 0.5, Polydipsia and Polyuria seems to be multicolinear"
   ]
  },
  {
   "cell_type": "markdown",
   "metadata": {},
   "source": [
    "## 7. Post Processing EDA using Sweetviz <br id=section7 ></br>"
   ]
  },
  {
   "cell_type": "code",
   "execution_count": 60,
   "metadata": {},
   "outputs": [
    {
     "data": {
      "application/vnd.jupyter.widget-view+json": {
       "model_id": "aa157b7306734d079184d7b9cf396548",
       "version_major": 2,
       "version_minor": 0
      },
      "text/plain": [
       "HBox(children=(HTML(value=''), FloatProgress(value=0.0, layout=Layout(flex='2'), max=23.0), HTML(value='')), l…"
      ]
     },
     "metadata": {},
     "output_type": "display_data"
    },
    {
     "name": "stdout",
     "output_type": "stream",
     "text": [
      "\n",
      "Report SWEETVIZ_REPORT.html was generated! NOTEBOOK/COLAB USERS: the web browser MAY not pop up, regardless, the report IS saved in your notebook/colab files.\n"
     ]
    }
   ],
   "source": [
    "import sweetviz as sv\n",
    "\n",
    "my_report = sv.analyze(df2)\n",
    "my_report.show_html() # Default arguments will generate to \"SWEETVIZ_REPORT.html\""
   ]
  },
  {
   "attachments": {},
   "cell_type": "markdown",
   "metadata": {},
   "source": [
    "Final Observations:\n",
    "\n",
    "1. The dataset was clean with no missing or null values. \n",
    "2. Distribution of Age in the dataset was normal, with 2 outliers\n",
    "3. There was a slight imbalance in Class and Gender distribution, with 60% in one category and 40% in second category\n",
    "    - 90% of females patients in the dataset were disease positive, making it an imbalanced population\n",
    "4. There was no multicolinearity in the dataset at a threshold higher than 0.5. However, at a threshold of 0.5 , 2  variables   \n",
    "   (Polyuria and Polydipsia) showed colinearity, with a correlation co-efficient of 0.6\n"
   ]
  },
  {
   "cell_type": "markdown",
   "metadata": {},
   "source": [
    "## 8. Building Machine learning Models   <br id=section8 ></br>"
   ]
  },
  {
   "cell_type": "markdown",
   "metadata": {},
   "source": [
    "### 8.1 Running Base Models   <br id=section801 ></br>"
   ]
  },
  {
   "cell_type": "code",
   "execution_count": 61,
   "metadata": {},
   "outputs": [],
   "source": [
    "import time\n",
    "from sklearn import metrics\n",
    "from sklearn.model_selection import cross_val_score,cross_val_predict\n",
    "from sklearn.metrics import accuracy_score, classification_report\n",
    "from sklearn.linear_model import LogisticRegression\n",
    "from sklearn import tree\n",
    "from sklearn.ensemble import RandomForestClassifier\n",
    "from sklearn.neighbors import KNeighborsClassifier\n",
    "from sklearn.naive_bayes import GaussianNB\n",
    "from sklearn import svm\n",
    "from sklearn.model_selection import RepeatedStratifiedKFold"
   ]
  },
  {
   "cell_type": "code",
   "execution_count": 62,
   "metadata": {},
   "outputs": [],
   "source": [
    "models=[LogisticRegression(max_iter=1000),tree.DecisionTreeClassifier(),RandomForestClassifier(), KNeighborsClassifier(),GaussianNB(),svm.SVC(C=0.8, gamma='auto', kernel='rbf'),svm.SVC(C=0.8, gamma='auto', kernel='linear'),svm.SVC(C=0.8, gamma='auto', kernel='poly') ]"
   ]
  },
  {
   "cell_type": "code",
   "execution_count": 63,
   "metadata": {},
   "outputs": [],
   "source": [
    "import time\n",
    "from sklearn.metrics import f1_score"
   ]
  },
  {
   "cell_type": "code",
   "execution_count": 64,
   "metadata": {},
   "outputs": [
    {
     "name": "stdout",
     "output_type": "stream",
     "text": [
      "This is base model experiementation to decide benchmark models\n",
      "Test Accuracy for LogisticRegression(max_iter=1000) is 0.923, F1 score is 0.937 Time taken is 0.019 seconds\n",
      "Test Accuracy for DecisionTreeClassifier() is 0.971, F1 score is 0.976 Time taken is 0.005 seconds\n",
      "Test Accuracy for RandomForestClassifier() is 0.971, F1 score is 0.976 Time taken is 0.233 seconds\n",
      "Test Accuracy for KNeighborsClassifier() is 0.923, F1 score is 0.935 Time taken is 0.011 seconds\n",
      "Test Accuracy for GaussianNB() is 0.885, F1 score is 0.912 Time taken is 0.005 seconds\n",
      "Test Accuracy for SVC(C=0.8, gamma='auto') is 0.933, F1 score is 0.944 Time taken is 0.008 seconds\n",
      "Test Accuracy for SVC(C=0.8, gamma='auto', kernel='linear') is 0.933, F1 score is 0.945 Time taken is 0.008 seconds\n",
      "Test Accuracy for SVC(C=0.8, gamma='auto', kernel='poly') is 0.779, F1 score is 0.846 Time taken is 0.011 seconds\n"
     ]
    }
   ],
   "source": [
    "print (\"This is base model experiementation to decide benchmark models\")\n",
    "for eachModel in models:\n",
    "  model = eachModel\n",
    "  start_time = time.time()\n",
    "  model.fit(X_train, y_train.values.ravel())\n",
    "  pred = model.predict(X_test)\n",
    "  current_time=time.time()  \n",
    "  elapsed_time = (current_time - start_time)\n",
    "  x = round(elapsed_time,3)\n",
    "  accuracy = accuracy_score(pred,y_test)\n",
    "  F1 = f1_score(pred,y_test)\n",
    "  accuracy = round(accuracy,3)\n",
    "  F1 = round(F1,3)\n",
    "  print (\"Test Accuracy for {} is {}, F1 score is {}\".format(model,accuracy,F1),\"Time taken is {} seconds\".format(x))"
   ]
  },
  {
   "cell_type": "markdown",
   "metadata": {},
   "source": [
    "Conclusion: Decision Teee and Random Forest have the best accuracy. Need to be cross validated and tuned."
   ]
  },
  {
   "cell_type": "markdown",
   "metadata": {},
   "source": [
    "### 8.2  Evaluating and improving Dcision Tree <br id = (section802) ></br>   "
   ]
  },
  {
   "cell_type": "markdown",
   "metadata": {},
   "source": [
    "### 8.2.1 Visualizing Decision Tree <br id=section80201></br>"
   ]
  },
  {
   "cell_type": "code",
   "execution_count": 65,
   "metadata": {},
   "outputs": [
    {
     "data": {
      "text/plain": [
       "DecisionTreeClassifier(random_state=4)"
      ]
     },
     "execution_count": 65,
     "metadata": {},
     "output_type": "execute_result"
    }
   ],
   "source": [
    "from sklearn import tree\n",
    "model_dt = tree.DecisionTreeClassifier(random_state = 4)\n",
    "model_dt.fit(X_train, y_train)"
   ]
  },
  {
   "cell_type": "code",
   "execution_count": 66,
   "metadata": {},
   "outputs": [],
   "source": [
    "#Packages needed:\n",
    "#import sys\n",
    "#!pip install graphviz\n",
    "#!pip install pydotplus\n",
    "#!pip install Ipython\n",
    "#!pip install pydot"
   ]
  },
  {
   "cell_type": "code",
   "execution_count": 67,
   "metadata": {},
   "outputs": [
    {
     "data": {
      "text/plain": [
       "<matplotlib.image.AxesImage at 0x24d7545a848>"
      ]
     },
     "execution_count": 67,
     "metadata": {},
     "output_type": "execute_result"
    },
    {
     "data": {
      "image/png": "[encoded data removed]",
      "text/plain": [
       "<Figure size 600x400 with 1 Axes>"
      ]
     },
     "metadata": {},
     "output_type": "display_data"
    }
   ],
   "source": [
    "from sklearn.tree import export_graphviz\n",
    "import pydot\n",
    "from IPython.display import Image\n",
    "import cv2\n",
    "\n",
    "export_graphviz(model_dt, \n",
    "                out_file='decision_tree.dot',\n",
    "                feature_names= X_train.columns, \n",
    "                rounded=True, \n",
    "                precision=5, \n",
    "                node_ids=True, \n",
    "                proportion=True,\n",
    "                filled=True)\n",
    "\n",
    "(graph,) = pydot.graph_from_dot_file('decision_tree.dot')\n",
    "graph.write_png('decision_tree.png')\n",
    "Image = cv2.imread('decision_tree.png')\n",
    "plt.imshow(Image)"
   ]
  },
  {
   "cell_type": "code",
   "execution_count": 68,
   "metadata": {},
   "outputs": [],
   "source": [
    "y_pred_train_dt = model_dt.predict(X_train) \n",
    "y_pred_test_dt = model_dt.predict(X_test)"
   ]
  },
  {
   "cell_type": "code",
   "execution_count": 69,
   "metadata": {},
   "outputs": [
    {
     "name": "stdout",
     "output_type": "stream",
     "text": [
      "Accuracy score for train data for DT is: 0.9927884615384616\n",
      "Accuracy score for test data for DT is: 0.9711538461538461\n"
     ]
    }
   ],
   "source": [
    "from sklearn.metrics import accuracy_score\n",
    "accuracy_train_dt = accuracy_score(y_train,y_pred_train_dt)\n",
    "accuracy_test_dt = accuracy_score(y_test,y_pred_test_dt)\n",
    "print('Accuracy score for train data for DT is:', accuracy_train_dt)\n",
    "print('Accuracy score for test data for DT is:', accuracy_test_dt)"
   ]
  },
  {
   "cell_type": "code",
   "execution_count": 70,
   "metadata": {},
   "outputs": [
    {
     "name": "stdout",
     "output_type": "stream",
     "text": [
      "Confusion Matrix for DT for Train set\n",
      "                     Predicted Negative(0)  Predicted Positive(1)\n",
      "Actual Negative(0)                    157                      3\n",
      "Actual Positive(1)                      0                    256\n"
     ]
    }
   ],
   "source": [
    "from sklearn.metrics import confusion_matrix\n",
    "c_matrix_train_dt = pd.DataFrame(confusion_matrix(y_train, y_pred_train_dt))\n",
    "c_matrix_train_dt.index = ['Actual Negative(0)','Actual Positive(1)']\n",
    "c_matrix_train_dt.columns = ['Predicted Negative(0)','Predicted Positive(1)']\n",
    "print(\"Confusion Matrix for DT for Train set\\n\",c_matrix_train_dt)"
   ]
  },
  {
   "cell_type": "code",
   "execution_count": 71,
   "metadata": {},
   "outputs": [
    {
     "name": "stdout",
     "output_type": "stream",
     "text": [
      "Confusion Matrix for DT for Test set\n",
      "                     Predicted Negative(0)  Predicted Positive(1)\n",
      "Actual Negative(0)                     39                      1\n",
      "Actual Positive(1)                      2                     62\n"
     ]
    }
   ],
   "source": [
    "from sklearn.metrics import confusion_matrix\n",
    "c_matrix_test_dt = pd.DataFrame(confusion_matrix(y_test, y_pred_test_dt))\n",
    "c_matrix_test_dt.index = ['Actual Negative(0)','Actual Positive(1)']\n",
    "c_matrix_test_dt.columns = ['Predicted Negative(0)','Predicted Positive(1)']\n",
    "print(\"Confusion Matrix for DT for Test set\\n\",c_matrix_test_dt)"
   ]
  },
  {
   "cell_type": "markdown",
   "metadata": {},
   "source": [
    "### 8.2.2 Cross Validation for Decision Tree   <br id=section80202 ></br>"
   ]
  },
  {
   "cell_type": "code",
   "execution_count": 72,
   "metadata": {},
   "outputs": [
    {
     "name": "stdout",
     "output_type": "stream",
     "text": [
      "[0.95238095 0.86746988 0.91566265 0.93975904 0.93975904]\n",
      "mean dt_score for train set is 0.9230063109581181 with Std deviation of 0.030207289602283482\n"
     ]
    }
   ],
   "source": [
    "# cross_val_score\n",
    "#https://stackoverflow.com/questions/35097003/cross-validation-decision-trees-in-sklearn\n",
    "from sklearn.model_selection import cross_val_score\n",
    "model_dt = tree.DecisionTreeClassifier(random_state=1)\n",
    "scores = cross_val_score(model_dt, X_train, y_train.values.ravel(), cv=5)\n",
    "print (scores)\n",
    "print(\"mean dt_score for train set is {} with Std deviation of {}\".format(np.mean(scores),np.std(scores)))"
   ]
  },
  {
   "cell_type": "code",
   "execution_count": 73,
   "metadata": {},
   "outputs": [
    {
     "name": "stdout",
     "output_type": "stream",
     "text": [
      "[0.92857143 0.96385542 0.96385542 0.95180723 0.96385542 0.92857143\n",
      " 0.93975904 0.97590361 0.93975904 0.87951807 0.92857143 0.95180723\n",
      " 0.95180723 0.95180723 0.95180723]\n",
      "mean dt_score for train set is 0.9447504302925988 with Std deviation of 0.022218436575703857\n"
     ]
    }
   ],
   "source": [
    " # cross validation using Repeated Stratified K Fold\n",
    "from sklearn.model_selection import RepeatedStratifiedKFold\n",
    "model_dt = tree.DecisionTreeClassifier(random_state=4)\n",
    "cv = RepeatedStratifiedKFold(n_splits=5, n_repeats=3, random_state=1)\n",
    "scores = cross_val_score(model_dt, X_train, y_train.values.ravel(), cv=cv)\n",
    "print (scores)\n",
    "print(\"mean dt_score for train set is {} with Std deviation of {}\".format(np.mean(scores),np.std(scores)))"
   ]
  },
  {
   "cell_type": "code",
   "execution_count": 74,
   "metadata": {},
   "outputs": [],
   "source": [
    "from sklearn.metrics import accuracy_score\n",
    "from sklearn.metrics import make_scorer\n",
    "scoring = {'accuracy': make_scorer(accuracy_score),'prec': 'precision'}\n",
    "\n",
    "#https://scikit-learn.org/stable/modules/model_evaluation.html#scoring"
   ]
  },
  {
   "cell_type": "code",
   "execution_count": 75,
   "metadata": {},
   "outputs": [
    {
     "name": "stdout",
     "output_type": "stream",
     "text": [
      "Parameters currently in use:\n",
      "\n",
      "{'ccp_alpha': 0.0,\n",
      " 'class_weight': None,\n",
      " 'criterion': 'gini',\n",
      " 'max_depth': None,\n",
      " 'max_features': None,\n",
      " 'max_leaf_nodes': None,\n",
      " 'min_impurity_decrease': 0.0,\n",
      " 'min_impurity_split': None,\n",
      " 'min_samples_leaf': 1,\n",
      " 'min_samples_split': 2,\n",
      " 'min_weight_fraction_leaf': 0.0,\n",
      " 'presort': 'deprecated',\n",
      " 'random_state': 4,\n",
      " 'splitter': 'best'}\n"
     ]
    }
   ],
   "source": [
    "from pprint import pprint\n",
    "print('Parameters currently in use:\\n')\n",
    "pprint(model_dt.get_params())"
   ]
  },
  {
   "cell_type": "markdown",
   "metadata": {},
   "source": [
    "Conclusion: Repeated Stratified K fold has a stable accuracy score, hence choosing this method for cross validations for all models."
   ]
  },
  {
   "cell_type": "markdown",
   "metadata": {},
   "source": [
    "### 8.2.3 Hypertuning Decision Tree using Random Search <br id=section80203 ></br>"
   ]
  },
  {
   "cell_type": "code",
   "execution_count": 76,
   "metadata": {},
   "outputs": [],
   "source": [
    "model_dt1 = tree.DecisionTreeClassifier(random_state = 4)"
   ]
  },
  {
   "cell_type": "code",
   "execution_count": 77,
   "metadata": {},
   "outputs": [
    {
     "name": "stdout",
     "output_type": "stream",
     "text": [
      "Wall time: 1.13 s\n"
     ]
    },
    {
     "data": {
      "text/plain": [
       "RandomizedSearchCV(cv=RepeatedStratifiedKFold(n_repeats=3, n_splits=5, random_state=1),\n",
       "                   estimator=DecisionTreeClassifier(random_state=4),\n",
       "                   param_distributions=[{'criterion': ['gini', 'entropy'],\n",
       "                                         'max_depth': range(2, 10),\n",
       "                                         'max_features': ['sqrt', 'log2', None],\n",
       "                                         'min_samples_leaf': range(2, 10),\n",
       "                                         'min_samples_split': range(2, 10)}],\n",
       "                   refit='AUC')"
      ]
     },
     "execution_count": 77,
     "metadata": {},
     "output_type": "execute_result"
    }
   ],
   "source": [
    "%%time\n",
    "from sklearn.model_selection import RandomizedSearchCV\n",
    "from scipy.stats import randint as sp_randint\n",
    "# parameters for GridSearchCV\n",
    "# specify parameters and distributions to sample from\n",
    "\n",
    "tree_para = [{'criterion':['gini','entropy'],'max_depth': range(2,10),'min_samples_leaf': range(2,10), 'min_samples_split': range(2,10),'max_features': ['sqrt', 'log2', None]}]\n",
    "\n",
    "# run randomized search with K fold cross validation\n",
    "cv = RepeatedStratifiedKFold(n_splits=5, n_repeats=3, random_state=1)\n",
    "random_search = RandomizedSearchCV(model_dt1,tree_para, cv=cv,refit='AUC')\n",
    "random_search.fit(X_train, y_train)"
   ]
  },
  {
   "cell_type": "code",
   "execution_count": 78,
   "metadata": {},
   "outputs": [],
   "source": [
    "y_pred_train_dt1 = random_search.predict(X_train) \n",
    "y_pred_test_dt1 = random_search.predict(X_test)"
   ]
  },
  {
   "cell_type": "code",
   "execution_count": 79,
   "metadata": {},
   "outputs": [
    {
     "name": "stdout",
     "output_type": "stream",
     "text": [
      "Accuracy score for train data is: 0.9639423076923077\n",
      "Accuracy score for test data is: 0.9519230769230769\n"
     ]
    }
   ],
   "source": [
    "accuracy_train_dt1 = accuracy_score(y_train,y_pred_train_dt1)\n",
    "accuracy_test_dt1 = accuracy_score(y_test,y_pred_test_dt1)\n",
    "print('Accuracy score for train data is:', accuracy_train_dt1)\n",
    "print('Accuracy score for test data is:', accuracy_test_dt1)"
   ]
  },
  {
   "cell_type": "code",
   "execution_count": 80,
   "metadata": {},
   "outputs": [
    {
     "data": {
      "text/plain": [
       "{'min_samples_split': 6,\n",
       " 'min_samples_leaf': 2,\n",
       " 'max_features': None,\n",
       " 'max_depth': 5,\n",
       " 'criterion': 'gini'}"
      ]
     },
     "execution_count": 80,
     "metadata": {},
     "output_type": "execute_result"
    }
   ],
   "source": [
    "random_search.best_params_"
   ]
  },
  {
   "cell_type": "code",
   "execution_count": 81,
   "metadata": {},
   "outputs": [
    {
     "name": "stdout",
     "output_type": "stream",
     "text": [
      "              precision    recall  f1-score   support\n",
      "\n",
      "           0       0.91      0.97      0.94        40\n",
      "           1       0.98      0.94      0.96        64\n",
      "\n",
      "    accuracy                           0.95       104\n",
      "   macro avg       0.95      0.96      0.95       104\n",
      "weighted avg       0.95      0.95      0.95       104\n",
      "\n"
     ]
    }
   ],
   "source": [
    "print (classification_report(y_test,y_pred_test_dt1))"
   ]
  },
  {
   "cell_type": "code",
   "execution_count": 82,
   "metadata": {},
   "outputs": [],
   "source": [
    "model_dt2 = tree.DecisionTreeClassifier(random_state = 4)"
   ]
  },
  {
   "cell_type": "code",
   "execution_count": 83,
   "metadata": {},
   "outputs": [
    {
     "data": {
      "text/plain": [
       "RandomizedSearchCV(cv=RepeatedStratifiedKFold(n_repeats=3, n_splits=5, random_state=1),\n",
       "                   estimator=DecisionTreeClassifier(random_state=4),\n",
       "                   param_distributions=[{'criterion': ['gini', 'entropy'],\n",
       "                                         'max_depth': range(2, 20),\n",
       "                                         'max_features': ['sqrt', 'log2', None],\n",
       "                                         'min_samples_leaf': range(2, 20),\n",
       "                                         'min_samples_split': range(2, 20)}],\n",
       "                   refit='AUC')"
      ]
     },
     "execution_count": 83,
     "metadata": {},
     "output_type": "execute_result"
    }
   ],
   "source": [
    "from sklearn.model_selection import RandomizedSearchCV\n",
    "from scipy.stats import randint as sp_randint\n",
    "# parameters for GridSearchCV\n",
    "# specify parameters and distributions to sample from\n",
    "\n",
    "tree_para = [{'criterion':['gini','entropy'],'max_depth': range(2,20),'min_samples_leaf': range(2,20), 'min_samples_split': range(2,20),'max_features': ['sqrt', 'log2', None]}]\n",
    "\n",
    "# run randomized search with K fold cross validation\n",
    "cv = RepeatedStratifiedKFold(n_splits=5, n_repeats=3, random_state=1)\n",
    "random_search2 = RandomizedSearchCV(model_dt2,tree_para, cv=cv,refit='AUC')\n",
    "random_search2.fit(X_train, y_train)"
   ]
  },
  {
   "cell_type": "code",
   "execution_count": 84,
   "metadata": {},
   "outputs": [],
   "source": [
    "y_pred_train_dt2 = random_search2.predict(X_train) \n",
    "y_pred_test_dt2 = random_search2.predict(X_test)"
   ]
  },
  {
   "cell_type": "code",
   "execution_count": 85,
   "metadata": {},
   "outputs": [
    {
     "name": "stdout",
     "output_type": "stream",
     "text": [
      "Accuracy score for train data is: 0.9567307692307693\n",
      "Accuracy score for test data is: 0.9423076923076923\n"
     ]
    }
   ],
   "source": [
    "accuracy_train_dt2 = accuracy_score(y_train,y_pred_train_dt2)\n",
    "accuracy_test_dt2 = accuracy_score(y_test,y_pred_test_dt2)\n",
    "print('Accuracy score for train data is:', accuracy_train_dt2)\n",
    "print('Accuracy score for test data is:', accuracy_test_dt2)"
   ]
  },
  {
   "cell_type": "code",
   "execution_count": 86,
   "metadata": {},
   "outputs": [
    {
     "data": {
      "text/plain": [
       "{'min_samples_split': 10,\n",
       " 'min_samples_leaf': 2,\n",
       " 'max_features': None,\n",
       " 'max_depth': 17,\n",
       " 'criterion': 'entropy'}"
      ]
     },
     "execution_count": 86,
     "metadata": {},
     "output_type": "execute_result"
    }
   ],
   "source": [
    "random_search2.best_params_"
   ]
  },
  {
   "cell_type": "markdown",
   "metadata": {},
   "source": [
    "### 8.2.4 Hypertuning using GridSearch  <br id=section80204 ></br>"
   ]
  },
  {
   "cell_type": "markdown",
   "metadata": {},
   "source": [
    "Using best Random Searach parameters to set up Grid Search \n",
    "(min_samples_split': 4,\n",
    " 'min_samples_leaf': 2,\n",
    " 'max_features': None,\n",
    " 'max_depth': 7,\n",
    " 'criterion': 'gini'}"
   ]
  },
  {
   "cell_type": "code",
   "execution_count": 87,
   "metadata": {},
   "outputs": [
    {
     "name": "stdout",
     "output_type": "stream",
     "text": [
      "Wall time: 8.2 s\n"
     ]
    },
    {
     "data": {
      "text/plain": [
       "GridSearchCV(cv=RepeatedStratifiedKFold(n_repeats=3, n_splits=5, random_state=1),\n",
       "             estimator=DecisionTreeClassifier(random_state=4),\n",
       "             param_grid=[{'criterion': ['gini', 'entropy'],\n",
       "                          'max_depth': (5, 6, 7, 8), 'max_features': [None],\n",
       "                          'min_samples_leaf': (2, 3, 4),\n",
       "                          'min_samples_split': (3, 4, 5)}],\n",
       "             refit='AUC')"
      ]
     },
     "execution_count": 87,
     "metadata": {},
     "output_type": "execute_result"
    }
   ],
   "source": [
    "%%time\n",
    "model_dt3 = tree.DecisionTreeClassifier(random_state = 4)\n",
    "from sklearn.model_selection import GridSearchCV\n",
    "\n",
    "tree_para = [{'criterion':['gini','entropy'],'max_depth':(5,6,7,8),'min_samples_leaf':(2,3,4),'min_samples_split':(3,4,5),\n",
    "                             'max_features': [None] }]\n",
    "                            \n",
    "# run grid search with K fold cross validation\n",
    "cv = RepeatedStratifiedKFold(n_splits=5, n_repeats=3, random_state=1)\n",
    "grid_search = GridSearchCV(model_dt3,tree_para, cv=cv, refit='AUC')\n",
    "grid_search.fit(X_train, y_train)"
   ]
  },
  {
   "cell_type": "code",
   "execution_count": 88,
   "metadata": {},
   "outputs": [],
   "source": [
    "y_pred_train_dt3 = grid_search.predict(X_train) \n",
    "y_pred_test_dt3 = grid_search.predict(X_test)"
   ]
  },
  {
   "cell_type": "code",
   "execution_count": 89,
   "metadata": {},
   "outputs": [
    {
     "name": "stdout",
     "output_type": "stream",
     "text": [
      "Accuracy score for train data is: 0.9639423076923077\n",
      "Accuracy score for test data is: 0.9519230769230769\n"
     ]
    }
   ],
   "source": [
    "accuracy_train_dt3 = accuracy_score(y_train,y_pred_train_dt3)\n",
    "accuracy_test_dt3 = accuracy_score(y_test,y_pred_test_dt3)\n",
    "print('Accuracy score for train data is:', accuracy_train_dt3)\n",
    "print('Accuracy score for test data is:', accuracy_test_dt3)"
   ]
  },
  {
   "cell_type": "code",
   "execution_count": 90,
   "metadata": {},
   "outputs": [
    {
     "name": "stdout",
     "output_type": "stream",
     "text": [
      "              precision    recall  f1-score   support\n",
      "\n",
      "           0       0.91      0.97      0.94        40\n",
      "           1       0.98      0.94      0.96        64\n",
      "\n",
      "    accuracy                           0.95       104\n",
      "   macro avg       0.95      0.96      0.95       104\n",
      "weighted avg       0.95      0.95      0.95       104\n",
      "\n"
     ]
    }
   ],
   "source": [
    "print (classification_report(y_test,y_pred_test_dt3))"
   ]
  },
  {
   "cell_type": "code",
   "execution_count": 91,
   "metadata": {},
   "outputs": [
    {
     "data": {
      "text/plain": [
       "{'criterion': 'entropy',\n",
       " 'max_depth': 5,\n",
       " 'max_features': None,\n",
       " 'min_samples_leaf': 2,\n",
       " 'min_samples_split': 5}"
      ]
     },
     "execution_count": 91,
     "metadata": {},
     "output_type": "execute_result"
    }
   ],
   "source": [
    "grid_search.best_params_"
   ]
  },
  {
   "cell_type": "markdown",
   "metadata": {},
   "source": [
    "### 8.2.5  Feature Selection based on the best DT model <br id=section80205 ></br>"
   ]
  },
  {
   "cell_type": "code",
   "execution_count": 92,
   "metadata": {},
   "outputs": [],
   "source": [
    "#from sklearn import feature_selection\n",
    "cat_cols=X_train.columns"
   ]
  },
  {
   "cell_type": "code",
   "execution_count": 93,
   "metadata": {},
   "outputs": [],
   "source": [
    "model_dt4 = tree.DecisionTreeClassifier(random_state = 4,criterion='entropy',\n",
    " max_depth= 5,\n",
    " max_features= None,\n",
    " min_samples_leaf= 2,\n",
    " min_samples_split= 5)\n"
   ]
  },
  {
   "cell_type": "code",
   "execution_count": 94,
   "metadata": {},
   "outputs": [
    {
     "data": {
      "text/plain": [
       "DecisionTreeClassifier(criterion='entropy', max_depth=5, min_samples_leaf=2,\n",
       "                       min_samples_split=5, random_state=4)"
      ]
     },
     "execution_count": 94,
     "metadata": {},
     "output_type": "execute_result"
    }
   ],
   "source": [
    "model_dt4.fit(X_train, y_train)"
   ]
  },
  {
   "cell_type": "code",
   "execution_count": 95,
   "metadata": {},
   "outputs": [],
   "source": [
    "y_pred_train_dt4 = model_dt4.predict(X_train) \n",
    "y_pred_test_dt4 = model_dt4.predict(X_test)"
   ]
  },
  {
   "cell_type": "code",
   "execution_count": 96,
   "metadata": {},
   "outputs": [
    {
     "name": "stdout",
     "output_type": "stream",
     "text": [
      "Accuracy score for train data is: 0.9639423076923077\n",
      "Accuracy score for test data is: 0.9519230769230769\n"
     ]
    }
   ],
   "source": [
    "accuracy_train_dt4 = accuracy_score(y_train,y_pred_train_dt4)\n",
    "accuracy_test_dt4 = accuracy_score(y_test,y_pred_test_dt4)\n",
    "print('Accuracy score for train data is:', accuracy_train_dt4)\n",
    "print('Accuracy score for test data is:', accuracy_test_dt4)"
   ]
  },
  {
   "cell_type": "code",
   "execution_count": 97,
   "metadata": {},
   "outputs": [
    {
     "name": "stdout",
     "output_type": "stream",
     "text": [
      "              precision    recall  f1-score   support\n",
      "\n",
      "           0       0.91      0.97      0.94        40\n",
      "           1       0.98      0.94      0.96        64\n",
      "\n",
      "    accuracy                           0.95       104\n",
      "   macro avg       0.95      0.96      0.95       104\n",
      "weighted avg       0.95      0.95      0.95       104\n",
      "\n"
     ]
    }
   ],
   "source": [
    "print (classification_report(y_test,y_pred_test_dt4))"
   ]
  },
  {
   "cell_type": "code",
   "execution_count": 98,
   "metadata": {},
   "outputs": [
    {
     "name": "stdout",
     "output_type": "stream",
     "text": [
      "[0.12656305 0.1583394  0.43638691 0.         0.00671615 0.\n",
      " 0.05280797 0.         0.04482487 0.03938192 0.         0.\n",
      " 0.01293164 0.06133105 0.         0.         0.01602575 0.04155241\n",
      " 0.00313888 0.        ]\n"
     ]
    }
   ],
   "source": [
    "print(model_dt4.feature_importances_)"
   ]
  },
  {
   "cell_type": "code",
   "execution_count": 99,
   "metadata": {},
   "outputs": [
    {
     "name": "stdout",
     "output_type": "stream",
     "text": [
      "Feature: 0, Score: 0.12656\n",
      "Feature: 1, Score: 0.15834\n",
      "Feature: 2, Score: 0.43639\n",
      "Feature: 3, Score: 0.00000\n",
      "Feature: 4, Score: 0.00672\n",
      "Feature: 5, Score: 0.00000\n",
      "Feature: 6, Score: 0.05281\n",
      "Feature: 7, Score: 0.00000\n",
      "Feature: 8, Score: 0.04482\n",
      "Feature: 9, Score: 0.03938\n",
      "Feature: 10, Score: 0.00000\n",
      "Feature: 11, Score: 0.00000\n",
      "Feature: 12, Score: 0.01293\n",
      "Feature: 13, Score: 0.06133\n",
      "Feature: 14, Score: 0.00000\n",
      "Feature: 15, Score: 0.00000\n",
      "Feature: 16, Score: 0.01603\n",
      "Feature: 17, Score: 0.04155\n",
      "Feature: 18, Score: 0.00314\n",
      "Feature: 19, Score: 0.00000\n"
     ]
    },
    {
     "data": {
      "image/png": "[encoded data removed]",
      "text/plain": [
       "<Figure size 600x400 with 1 Axes>"
      ]
     },
     "metadata": {},
     "output_type": "display_data"
    }
   ],
   "source": [
    "#https://machinelearningmastery.com/calculate-feature-importance-with-python/ \n",
    "#http://machinelearningandspark.blogspot.com/2016/06/feature-selection-in-decision-tree.html \n",
    "# get importance\n",
    "importance = model_dt4.feature_importances_\n",
    "from matplotlib import pyplot\n",
    "for i,v in enumerate(importance):\n",
    "\tprint('Feature: %0d, Score: %.5f' % (i,v))\n",
    "# plot feature importance\n",
    "pyplot.bar([x for x in range(len(importance))], importance)\n",
    "pyplot.show()"
   ]
  },
  {
   "cell_type": "code",
   "execution_count": 100,
   "metadata": {},
   "outputs": [
    {
     "name": "stdout",
     "output_type": "stream",
     "text": [
      "('Gender', 0.12656305279053162)\n",
      "('Polyuria', 0.15833939937474767)\n",
      "('Polydipsia', 0.43638690887685766)\n",
      "('sudden weight loss', 0.0)\n",
      "('weakness', 0.006716149264222306)\n",
      "('Polyphagia', 0.0)\n",
      "('Genital thrush', 0.05280796751454143)\n",
      "('visual blurring', 0.0)\n",
      "('Itching', 0.0448248699366473)\n",
      "('Irritability', 0.0393819163710637)\n",
      "('delayed healing', 0.0)\n",
      "('partial paresis', 0.0)\n",
      "('muscle stiffness', 0.012931637772525715)\n",
      "('Alopecia', 0.061331052048312004)\n",
      "('Obesity', 0.0)\n",
      "('Age_Group_1', 0.0)\n",
      "('Age_Group_2', 0.016025750747983507)\n",
      "('Age_Group_3', 0.04155241151352205)\n",
      "('Age_Group_4', 0.00313888378904512)\n",
      "('Age_Group_5', 0.0)\n"
     ]
    }
   ],
   "source": [
    "for feature in zip(cat_cols, model_dt4.feature_importances_):\n",
    "    print(feature)"
   ]
  },
  {
   "cell_type": "code",
   "execution_count": 101,
   "metadata": {},
   "outputs": [
    {
     "data": {
      "text/plain": [
       "SelectFromModel(estimator=DecisionTreeClassifier(criterion='entropy',\n",
       "                                                 max_depth=5,\n",
       "                                                 min_samples_leaf=2,\n",
       "                                                 min_samples_split=5,\n",
       "                                                 random_state=4),\n",
       "                threshold=0.03)"
      ]
     },
     "execution_count": 101,
     "metadata": {},
     "output_type": "execute_result"
    }
   ],
   "source": [
    "# Create a selector object that will use the random forest classifier to identify\n",
    "# features that have an importance of more than 0.05\n",
    "from sklearn.feature_selection import SelectFromModel\n",
    "sfm = SelectFromModel(model_dt4, threshold=0.03)\n",
    "\n",
    "# Train the selector\n",
    "sfm.fit(X_train, y_train)"
   ]
  },
  {
   "cell_type": "code",
   "execution_count": 102,
   "metadata": {},
   "outputs": [
    {
     "name": "stdout",
     "output_type": "stream",
     "text": [
      "Gender\n",
      "Polyuria\n",
      "Polydipsia\n",
      "Genital thrush\n",
      "Itching\n",
      "Irritability\n",
      "Alopecia\n",
      "Age_Group_3\n"
     ]
    }
   ],
   "source": [
    "# Print the names of the most important features\n",
    "for feature_list_index in sfm.get_support(indices=True):\n",
    "    print(cat_cols[feature_list_index])"
   ]
  },
  {
   "cell_type": "markdown",
   "metadata": {},
   "source": [
    "Conclusion: Based on Decision Tree, out of 15 only 8 features seems important : Gender, Polyuria,Polydipsia, Genital thrush, Itching, Irritability, Alopecia, Age_Group_3"
   ]
  },
  {
   "cell_type": "markdown",
   "metadata": {},
   "source": [
    "### 8.2.6 Using SFM transform to create new dataset for DT <br id=section80206 ></br>"
   ]
  },
  {
   "cell_type": "code",
   "execution_count": 103,
   "metadata": {},
   "outputs": [],
   "source": [
    "#https://chrisalbon.com/machine_learning/trees_and_forests/feature_selection_using_random_forest/\n",
    "X_important_train = sfm.transform(X_train)\n",
    "X_important_test = sfm.transform(X_test)"
   ]
  },
  {
   "cell_type": "markdown",
   "metadata": {},
   "source": [
    "### 8.2.7 Running tuned DT on selected features <br id=section80207 ></br>"
   ]
  },
  {
   "cell_type": "code",
   "execution_count": 104,
   "metadata": {},
   "outputs": [],
   "source": [
    "model_dt5 = tree.DecisionTreeClassifier(random_state = 42)"
   ]
  },
  {
   "cell_type": "code",
   "execution_count": 105,
   "metadata": {},
   "outputs": [
    {
     "name": "stdout",
     "output_type": "stream",
     "text": [
      "Wall time: 3 ms\n"
     ]
    },
    {
     "data": {
      "text/plain": [
       "DecisionTreeClassifier(random_state=42)"
      ]
     },
     "execution_count": 105,
     "metadata": {},
     "output_type": "execute_result"
    }
   ],
   "source": [
    "%%time\n",
    "model_dt5.fit(X_important_train, y_train)"
   ]
  },
  {
   "cell_type": "code",
   "execution_count": 106,
   "metadata": {},
   "outputs": [
    {
     "name": "stdout",
     "output_type": "stream",
     "text": [
      "[0.98809524 0.98795181 0.98795181 0.95180723 0.96385542 0.91666667\n",
      " 0.96385542 1.         0.93975904 0.97590361 0.98809524 0.95180723\n",
      " 0.96385542 0.97590361 0.97590361]\n",
      "mean dt_score is 0.968760757314974\n"
     ]
    }
   ],
   "source": [
    "from sklearn.model_selection import cross_val_score\n",
    "cv = RepeatedStratifiedKFold(n_splits=5, n_repeats=3, random_state=1)\n",
    "scores = cross_val_score(model_dt5, X_important_train, y_train.values.ravel(), cv=cv)\n",
    "print (scores)\n",
    "print(\"mean dt_score is {}\".format(np.mean(scores)))"
   ]
  },
  {
   "cell_type": "code",
   "execution_count": 107,
   "metadata": {},
   "outputs": [],
   "source": [
    "y_pred_train_dt6 = model_dt5.predict(X_important_train) \n",
    "y_pred_test_dt6 = model_dt5.predict(X_important_test)"
   ]
  },
  {
   "cell_type": "code",
   "execution_count": 108,
   "metadata": {},
   "outputs": [
    {
     "name": "stdout",
     "output_type": "stream",
     "text": [
      "Accuracy score for train data is: 0.9831730769230769\n",
      "Accuracy score for test data is: 0.9711538461538461\n"
     ]
    }
   ],
   "source": [
    "accuracy_train_dt6 = accuracy_score(y_train,y_pred_train_dt6)\n",
    "accuracy_test_dt6 = accuracy_score(y_test,y_pred_test_dt6)\n",
    "print('Accuracy score for train data is:', accuracy_train_dt6)\n",
    "print('Accuracy score for test data is:', accuracy_test_dt6)"
   ]
  },
  {
   "cell_type": "code",
   "execution_count": 109,
   "metadata": {},
   "outputs": [
    {
     "name": "stdout",
     "output_type": "stream",
     "text": [
      "              precision    recall  f1-score   support\n",
      "\n",
      "           0       0.95      0.97      0.96        40\n",
      "           1       0.98      0.97      0.98        64\n",
      "\n",
      "    accuracy                           0.97       104\n",
      "   macro avg       0.97      0.97      0.97       104\n",
      "weighted avg       0.97      0.97      0.97       104\n",
      "\n"
     ]
    }
   ],
   "source": [
    "from sklearn.metrics import classification_report\n",
    "print(classification_report(y_test, y_pred_test_dt6))"
   ]
  },
  {
   "cell_type": "code",
   "execution_count": 110,
   "metadata": {},
   "outputs": [],
   "source": [
    "#from pprint import pprint\n",
    "#print('Parameters currently in use:\\n')\n",
    "#pprint(model_dt6.get_params())"
   ]
  },
  {
   "cell_type": "markdown",
   "metadata": {},
   "source": [
    "### 8.3   Evaluating and improving Random Forest"
   ]
  },
  {
   "cell_type": "markdown",
   "metadata": {},
   "source": [
    "Resources used for Codes\n",
    "#https://towardsdatascience.com/feature-selection-using-random-forest-26d7b747597f\n",
    "#https://chrisalbon.com/machine_learning/trees_and_forests/feature_selection_using_random_forest/\n",
    "#https://machinelearningmastery.com/calculate-feature-importance-with-python/"
   ]
  },
  {
   "cell_type": "code",
   "execution_count": 111,
   "metadata": {},
   "outputs": [
    {
     "data": {
      "text/plain": [
       "RandomForestClassifier(random_state=4)"
      ]
     },
     "execution_count": 111,
     "metadata": {},
     "output_type": "execute_result"
    }
   ],
   "source": [
    "from sklearn.ensemble import RandomForestClassifier\n",
    "model_rf = RandomForestClassifier(random_state = 4)\n",
    "model_rf.fit(X_train, y_train.values.ravel())"
   ]
  },
  {
   "cell_type": "markdown",
   "metadata": {},
   "source": [
    "### 8.3.1 Using RepeatedStratifiedKfold method for cross validation for Random Forest <br id=section80301></br>"
   ]
  },
  {
   "cell_type": "code",
   "execution_count": 112,
   "metadata": {},
   "outputs": [
    {
     "name": "stdout",
     "output_type": "stream",
     "text": [
      "[0.98809524 0.96385542 0.97590361 0.95180723 0.96385542 0.95238095\n",
      " 0.93975904 1.         0.97590361 0.96385542 0.96428571 0.97590361\n",
      " 0.95180723 0.97590361 0.96385542]\n",
      "mean rf_cv_score for train set is 0.9671447695544079 with Std deviation of 0.014866383079743771\n"
     ]
    }
   ],
   "source": [
    "from sklearn.model_selection import cross_val_score\n",
    "cv = RepeatedStratifiedKFold(n_splits=5, n_repeats=3, random_state=1)\n",
    "scores_rf2 = cross_val_score(model_rf, X_train, y_train.values.ravel(), cv=cv)\n",
    "print (scores_rf2)\n",
    "print(\"mean rf_cv_score for train set is {} with Std deviation of {}\".format(np.mean(scores_rf2),np.std(scores_rf2)))"
   ]
  },
  {
   "cell_type": "code",
   "execution_count": 113,
   "metadata": {},
   "outputs": [],
   "source": [
    "from pprint import pprint"
   ]
  },
  {
   "cell_type": "code",
   "execution_count": 114,
   "metadata": {},
   "outputs": [
    {
     "name": "stdout",
     "output_type": "stream",
     "text": [
      "Parameters currently in use:\n",
      "\n",
      "{'bootstrap': True,\n",
      " 'ccp_alpha': 0.0,\n",
      " 'class_weight': None,\n",
      " 'criterion': 'gini',\n",
      " 'max_depth': None,\n",
      " 'max_features': 'auto',\n",
      " 'max_leaf_nodes': None,\n",
      " 'max_samples': None,\n",
      " 'min_impurity_decrease': 0.0,\n",
      " 'min_impurity_split': None,\n",
      " 'min_samples_leaf': 1,\n",
      " 'min_samples_split': 2,\n",
      " 'min_weight_fraction_leaf': 0.0,\n",
      " 'n_estimators': 100,\n",
      " 'n_jobs': None,\n",
      " 'oob_score': False,\n",
      " 'random_state': 4,\n",
      " 'verbose': 0,\n",
      " 'warm_start': False}\n"
     ]
    }
   ],
   "source": [
    "print('Parameters currently in use:\\n')\n",
    "pprint(model_rf.get_params())"
   ]
  },
  {
   "cell_type": "markdown",
   "metadata": {},
   "source": [
    "### 8.3.2 Using Random Search for hypertuning Random Forest <br id=section80302 ></br>"
   ]
  },
  {
   "cell_type": "code",
   "execution_count": 115,
   "metadata": {},
   "outputs": [],
   "source": [
    "model_rf1 = RandomForestClassifier(random_state = 4)\n",
    "from sklearn.model_selection import RandomizedSearchCV\n",
    "from scipy.stats import randint as sp_randint\n",
    "# parameters for GridSearchCV\n",
    "# specify parameters and distributions to sample from\n",
    "param_dist = {\"max_depth\": range(2,10),\n",
    "              \"min_samples_split\": sp_randint(2, 10),\n",
    "              \"min_samples_leaf\": sp_randint(2, 10),\n",
    "              \"bootstrap\": [True, False],\n",
    "              \"n_estimators\": [10,50,100, 200, 400],\n",
    "              \"criterion\" : [\"gini\", \"entropy\"],\n",
    "              'max_features': ['sqrt', 'log2', None]\n",
    "             }\n",
    "cv = RepeatedStratifiedKFold(n_splits=5, n_repeats=3, random_state=1)\n",
    "# run randomized search\n",
    "n_iter_search = 50\n",
    "random_search_rf = RandomizedSearchCV(model_rf1, param_distributions = param_dist,\n",
    "                                   n_iter = n_iter_search,\n",
    "                                   n_jobs = -1, cv=cv)"
   ]
  },
  {
   "cell_type": "code",
   "execution_count": 116,
   "metadata": {},
   "outputs": [
    {
     "name": "stdout",
     "output_type": "stream",
     "text": [
      "Wall time: 1min 49s\n"
     ]
    },
    {
     "data": {
      "text/plain": [
       "RandomizedSearchCV(cv=RepeatedStratifiedKFold(n_repeats=3, n_splits=5, random_state=1),\n",
       "                   estimator=RandomForestClassifier(random_state=4), n_iter=50,\n",
       "                   n_jobs=-1,\n",
       "                   param_distributions={'bootstrap': [True, False],\n",
       "                                        'criterion': ['gini', 'entropy'],\n",
       "                                        'max_depth': range(2, 10),\n",
       "                                        'max_features': ['sqrt', 'log2', None],\n",
       "                                        'min_samples_leaf': <scipy.stats._distn_infrastructure.rv_frozen object at 0x0000024D74D8AD88>,\n",
       "                                        'min_samples_split': <scipy.stats._distn_infrastructure.rv_frozen object at 0x0000024D74E69BC8>,\n",
       "                                        'n_estimators': [10, 50, 100, 200,\n",
       "                                                         400]})"
      ]
     },
     "execution_count": 116,
     "metadata": {},
     "output_type": "execute_result"
    }
   ],
   "source": [
    "%%time\n",
    "random_search_rf.fit(X_train, y_train.values.ravel())"
   ]
  },
  {
   "cell_type": "code",
   "execution_count": 117,
   "metadata": {},
   "outputs": [
    {
     "data": {
      "text/plain": [
       "{'bootstrap': True,\n",
       " 'criterion': 'entropy',\n",
       " 'max_depth': 9,\n",
       " 'max_features': 'log2',\n",
       " 'min_samples_leaf': 2,\n",
       " 'min_samples_split': 6,\n",
       " 'n_estimators': 400}"
      ]
     },
     "execution_count": 117,
     "metadata": {},
     "output_type": "execute_result"
    }
   ],
   "source": [
    "random_search_rf.best_params_"
   ]
  },
  {
   "cell_type": "code",
   "execution_count": 118,
   "metadata": {},
   "outputs": [],
   "source": [
    "y_pred_train_rf = random_search_rf.predict(X_train)\n",
    "y_pred_test_rf = random_search_rf.predict(X_test)"
   ]
  },
  {
   "cell_type": "code",
   "execution_count": 119,
   "metadata": {},
   "outputs": [
    {
     "name": "stdout",
     "output_type": "stream",
     "text": [
      "Accuracy score for train data using the model with parameter specification: 0.9759615384615384\n",
      "Accuracy score for test data using the model with parameter specification: 0.9423076923076923\n"
     ]
    }
   ],
   "source": [
    "from sklearn.metrics import accuracy_score\n",
    "print('Accuracy score for train data using the model with parameter specification:', accuracy_score(y_train,y_pred_train_rf))\n",
    "print('Accuracy score for test data using the model with parameter specification:', accuracy_score(y_test,y_pred_test_rf))"
   ]
  },
  {
   "cell_type": "markdown",
   "metadata": {},
   "source": [
    "### 8.3.3  Hypertuning Random Forest with Grid Search <br id=section80303 ></br>"
   ]
  },
  {
   "cell_type": "code",
   "execution_count": 120,
   "metadata": {},
   "outputs": [],
   "source": [
    "model_rf2 = RandomForestClassifier(random_state = 4)"
   ]
  },
  {
   "cell_type": "code",
   "execution_count": 121,
   "metadata": {},
   "outputs": [],
   "source": [
    "#https://towardsdatascience.com/hyperparameter-tuning-the-random-forest-in-python-using-scikit-learn-28d2aa77dd74 \n",
    "\n",
    "param_dist = {\"max_depth\":(7,8,9,10),\n",
    "              \"min_samples_split\": (2,4,6,8),\n",
    "              \"min_samples_leaf\": (2,3,4,5),\n",
    "              \"bootstrap\": [False],\n",
    "              \"n_estimators\": [50,70,100,200],\n",
    "              \"criterion\" : [\"gini\"],\n",
    "              'max_features': ['sqrt']\n",
    "             }\n",
    "cv = RepeatedStratifiedKFold(n_splits=5, n_repeats=3, random_state=1)\n",
    "grid_search_rf = GridSearchCV(model_rf2,param_dist,cv=cv)"
   ]
  },
  {
   "cell_type": "code",
   "execution_count": 122,
   "metadata": {},
   "outputs": [
    {
     "name": "stdout",
     "output_type": "stream",
     "text": [
      "Wall time: 8min 43s\n"
     ]
    },
    {
     "data": {
      "text/plain": [
       "GridSearchCV(cv=RepeatedStratifiedKFold(n_repeats=3, n_splits=5, random_state=1),\n",
       "             estimator=RandomForestClassifier(random_state=4),\n",
       "             param_grid={'bootstrap': [False], 'criterion': ['gini'],\n",
       "                         'max_depth': (7, 8, 9, 10), 'max_features': ['sqrt'],\n",
       "                         'min_samples_leaf': (2, 3, 4, 5),\n",
       "                         'min_samples_split': (2, 4, 6, 8),\n",
       "                         'n_estimators': [50, 70, 100, 200]})"
      ]
     },
     "execution_count": 122,
     "metadata": {},
     "output_type": "execute_result"
    }
   ],
   "source": [
    "%%time\n",
    "grid_search_rf.fit(X_train, y_train.values.ravel())"
   ]
  },
  {
   "cell_type": "code",
   "execution_count": 123,
   "metadata": {},
   "outputs": [],
   "source": [
    "y_pred_train_rf1 = grid_search_rf.predict(X_train)\n",
    "y_pred_test_rf1 = grid_search_rf.predict(X_test)"
   ]
  },
  {
   "cell_type": "code",
   "execution_count": 124,
   "metadata": {},
   "outputs": [
    {
     "name": "stdout",
     "output_type": "stream",
     "text": [
      "Accuracy score for train data using the model without parameter specification: 0.9879807692307693\n",
      "Accuracy score for test data using the model without parameter specification: 0.9711538461538461\n"
     ]
    }
   ],
   "source": [
    "from sklearn.metrics import accuracy_score\n",
    "print('Accuracy score for train data using the model without parameter specification:', accuracy_score(y_train,y_pred_train_rf1))\n",
    "print('Accuracy score for test data using the model without parameter specification:', accuracy_score(y_test,y_pred_test_rf1))"
   ]
  },
  {
   "cell_type": "code",
   "execution_count": 125,
   "metadata": {},
   "outputs": [
    {
     "name": "stdout",
     "output_type": "stream",
     "text": [
      "              precision    recall  f1-score   support\n",
      "\n",
      "           0       0.95      0.97      0.96        40\n",
      "           1       0.98      0.97      0.98        64\n",
      "\n",
      "    accuracy                           0.97       104\n",
      "   macro avg       0.97      0.97      0.97       104\n",
      "weighted avg       0.97      0.97      0.97       104\n",
      "\n"
     ]
    }
   ],
   "source": [
    "from sklearn.metrics import classification_report\n",
    "print(classification_report(y_test, y_pred_test_rf1))"
   ]
  },
  {
   "cell_type": "code",
   "execution_count": 126,
   "metadata": {},
   "outputs": [
    {
     "data": {
      "text/plain": [
       "{'bootstrap': False,\n",
       " 'criterion': 'gini',\n",
       " 'max_depth': 9,\n",
       " 'max_features': 'sqrt',\n",
       " 'min_samples_leaf': 2,\n",
       " 'min_samples_split': 6,\n",
       " 'n_estimators': 70}"
      ]
     },
     "execution_count": 126,
     "metadata": {},
     "output_type": "execute_result"
    }
   ],
   "source": [
    "grid_search_rf.best_params_"
   ]
  },
  {
   "cell_type": "markdown",
   "metadata": {},
   "source": [
    "Conclusions:\n",
    "GridSearch is computationally very expensive and is giving the same score as the base model. However, between the 2 models whhc will perform better, can only be confirmed when the model is deployed. "
   ]
  },
  {
   "cell_type": "markdown",
   "metadata": {},
   "source": [
    "### 8.3.4 Feature Selection based on best Random Forest Model  <br id=section80304 ></br>"
   ]
  },
  {
   "cell_type": "code",
   "execution_count": 127,
   "metadata": {},
   "outputs": [],
   "source": [
    "model_rf3 = RandomForestClassifier(random_state = 4,\n",
    "                                n_estimators = 100,\n",
    "                                min_samples_split = 4,\n",
    "                                min_samples_leaf = 2,\n",
    "                                  max_depth=9,\n",
    "                                  bootstrap=False,\n",
    "                                   max_features= 'sqrt',\n",
    "                                  criterion='gini')"
   ]
  },
  {
   "cell_type": "code",
   "execution_count": 128,
   "metadata": {},
   "outputs": [
    {
     "data": {
      "text/plain": [
       "RandomForestClassifier(bootstrap=False, max_depth=9, max_features='sqrt',\n",
       "                       min_samples_leaf=2, min_samples_split=4, random_state=4)"
      ]
     },
     "execution_count": 128,
     "metadata": {},
     "output_type": "execute_result"
    }
   ],
   "source": [
    "model_rf3.fit(X_train, y_train.values.ravel())"
   ]
  },
  {
   "cell_type": "code",
   "execution_count": 129,
   "metadata": {},
   "outputs": [
    {
     "name": "stdout",
     "output_type": "stream",
     "text": [
      "Parameters currently in use:\n",
      "\n",
      "{'bootstrap': False,\n",
      " 'ccp_alpha': 0.0,\n",
      " 'class_weight': None,\n",
      " 'criterion': 'gini',\n",
      " 'max_depth': 9,\n",
      " 'max_features': 'sqrt',\n",
      " 'max_leaf_nodes': None,\n",
      " 'max_samples': None,\n",
      " 'min_impurity_decrease': 0.0,\n",
      " 'min_impurity_split': None,\n",
      " 'min_samples_leaf': 2,\n",
      " 'min_samples_split': 4,\n",
      " 'min_weight_fraction_leaf': 0.0,\n",
      " 'n_estimators': 100,\n",
      " 'n_jobs': None,\n",
      " 'oob_score': False,\n",
      " 'random_state': 4,\n",
      " 'verbose': 0,\n",
      " 'warm_start': False}\n"
     ]
    }
   ],
   "source": [
    "print('Parameters currently in use:\\n')\n",
    "pprint(model_rf3.get_params())"
   ]
  },
  {
   "cell_type": "code",
   "execution_count": 130,
   "metadata": {},
   "outputs": [],
   "source": [
    "cv = RepeatedStratifiedKFold(n_splits=5, n_repeats=3, random_state=1)"
   ]
  },
  {
   "cell_type": "code",
   "execution_count": 131,
   "metadata": {},
   "outputs": [],
   "source": [
    "y_pred_train_rf3 = model_rf3.predict(X_train)\n",
    "y_pred_test_rf3 = model_rf3.predict(X_test)"
   ]
  },
  {
   "cell_type": "code",
   "execution_count": 132,
   "metadata": {},
   "outputs": [
    {
     "name": "stdout",
     "output_type": "stream",
     "text": [
      "Accuracy score for train data using the model with parameter specification: 0.9879807692307693\n",
      "Accuracy score for test data using the model with parameter specification: 0.9807692307692307\n"
     ]
    }
   ],
   "source": [
    "from sklearn.metrics import accuracy_score\n",
    "print('Accuracy score for train data using the model with parameter specification:', accuracy_score(y_train,y_pred_train_rf3))\n",
    "print('Accuracy score for test data using the model with parameter specification:', accuracy_score(y_test,y_pred_test_rf3))"
   ]
  },
  {
   "cell_type": "code",
   "execution_count": 133,
   "metadata": {},
   "outputs": [
    {
     "name": "stdout",
     "output_type": "stream",
     "text": [
      "              precision    recall  f1-score   support\n",
      "\n",
      "           0       0.97      0.97      0.97        40\n",
      "           1       0.98      0.98      0.98        64\n",
      "\n",
      "    accuracy                           0.98       104\n",
      "   macro avg       0.98      0.98      0.98       104\n",
      "weighted avg       0.98      0.98      0.98       104\n",
      "\n"
     ]
    }
   ],
   "source": [
    "print(classification_report(y_test,y_pred_test_rf3))"
   ]
  },
  {
   "cell_type": "code",
   "execution_count": 134,
   "metadata": {},
   "outputs": [
    {
     "name": "stdout",
     "output_type": "stream",
     "text": [
      "[0.11068446 0.22852863 0.2090247  0.04297093 0.01970704 0.03401916\n",
      " 0.02056402 0.02771669 0.0268911  0.03955668 0.02902658 0.0698443\n",
      " 0.02694448 0.04135857 0.01594587 0.00760473 0.01484473 0.01489032\n",
      " 0.01204777 0.00782922]\n"
     ]
    }
   ],
   "source": [
    "print(model_rf3.feature_importances_)"
   ]
  },
  {
   "cell_type": "code",
   "execution_count": 135,
   "metadata": {},
   "outputs": [
    {
     "name": "stdout",
     "output_type": "stream",
     "text": [
      "('Gender', 0.11068445708942688)\n",
      "('Polyuria', 0.22852863258458242)\n",
      "('Polydipsia', 0.20902470147557664)\n",
      "('sudden weight loss', 0.042970934498683465)\n",
      "('weakness', 0.019707041024860778)\n",
      "('Polyphagia', 0.03401916325751855)\n",
      "('Genital thrush', 0.02056401845541992)\n",
      "('visual blurring', 0.027716692838879217)\n",
      "('Itching', 0.026891104667767056)\n",
      "('Irritability', 0.03955668006086208)\n",
      "('delayed healing', 0.02902657675031881)\n",
      "('partial paresis', 0.06984429638000288)\n",
      "('muscle stiffness', 0.02694448116017152)\n",
      "('Alopecia', 0.04135857419972098)\n",
      "('Obesity', 0.015945868929150477)\n",
      "('Age_Group_1', 0.00760473065943055)\n",
      "('Age_Group_2', 0.01484473365961253)\n",
      "('Age_Group_3', 0.014890323378978802)\n",
      "('Age_Group_4', 0.012047766977283167)\n",
      "('Age_Group_5', 0.007829221951753399)\n"
     ]
    }
   ],
   "source": [
    "for feature in zip(cat_cols, model_rf3.feature_importances_):\n",
    "    print(feature)"
   ]
  },
  {
   "cell_type": "code",
   "execution_count": 136,
   "metadata": {},
   "outputs": [
    {
     "name": "stdout",
     "output_type": "stream",
     "text": [
      "Feature: 0, Score: 0.11068\n",
      "Feature: 1, Score: 0.22853\n",
      "Feature: 2, Score: 0.20902\n",
      "Feature: 3, Score: 0.04297\n",
      "Feature: 4, Score: 0.01971\n",
      "Feature: 5, Score: 0.03402\n",
      "Feature: 6, Score: 0.02056\n",
      "Feature: 7, Score: 0.02772\n",
      "Feature: 8, Score: 0.02689\n",
      "Feature: 9, Score: 0.03956\n",
      "Feature: 10, Score: 0.02903\n",
      "Feature: 11, Score: 0.06984\n",
      "Feature: 12, Score: 0.02694\n",
      "Feature: 13, Score: 0.04136\n",
      "Feature: 14, Score: 0.01595\n",
      "Feature: 15, Score: 0.00760\n",
      "Feature: 16, Score: 0.01484\n",
      "Feature: 17, Score: 0.01489\n",
      "Feature: 18, Score: 0.01205\n",
      "Feature: 19, Score: 0.00783\n"
     ]
    },
    {
     "data": {
      "image/png": "[encoded data removed]",
      "text/plain": [
       "<Figure size 600x400 with 1 Axes>"
      ]
     },
     "metadata": {},
     "output_type": "display_data"
    }
   ],
   "source": [
    "#https://machinelearningmastery.com/calculate-feature-importance-with-python/ \n",
    "#http://machinelearningandspark.blogspot.com/2016/06/feature-selection-in-decision-tree.html \n",
    "# get importance\n",
    "importance = model_rf3.feature_importances_\n",
    "from matplotlib import pyplot\n",
    "for i,v in enumerate(importance):\n",
    "\tprint('Feature: %0d, Score: %.5f' % (i,v))\n",
    "# plot feature importance\n",
    "pyplot.bar([x for x in range(len(importance))], importance)\n",
    "pyplot.show()"
   ]
  },
  {
   "cell_type": "code",
   "execution_count": 137,
   "metadata": {},
   "outputs": [
    {
     "data": {
      "text/plain": [
       "SelectFromModel(estimator=RandomForestClassifier(bootstrap=False, max_depth=9,\n",
       "                                                 max_features='sqrt',\n",
       "                                                 min_samples_leaf=2,\n",
       "                                                 min_samples_split=4,\n",
       "                                                 random_state=4),\n",
       "                threshold=0.03)"
      ]
     },
     "execution_count": 137,
     "metadata": {},
     "output_type": "execute_result"
    }
   ],
   "source": [
    "# Create a selector object that will use the random forest classifier to identify\n",
    "# features that have an importance of more than 0.05\n",
    "from sklearn.feature_selection import SelectFromModel\n",
    "sfm2 = SelectFromModel(model_rf3, threshold=0.03)\n",
    "\n",
    "# Train the selector\n",
    "sfm2.fit(X_train, y_train.values.ravel())"
   ]
  },
  {
   "cell_type": "code",
   "execution_count": 138,
   "metadata": {},
   "outputs": [
    {
     "name": "stdout",
     "output_type": "stream",
     "text": [
      "Gender\n",
      "Polyuria\n",
      "Polydipsia\n",
      "sudden weight loss\n",
      "Polyphagia\n",
      "Irritability\n",
      "partial paresis\n",
      "Alopecia\n"
     ]
    }
   ],
   "source": [
    "# Print the names of the most important features\n",
    "for feature_list_index in sfm2.get_support(indices=True):\n",
    "    print(cat_cols[feature_list_index])"
   ]
  },
  {
   "cell_type": "code",
   "execution_count": 139,
   "metadata": {},
   "outputs": [],
   "source": [
    "# Classification reports instead of accuracy for all \n",
    "#Try new featurew with 0.05 and 0.03\n",
    "# Check for new features based on DT\n",
    "# Try PCA and kernel PCA \n"
   ]
  },
  {
   "cell_type": "markdown",
   "metadata": {},
   "source": [
    "### 8.3.5  Using SFM to create new dataset with important features based on the best Random Forest Model <br id=section80305 ></br>"
   ]
  },
  {
   "cell_type": "code",
   "execution_count": 140,
   "metadata": {},
   "outputs": [],
   "source": [
    "#https://chrisalbon.com/machine_learning/trees_and_forests/feature_selection_using_random_forest/\n",
    "X_important_train2 = sfm2.transform(X_train)\n",
    "X_important_test2 = sfm2.transform(X_test)"
   ]
  },
  {
   "cell_type": "markdown",
   "metadata": {},
   "source": [
    "### 8.3.6 Running tuned RF model on selected features  <br id=section80306 ></br>"
   ]
  },
  {
   "cell_type": "code",
   "execution_count": 141,
   "metadata": {},
   "outputs": [],
   "source": [
    "model_rf4 = RandomForestClassifier(random_state = 4,\n",
    "                                n_estimators = 100,\n",
    "                                min_samples_split = 4,\n",
    "                                min_samples_leaf = 2,\n",
    "                                  max_depth=9,\n",
    "                                  bootstrap=False,\n",
    "                                   max_features= 'sqrt',\n",
    "                                  criterion='gini')"
   ]
  },
  {
   "cell_type": "code",
   "execution_count": 142,
   "metadata": {},
   "outputs": [
    {
     "data": {
      "text/plain": [
       "RandomForestClassifier(bootstrap=False, max_depth=9, max_features='sqrt',\n",
       "                       min_samples_leaf=2, min_samples_split=4, random_state=4)"
      ]
     },
     "execution_count": 142,
     "metadata": {},
     "output_type": "execute_result"
    }
   ],
   "source": [
    "model_rf4.fit(X_important_train2, y_train.values.ravel())"
   ]
  },
  {
   "cell_type": "code",
   "execution_count": 143,
   "metadata": {},
   "outputs": [],
   "source": [
    "y_pred_train_rf4 = model_rf4.predict(X_important_train2)\n",
    "y_pred_test_rf4 = model_rf4.predict(X_important_test2)"
   ]
  },
  {
   "cell_type": "code",
   "execution_count": 144,
   "metadata": {},
   "outputs": [
    {
     "name": "stdout",
     "output_type": "stream",
     "text": [
      "[0.96428571 0.95180723 0.93975904 0.91566265 0.91566265 0.91666667\n",
      " 0.89156627 0.97590361 0.95180723 0.95180723 0.97619048 0.93975904\n",
      " 0.92771084 0.93975904 0.91566265]\n",
      "mean dt_score is 0.9382673551348248\n"
     ]
    }
   ],
   "source": [
    "from sklearn.model_selection import cross_val_score\n",
    "cv = RepeatedStratifiedKFold(n_splits=5, n_repeats=3, random_state=1)\n",
    "scores = cross_val_score(model_rf4, X_important_train2, y_train.values.ravel(), cv=cv)\n",
    "print (scores)\n",
    "print(\"mean dt_score is {}\".format(np.mean(scores)))"
   ]
  },
  {
   "cell_type": "code",
   "execution_count": 145,
   "metadata": {},
   "outputs": [
    {
     "name": "stdout",
     "output_type": "stream",
     "text": [
      "Accuracy score for train data using the model without parameter specification: 0.9543269230769231\n",
      "Accuracy score for test data using the model without parameter specification: 0.9326923076923077\n"
     ]
    }
   ],
   "source": [
    "from sklearn.metrics import accuracy_score\n",
    "print('Accuracy score for train data using the model without parameter specification:', accuracy_score(y_train,y_pred_train_rf4))\n",
    "print('Accuracy score for test data using the model without parameter specification:', accuracy_score(y_test,y_pred_test_rf4))"
   ]
  },
  {
   "cell_type": "code",
   "execution_count": 146,
   "metadata": {},
   "outputs": [
    {
     "name": "stdout",
     "output_type": "stream",
     "text": [
      "              precision    recall  f1-score   support\n",
      "\n",
      "           0       0.88      0.95      0.92        40\n",
      "           1       0.97      0.92      0.94        64\n",
      "\n",
      "    accuracy                           0.93       104\n",
      "   macro avg       0.93      0.94      0.93       104\n",
      "weighted avg       0.94      0.93      0.93       104\n",
      "\n"
     ]
    }
   ],
   "source": [
    "from sklearn.metrics import classification_report\n",
    "print(classification_report(y_test, y_pred_test_rf4))"
   ]
  },
  {
   "cell_type": "code",
   "execution_count": 147,
   "metadata": {},
   "outputs": [
    {
     "name": "stdout",
     "output_type": "stream",
     "text": [
      "Parameters currently in use:\n",
      "\n",
      "{'bootstrap': False,\n",
      " 'ccp_alpha': 0.0,\n",
      " 'class_weight': None,\n",
      " 'criterion': 'gini',\n",
      " 'max_depth': 9,\n",
      " 'max_features': 'sqrt',\n",
      " 'max_leaf_nodes': None,\n",
      " 'max_samples': None,\n",
      " 'min_impurity_decrease': 0.0,\n",
      " 'min_impurity_split': None,\n",
      " 'min_samples_leaf': 2,\n",
      " 'min_samples_split': 4,\n",
      " 'min_weight_fraction_leaf': 0.0,\n",
      " 'n_estimators': 100,\n",
      " 'n_jobs': None,\n",
      " 'oob_score': False,\n",
      " 'random_state': 4,\n",
      " 'verbose': 0,\n",
      " 'warm_start': False}\n"
     ]
    }
   ],
   "source": [
    "print('Parameters currently in use:\\n')\n",
    "pprint(model_rf4.get_params())"
   ]
  },
  {
   "cell_type": "markdown",
   "metadata": {},
   "source": [
    "### 8.3.7 Tuning RF model for selected features  <br id=section80307 ></br>"
   ]
  },
  {
   "cell_type": "code",
   "execution_count": 148,
   "metadata": {},
   "outputs": [],
   "source": [
    "model_rf5 = RandomForestClassifier(random_state = 4)\n",
    "param_dist = {\"max_depth\":(7,8,9,10),\n",
    "              \"min_samples_split\": (4,6,8,10),\n",
    "              \"min_samples_leaf\": (2,3,4),\n",
    "              \"bootstrap\": [False],\n",
    "              \"n_estimators\": [20,50,70,100],\n",
    "              \"criterion\" : [\"gini\"],\n",
    "              'max_features': ['sqrt','log2',None]\n",
    "             }\n",
    "cv = RepeatedStratifiedKFold(n_splits=5, n_repeats=3, random_state=1)\n",
    "grid_search_rf5 = GridSearchCV(model_rf5,param_dist,cv=cv)"
   ]
  },
  {
   "cell_type": "code",
   "execution_count": 149,
   "metadata": {},
   "outputs": [
    {
     "name": "stdout",
     "output_type": "stream",
     "text": [
      "Wall time: 11min 1s\n"
     ]
    },
    {
     "data": {
      "text/plain": [
       "GridSearchCV(cv=RepeatedStratifiedKFold(n_repeats=3, n_splits=5, random_state=1),\n",
       "             estimator=RandomForestClassifier(random_state=4),\n",
       "             param_grid={'bootstrap': [False], 'criterion': ['gini'],\n",
       "                         'max_depth': (7, 8, 9, 10),\n",
       "                         'max_features': ['sqrt', 'log2', None],\n",
       "                         'min_samples_leaf': (2, 3, 4),\n",
       "                         'min_samples_split': (4, 6, 8, 10),\n",
       "                         'n_estimators': [20, 50, 70, 100]})"
      ]
     },
     "execution_count": 149,
     "metadata": {},
     "output_type": "execute_result"
    }
   ],
   "source": [
    "%%time\n",
    "grid_search_rf5.fit(X_important_train2, y_train.values.ravel())"
   ]
  },
  {
   "cell_type": "code",
   "execution_count": 150,
   "metadata": {},
   "outputs": [],
   "source": [
    "y_pred_train_rf5 = grid_search_rf5.predict(X_important_train2)\n",
    "y_pred_test_rf5 = grid_search_rf5.predict(X_important_test2)"
   ]
  },
  {
   "cell_type": "code",
   "execution_count": 151,
   "metadata": {},
   "outputs": [
    {
     "name": "stdout",
     "output_type": "stream",
     "text": [
      "              precision    recall  f1-score   support\n",
      "\n",
      "           0       0.88      0.95      0.92        40\n",
      "           1       0.97      0.92      0.94        64\n",
      "\n",
      "    accuracy                           0.93       104\n",
      "   macro avg       0.93      0.94      0.93       104\n",
      "weighted avg       0.94      0.93      0.93       104\n",
      "\n"
     ]
    }
   ],
   "source": [
    "print(classification_report(y_test, y_pred_test_rf5))"
   ]
  },
  {
   "cell_type": "code",
   "execution_count": 152,
   "metadata": {},
   "outputs": [
    {
     "data": {
      "text/plain": [
       "{'bootstrap': False,\n",
       " 'criterion': 'gini',\n",
       " 'max_depth': 8,\n",
       " 'max_features': 'sqrt',\n",
       " 'min_samples_leaf': 2,\n",
       " 'min_samples_split': 4,\n",
       " 'n_estimators': 70}"
      ]
     },
     "execution_count": 152,
     "metadata": {},
     "output_type": "execute_result"
    }
   ],
   "source": [
    "grid_search_rf5.best_params_"
   ]
  },
  {
   "cell_type": "code",
   "execution_count": 153,
   "metadata": {},
   "outputs": [
    {
     "name": "stdout",
     "output_type": "stream",
     "text": [
      "Wall time: 14.4 s\n"
     ]
    },
    {
     "data": {
      "text/plain": [
       "GridSearchCV(cv=RepeatedStratifiedKFold(n_repeats=3, n_splits=5, random_state=1),\n",
       "             estimator=DecisionTreeClassifier(random_state=4),\n",
       "             param_grid=[{'criterion': ['gini', 'entropy'],\n",
       "                          'max_depth': (6, 7, 8, 9),\n",
       "                          'max_features': ['sqrt', 'log2', None],\n",
       "                          'min_samples_leaf': (2, 3, 4),\n",
       "                          'min_samples_split': (3, 4, 5, 6)}],\n",
       "             refit='AUC')"
      ]
     },
     "execution_count": 153,
     "metadata": {},
     "output_type": "execute_result"
    }
   ],
   "source": [
    "%%time\n",
    "model_dt7 = tree.DecisionTreeClassifier(random_state = 4)\n",
    "from sklearn.model_selection import GridSearchCV\n",
    "\n",
    "tree_para = [{'criterion':['gini','entropy'],'max_depth':(6,7,8,9),'min_samples_leaf':(2,3,4),'min_samples_split':(3,4,5,6),\n",
    "                             'max_features': ['sqrt','log2',None] }]\n",
    "                            \n",
    "# run grid search with K fold cross validation\n",
    "cv = RepeatedStratifiedKFold(n_splits=5, n_repeats=3, random_state=1)\n",
    "grid_search_dt7 = GridSearchCV(model_dt7,tree_para, cv=cv, refit='AUC')\n",
    "grid_search_dt7.fit(X_important_train2, y_train)"
   ]
  },
  {
   "cell_type": "code",
   "execution_count": 154,
   "metadata": {},
   "outputs": [],
   "source": [
    "y_pred_train_dt7 = grid_search_dt7.predict(X_important_train2)\n",
    "y_pred_test_dt7 = grid_search_dt7.predict(X_important_test2)"
   ]
  },
  {
   "cell_type": "code",
   "execution_count": 155,
   "metadata": {},
   "outputs": [
    {
     "name": "stdout",
     "output_type": "stream",
     "text": [
      "Accuracy score for train data using the model without Grid search: 0.9495192307692307\n",
      "Accuracy score for test data using the model without Grid search: 0.9230769230769231\n"
     ]
    }
   ],
   "source": [
    "from sklearn.metrics import accuracy_score\n",
    "print('Accuracy score for train data using the model without Grid search:', accuracy_score(y_train,y_pred_train_dt7))\n",
    "print('Accuracy score for test data using the model without Grid search:', accuracy_score(y_test,y_pred_test_dt7))"
   ]
  },
  {
   "cell_type": "code",
   "execution_count": 156,
   "metadata": {},
   "outputs": [
    {
     "name": "stdout",
     "output_type": "stream",
     "text": [
      "              precision    recall  f1-score   support\n",
      "\n",
      "           0       0.86      0.95      0.90        40\n",
      "           1       0.97      0.91      0.94        64\n",
      "\n",
      "    accuracy                           0.92       104\n",
      "   macro avg       0.92      0.93      0.92       104\n",
      "weighted avg       0.93      0.92      0.92       104\n",
      "\n"
     ]
    }
   ],
   "source": [
    "print(classification_report(y_test, y_pred_test_dt7))"
   ]
  },
  {
   "cell_type": "code",
   "execution_count": 157,
   "metadata": {},
   "outputs": [
    {
     "data": {
      "text/plain": [
       "{'criterion': 'gini',\n",
       " 'max_depth': 8,\n",
       " 'max_features': 'log2',\n",
       " 'min_samples_leaf': 2,\n",
       " 'min_samples_split': 3}"
      ]
     },
     "execution_count": 157,
     "metadata": {},
     "output_type": "execute_result"
    }
   ],
   "source": [
    "grid_search_dt7.best_params_"
   ]
  },
  {
   "cell_type": "markdown",
   "metadata": {},
   "source": [
    "### 8.4. Adding important features from the best DT and RF models <br id=section804 ></br>"
   ]
  },
  {
   "cell_type": "code",
   "execution_count": 158,
   "metadata": {},
   "outputs": [],
   "source": [
    "#Adding three more important features from RF model\n",
    "\n",
    "imp_cols_merge = ['Gender','Polyuria','Polydipsia','Genital thrush','Alopecia', \"Itching\",\"Irritability\", \"Age_Group_3\",\n",
    "'sudden weight loss','Polyphagia','partial paresis']"
   ]
  },
  {
   "cell_type": "code",
   "execution_count": 159,
   "metadata": {},
   "outputs": [],
   "source": [
    "X_train_merged=X_train[imp_cols_merge]\n",
    "X_test_merged=X_test[imp_cols_merge]"
   ]
  },
  {
   "cell_type": "markdown",
   "metadata": {},
   "source": [
    "### 8.4.1 Running Base Models on new dataset containing selected features from the best DT and RF models  <br id=section80401></br>"
   ]
  },
  {
   "cell_type": "code",
   "execution_count": 160,
   "metadata": {},
   "outputs": [
    {
     "name": "stdout",
     "output_type": "stream",
     "text": [
      "This is base model experiementation to decide benchmark models\n",
      "Test Accuracy for LogisticRegression(max_iter=1000) is 0.933, F1 score is 0.945 Time taken is 0.011 seconds\n",
      "Test Accuracy for DecisionTreeClassifier() is 0.933, F1 score is 0.946 Time taken is 0.004 seconds\n",
      "Test Accuracy for RandomForestClassifier() is 0.933, F1 score is 0.946 Time taken is 0.189 seconds\n",
      "Test Accuracy for KNeighborsClassifier() is 0.923, F1 score is 0.935 Time taken is 0.008 seconds\n",
      "Test Accuracy for GaussianNB() is 0.885, F1 score is 0.909 Time taken is 0.004 seconds\n",
      "Test Accuracy for SVC(C=0.8, gamma='auto') is 0.923, F1 score is 0.938 Time taken is 0.006 seconds\n",
      "Test Accuracy for SVC(C=0.8, gamma='auto', kernel='linear') is 0.923, F1 score is 0.937 Time taken is 0.005 seconds\n",
      "Test Accuracy for SVC(C=0.8, gamma='auto', kernel='poly') is 0.904, F1 score is 0.918 Time taken is 0.006 seconds\n"
     ]
    }
   ],
   "source": [
    "print (\"This is base model experiementation to decide benchmark models\")\n",
    "for eachModel in models:\n",
    "  model = eachModel\n",
    "  start_time = time.time()\n",
    "  model.fit(X_train_merged, y_train.values.ravel())\n",
    "  pred = model.predict(X_test_merged)\n",
    "  current_time=time.time()  \n",
    "  elapsed_time = (current_time - start_time)\n",
    "  x = round(elapsed_time,3)\n",
    "  accuracy = accuracy_score(pred,y_test)\n",
    "  F1 = f1_score(pred,y_test)\n",
    "  accuracy = round(accuracy,3)\n",
    "  F1 = round(F1,3)\n",
    "  print (\"Test Accuracy for {} is {}, F1 score is {}\".format(model,accuracy,F1),\"Time taken is {} seconds\".format(x))"
   ]
  },
  {
   "cell_type": "markdown",
   "metadata": {},
   "source": [
    "### 8.4.2 Refining Logistic Regression with Grid Search for new dataset wth selected features from the best DT and RF models <br id= section80402></br>"
   ]
  },
  {
   "cell_type": "code",
   "execution_count": 161,
   "metadata": {},
   "outputs": [
    {
     "name": "stdout",
     "output_type": "stream",
     "text": [
      "Wall time: 3.24 s\n"
     ]
    }
   ],
   "source": [
    "%%time\n",
    "# define models and parameters\n",
    "lr1 = LogisticRegression()\n",
    "solvers = ['newton-cg', 'lbfgs', 'liblinear']\n",
    "penalty = ['l2']\n",
    "c_values = [100, 10, 1.0, 0.1, 0.01]\n",
    "# define grid search\n",
    "grid = dict(solver=solvers,penalty=penalty,C=c_values)\n",
    "cv = RepeatedStratifiedKFold(n_splits=5, n_repeats=3, random_state=1)\n",
    "grid_search_lr1 = GridSearchCV(estimator=lr1, param_grid=grid, n_jobs=-1, cv=cv, scoring='accuracy',error_score=0)\n",
    "grid_result = grid_search_lr1.fit(X_train_merged, y_train.values.ravel())"
   ]
  },
  {
   "cell_type": "code",
   "execution_count": 162,
   "metadata": {},
   "outputs": [
    {
     "name": "stdout",
     "output_type": "stream",
     "text": [
      "Best: 0.914257 using {'C': 10, 'penalty': 'l2', 'solver': 'newton-cg'}\n",
      "0.911035 (0.032521) with: {'C': 100, 'penalty': 'l2', 'solver': 'newton-cg'}\n",
      "0.911035 (0.032521) with: {'C': 100, 'penalty': 'l2', 'solver': 'lbfgs'}\n",
      "0.911035 (0.032521) with: {'C': 100, 'penalty': 'l2', 'solver': 'liblinear'}\n",
      "0.914257 (0.032166) with: {'C': 10, 'penalty': 'l2', 'solver': 'newton-cg'}\n",
      "0.914257 (0.032166) with: {'C': 10, 'penalty': 'l2', 'solver': 'lbfgs'}\n",
      "0.914257 (0.032166) with: {'C': 10, 'penalty': 'l2', 'solver': 'liblinear'}\n",
      "0.909466 (0.033631) with: {'C': 1.0, 'penalty': 'l2', 'solver': 'newton-cg'}\n",
      "0.909466 (0.033631) with: {'C': 1.0, 'penalty': 'l2', 'solver': 'lbfgs'}\n",
      "0.909466 (0.033631) with: {'C': 1.0, 'penalty': 'l2', 'solver': 'liblinear'}\n",
      "0.890256 (0.034039) with: {'C': 0.1, 'penalty': 'l2', 'solver': 'newton-cg'}\n",
      "0.890256 (0.034039) with: {'C': 0.1, 'penalty': 'l2', 'solver': 'lbfgs'}\n",
      "0.894234 (0.034497) with: {'C': 0.1, 'penalty': 'l2', 'solver': 'liblinear'}\n",
      "0.834060 (0.047910) with: {'C': 0.01, 'penalty': 'l2', 'solver': 'newton-cg'}\n",
      "0.834060 (0.047910) with: {'C': 0.01, 'penalty': 'l2', 'solver': 'lbfgs'}\n",
      "0.858156 (0.046475) with: {'C': 0.01, 'penalty': 'l2', 'solver': 'liblinear'}\n"
     ]
    }
   ],
   "source": [
    "print(\"Best: %f using %s\" % (grid_result.best_score_, grid_result.best_params_))\n",
    "means = grid_result.cv_results_['mean_test_score']\n",
    "stds = grid_result.cv_results_['std_test_score']\n",
    "params = grid_result.cv_results_['params']\n",
    "for mean, stdev, param in zip(means, stds, params):\n",
    "    print(\"%f (%f) with: %r\" % (mean, stdev, param))\n",
    "#https://machinelearningmastery.com/hyperparameters-for-classification-machine-learning-algorithms/"
   ]
  },
  {
   "cell_type": "code",
   "execution_count": 163,
   "metadata": {},
   "outputs": [],
   "source": [
    "y_pred_train_lr1 = grid_search_lr1.predict(X_train_merged)\n",
    "y_pred_test_lr1 = grid_search_lr1.predict(X_test_merged)"
   ]
  },
  {
   "cell_type": "code",
   "execution_count": 164,
   "metadata": {},
   "outputs": [
    {
     "name": "stdout",
     "output_type": "stream",
     "text": [
      "Accuracy score for train data using the model with Grid search: 0.9326923076923077\n",
      "Accuracy score for test data using the model with Grid search: 0.9326923076923077\n"
     ]
    }
   ],
   "source": [
    "print('Accuracy score for train data using the model with Grid search:', accuracy_score(y_train,y_pred_train_lr1))\n",
    "print('Accuracy score for test data using the model with Grid search:', accuracy_score(y_test,y_pred_test_lr1))"
   ]
  },
  {
   "cell_type": "code",
   "execution_count": 165,
   "metadata": {},
   "outputs": [
    {
     "name": "stdout",
     "output_type": "stream",
     "text": [
      "              precision    recall  f1-score   support\n",
      "\n",
      "           0       0.90      0.93      0.91        40\n",
      "           1       0.95      0.94      0.94        64\n",
      "\n",
      "    accuracy                           0.93       104\n",
      "   macro avg       0.93      0.93      0.93       104\n",
      "weighted avg       0.93      0.93      0.93       104\n",
      "\n"
     ]
    }
   ],
   "source": [
    "print(classification_report(y_test, y_pred_test_lr1))"
   ]
  },
  {
   "cell_type": "code",
   "execution_count": 166,
   "metadata": {},
   "outputs": [
    {
     "name": "stdout",
     "output_type": "stream",
     "text": [
      "0.9448818897637795\n"
     ]
    }
   ],
   "source": [
    "print(f1_score(y_test,y_pred_test_lr1))"
   ]
  },
  {
   "cell_type": "markdown",
   "metadata": {},
   "source": [
    "### 8.4.3 Refinining Decision Tree with Random Search using the new dataset with selected features from the best DT and RF models <br id=section80403 ></br>"
   ]
  },
  {
   "cell_type": "code",
   "execution_count": 167,
   "metadata": {},
   "outputs": [
    {
     "name": "stdout",
     "output_type": "stream",
     "text": [
      "Wall time: 1.05 s\n"
     ]
    },
    {
     "data": {
      "text/plain": [
       "RandomizedSearchCV(cv=RepeatedStratifiedKFold(n_repeats=3, n_splits=5, random_state=1),\n",
       "                   estimator=DecisionTreeClassifier(random_state=4),\n",
       "                   param_distributions=[{'criterion': ['gini'],\n",
       "                                         'max_depth': range(2, 8),\n",
       "                                         'max_features': ['sqrt', 'log2', None],\n",
       "                                         'min_samples_leaf': range(2, 8),\n",
       "                                         'min_samples_split': range(2, 8)}],\n",
       "                   refit='AUC')"
      ]
     },
     "execution_count": 167,
     "metadata": {},
     "output_type": "execute_result"
    }
   ],
   "source": [
    "%%time\n",
    "model_dt8=tree.DecisionTreeClassifier(random_state = 4)\n",
    "tree_para = [{'criterion':['gini'],'max_depth': range(2,8),'min_samples_leaf': range(2,8), 'min_samples_split': range(2,8),'max_features': ['sqrt', 'log2',None]}]\n",
    "\n",
    "# run randomized search with K fold cross validation\n",
    "cv = RepeatedStratifiedKFold(n_splits=5, n_repeats=3, random_state=1)\n",
    "random_search_dt8 = RandomizedSearchCV(model_dt8,tree_para, cv=cv,refit='AUC')\n",
    "random_search_dt8.fit(X_train_merged, y_train)"
   ]
  },
  {
   "cell_type": "code",
   "execution_count": 168,
   "metadata": {},
   "outputs": [],
   "source": [
    "y_pred_train_dt8 = random_search_dt8.predict(X_train_merged) \n",
    "y_pred_test_dt8 = random_search_dt8.predict(X_test_merged)"
   ]
  },
  {
   "cell_type": "code",
   "execution_count": 169,
   "metadata": {},
   "outputs": [
    {
     "name": "stdout",
     "output_type": "stream",
     "text": [
      "Accuracy score for train data using the model without Grid search: 0.9375\n",
      "Accuracy score for test data using the model without Grid search: 0.9038461538461539\n"
     ]
    }
   ],
   "source": [
    "print('Accuracy score for train data using the model without Grid search:', accuracy_score(y_train,y_pred_train_dt8))\n",
    "print('Accuracy score for test data using the model without Grid search:', accuracy_score(y_test,y_pred_test_dt8))"
   ]
  },
  {
   "cell_type": "code",
   "execution_count": 170,
   "metadata": {},
   "outputs": [
    {
     "name": "stdout",
     "output_type": "stream",
     "text": [
      "              precision    recall  f1-score   support\n",
      "\n",
      "           0       0.86      0.90      0.88        40\n",
      "           1       0.94      0.91      0.92        64\n",
      "\n",
      "    accuracy                           0.90       104\n",
      "   macro avg       0.90      0.90      0.90       104\n",
      "weighted avg       0.91      0.90      0.90       104\n",
      "\n"
     ]
    }
   ],
   "source": [
    "print(classification_report(y_test, y_pred_test_dt8))"
   ]
  },
  {
   "cell_type": "code",
   "execution_count": 171,
   "metadata": {},
   "outputs": [
    {
     "data": {
      "text/plain": [
       "{'min_samples_split': 7,\n",
       " 'min_samples_leaf': 6,\n",
       " 'max_features': None,\n",
       " 'max_depth': 7,\n",
       " 'criterion': 'gini'}"
      ]
     },
     "execution_count": 171,
     "metadata": {},
     "output_type": "execute_result"
    }
   ],
   "source": [
    "random_search_dt8.best_params_"
   ]
  },
  {
   "cell_type": "markdown",
   "metadata": {},
   "source": [
    "### 8.4.4 Refinining Decision Tree with Grid Search using the new dataset with selected features from the best DT and RF models <br id=section80404 ></br>"
   ]
  },
  {
   "cell_type": "code",
   "execution_count": 172,
   "metadata": {},
   "outputs": [
    {
     "name": "stdout",
     "output_type": "stream",
     "text": [
      "Wall time: 5.72 s\n"
     ]
    },
    {
     "data": {
      "text/plain": [
       "GridSearchCV(cv=RepeatedStratifiedKFold(n_repeats=3, n_splits=5, random_state=1),\n",
       "             estimator=DecisionTreeClassifier(random_state=4),\n",
       "             param_grid=[{'criterion': ['gini', 'entropy'],\n",
       "                          'max_depth': (4, 5, 6), 'max_features': [None],\n",
       "                          'min_samples_leaf': (2, 3, 4),\n",
       "                          'min_samples_split': (2, 3, 4)}],\n",
       "             refit='AUC')"
      ]
     },
     "execution_count": 172,
     "metadata": {},
     "output_type": "execute_result"
    }
   ],
   "source": [
    "%%time\n",
    "model_dt9 = tree.DecisionTreeClassifier(random_state = 4)\n",
    "from sklearn.model_selection import GridSearchCV\n",
    "\n",
    "tree_para = [{'criterion':['gini','entropy'],'max_depth':(4,5,6),'min_samples_leaf':(2,3,4),'min_samples_split':(2,3,4),\n",
    "                            'max_features': [None] }]\n",
    "                            \n",
    "# run grid search with K fold cross validation\n",
    "cv = RepeatedStratifiedKFold(n_splits=5, n_repeats=3, random_state=1)\n",
    "grid_search_dt9 = GridSearchCV(model_dt9,tree_para, cv=cv, refit='AUC')\n",
    "grid_search_dt9.fit(X_train_merged, y_train)"
   ]
  },
  {
   "cell_type": "code",
   "execution_count": 173,
   "metadata": {},
   "outputs": [],
   "source": [
    "y_pred_train_dt9 = grid_search_dt9.predict(X_train_merged)\n",
    "y_pred_test_dt9 = grid_search_dt9.predict(X_test_merged)"
   ]
  },
  {
   "cell_type": "code",
   "execution_count": 174,
   "metadata": {},
   "outputs": [
    {
     "name": "stdout",
     "output_type": "stream",
     "text": [
      "Accuracy score for train data using the model without Grid search: 0.9591346153846154\n",
      "Accuracy score for test data using the model without Grid search: 0.9326923076923077\n"
     ]
    }
   ],
   "source": [
    "print('Accuracy score for train data using the model without Grid search:', accuracy_score(y_train,y_pred_train_dt9))\n",
    "print('Accuracy score for test data using the model without Grid search:', accuracy_score(y_test,y_pred_test_dt9))"
   ]
  },
  {
   "cell_type": "code",
   "execution_count": 175,
   "metadata": {},
   "outputs": [
    {
     "name": "stdout",
     "output_type": "stream",
     "text": [
      "0.943089430894309\n"
     ]
    }
   ],
   "source": [
    "print(f1_score(y_test,y_pred_test_dt9))"
   ]
  },
  {
   "cell_type": "code",
   "execution_count": 176,
   "metadata": {},
   "outputs": [
    {
     "name": "stdout",
     "output_type": "stream",
     "text": [
      "              precision    recall  f1-score   support\n",
      "\n",
      "           0       0.87      0.97      0.92        40\n",
      "           1       0.98      0.91      0.94        64\n",
      "\n",
      "    accuracy                           0.93       104\n",
      "   macro avg       0.92      0.94      0.93       104\n",
      "weighted avg       0.94      0.93      0.93       104\n",
      "\n"
     ]
    }
   ],
   "source": [
    "print(classification_report(y_test, y_pred_test_dt9))"
   ]
  },
  {
   "cell_type": "code",
   "execution_count": 177,
   "metadata": {},
   "outputs": [
    {
     "data": {
      "text/plain": [
       "{'criterion': 'gini',\n",
       " 'max_depth': 5,\n",
       " 'max_features': None,\n",
       " 'min_samples_leaf': 2,\n",
       " 'min_samples_split': 2}"
      ]
     },
     "execution_count": 177,
     "metadata": {},
     "output_type": "execute_result"
    }
   ],
   "source": [
    "grid_search_dt9.best_params_"
   ]
  },
  {
   "cell_type": "markdown",
   "metadata": {},
   "source": [
    "### 8.4.5 Hypertuning Random Forest with Random Search using the new dataset with selected features from the best DT and RF models <br id=section80405 ></br>"
   ]
  },
  {
   "cell_type": "code",
   "execution_count": 178,
   "metadata": {},
   "outputs": [],
   "source": [
    "model_rf10 = RandomForestClassifier(random_state = 4)\n",
    "from sklearn.model_selection import RandomizedSearchCV\n",
    "from scipy.stats import randint as sp_randint\n",
    "# parameters for GridSearchCV\n",
    "# specify parameters and distributions to sample from\n",
    "param_dist = {\"max_depth\": range(2,8),\n",
    "              \"min_samples_split\": sp_randint(2,8),\n",
    "              \"min_samples_leaf\": sp_randint(2,8),\n",
    "              \"bootstrap\": [True, False],\n",
    "              \"n_estimators\": [10,20,50,100, 200],\n",
    "              \"criterion\" : [\"gini\", \"entropy\"],\n",
    "              'max_features': ['sqrt', 'log2', None]\n",
    "             }\n",
    "cv = RepeatedStratifiedKFold(n_splits=5, n_repeats=3, random_state=1)\n",
    "# run randomized search\n",
    "n_iter_search = 50\n",
    "random_search_rf2 = RandomizedSearchCV(model_rf10, param_distributions = param_dist,\n",
    "                                   n_iter = n_iter_search,\n",
    "                                   n_jobs = -1, cv=cv)"
   ]
  },
  {
   "cell_type": "code",
   "execution_count": 179,
   "metadata": {},
   "outputs": [
    {
     "name": "stdout",
     "output_type": "stream",
     "text": [
      "Wall time: 47.8 s\n"
     ]
    },
    {
     "data": {
      "text/plain": [
       "RandomizedSearchCV(cv=RepeatedStratifiedKFold(n_repeats=3, n_splits=5, random_state=1),\n",
       "                   estimator=RandomForestClassifier(random_state=4), n_iter=50,\n",
       "                   n_jobs=-1,\n",
       "                   param_distributions={'bootstrap': [True, False],\n",
       "                                        'criterion': ['gini', 'entropy'],\n",
       "                                        'max_depth': range(2, 8),\n",
       "                                        'max_features': ['sqrt', 'log2', None],\n",
       "                                        'min_samples_leaf': <scipy.stats._distn_infrastructure.rv_frozen object at 0x0000024D75050A88>,\n",
       "                                        'min_samples_split': <scipy.stats._distn_infrastructure.rv_frozen object at 0x0000024D75050408>,\n",
       "                                        'n_estimators': [10, 20, 50, 100, 200]})"
      ]
     },
     "execution_count": 179,
     "metadata": {},
     "output_type": "execute_result"
    }
   ],
   "source": [
    "%%time\n",
    "random_search_rf2.fit(X_train_merged, y_train.values.ravel())"
   ]
  },
  {
   "cell_type": "code",
   "execution_count": 180,
   "metadata": {},
   "outputs": [],
   "source": [
    "y_pred_train_rf10 = random_search_rf2.predict(X_train_merged)\n",
    "y_pred_test_rf10 = random_search_rf2.predict(X_test_merged)"
   ]
  },
  {
   "cell_type": "code",
   "execution_count": 181,
   "metadata": {},
   "outputs": [
    {
     "name": "stdout",
     "output_type": "stream",
     "text": [
      "Accuracy score for train data using the model without parameter specification: 0.9639423076923077\n",
      "Accuracy score for test data using the model without parameter specification: 0.9423076923076923\n"
     ]
    }
   ],
   "source": [
    "from sklearn.metrics import accuracy_score\n",
    "print('Accuracy score for train data using the model without parameter specification:', accuracy_score(y_train,y_pred_train_rf10))\n",
    "print('Accuracy score for test data using the model without parameter specification:', accuracy_score(y_test,y_pred_test_rf10))"
   ]
  },
  {
   "cell_type": "code",
   "execution_count": 182,
   "metadata": {},
   "outputs": [
    {
     "name": "stdout",
     "output_type": "stream",
     "text": [
      "              precision    recall  f1-score   support\n",
      "\n",
      "           0       0.89      0.97      0.93        40\n",
      "           1       0.98      0.92      0.95        64\n",
      "\n",
      "    accuracy                           0.94       104\n",
      "   macro avg       0.93      0.95      0.94       104\n",
      "weighted avg       0.95      0.94      0.94       104\n",
      "\n"
     ]
    }
   ],
   "source": [
    "print(classification_report(y_test, y_pred_test_rf10))"
   ]
  },
  {
   "cell_type": "code",
   "execution_count": 183,
   "metadata": {},
   "outputs": [
    {
     "data": {
      "text/plain": [
       "{'bootstrap': False,\n",
       " 'criterion': 'gini',\n",
       " 'max_depth': 6,\n",
       " 'max_features': None,\n",
       " 'min_samples_leaf': 2,\n",
       " 'min_samples_split': 4,\n",
       " 'n_estimators': 50}"
      ]
     },
     "execution_count": 183,
     "metadata": {},
     "output_type": "execute_result"
    }
   ],
   "source": [
    "random_search_rf2.best_params_"
   ]
  },
  {
   "cell_type": "markdown",
   "metadata": {},
   "source": [
    "### 8.4.6 Hypertuning Random Forest with Grid Search using the new dataset with selected features from the best DT and RF models <br id=section80406 ></br>"
   ]
  },
  {
   "cell_type": "code",
   "execution_count": 184,
   "metadata": {},
   "outputs": [],
   "source": [
    "model_rf11 = RandomForestClassifier(random_state = 4)"
   ]
  },
  {
   "cell_type": "code",
   "execution_count": 185,
   "metadata": {},
   "outputs": [],
   "source": [
    "param_dist = {\"max_depth\":(4,6,8),\n",
    "              \"min_samples_split\": (2,3,4),\n",
    "              \"min_samples_leaf\": (2,3,4),\n",
    "              \"bootstrap\": [False],\n",
    "              \"n_estimators\": [40,50,60,80],\n",
    "              \"criterion\" : [\"gini\",\"entropy\"],\n",
    "              'max_features': ['sqrt']\n",
    "             }\n",
    "cv = RepeatedStratifiedKFold(n_splits=5, n_repeats=3, random_state=1)\n",
    "grid_search_rf2 = GridSearchCV(model_rf11,param_dist,cv=cv)"
   ]
  },
  {
   "cell_type": "code",
   "execution_count": 188,
   "metadata": {},
   "outputs": [
    {
     "name": "stdout",
     "output_type": "stream",
     "text": [
      "Wall time: 4min 28s\n"
     ]
    },
    {
     "data": {
      "text/plain": [
       "GridSearchCV(cv=RepeatedStratifiedKFold(n_repeats=3, n_splits=5, random_state=1),\n",
       "             estimator=RandomForestClassifier(random_state=4),\n",
       "             param_grid={'bootstrap': [False], 'criterion': ['gini', 'entropy'],\n",
       "                         'max_depth': (4, 6, 8), 'max_features': ['sqrt'],\n",
       "                         'min_samples_leaf': (2, 3, 4),\n",
       "                         'min_samples_split': (2, 3, 4),\n",
       "                         'n_estimators': [40, 50, 60, 80]})"
      ]
     },
     "execution_count": 188,
     "metadata": {},
     "output_type": "execute_result"
    }
   ],
   "source": [
    "%%time\n",
    "grid_search_rf2.fit(X_train, y_train.values.ravel())"
   ]
  },
  {
   "cell_type": "code",
   "execution_count": 189,
   "metadata": {},
   "outputs": [],
   "source": [
    "y_pred_train_rf11 = grid_search_rf2.predict(X_train)\n",
    "y_pred_test_rf11 = grid_search_rf2.predict(X_test)"
   ]
  },
  {
   "cell_type": "code",
   "execution_count": 190,
   "metadata": {},
   "outputs": [
    {
     "name": "stdout",
     "output_type": "stream",
     "text": [
      "Accuracy score for train data using the model without parameter specification: 0.9879807692307693\n",
      "Accuracy score for test data using the model without parameter specification: 0.9711538461538461\n"
     ]
    }
   ],
   "source": [
    "from sklearn.metrics import accuracy_score\n",
    "print('Accuracy score for train data using the model without parameter specification:', accuracy_score(y_train,y_pred_train_rf11))\n",
    "print('Accuracy score for test data using the model without parameter specification:', accuracy_score(y_test,y_pred_test_rf11))"
   ]
  },
  {
   "cell_type": "code",
   "execution_count": 191,
   "metadata": {},
   "outputs": [
    {
     "name": "stdout",
     "output_type": "stream",
     "text": [
      "0.9763779527559054\n"
     ]
    }
   ],
   "source": [
    "print(f1_score(y_test,y_pred_test_rf11))"
   ]
  },
  {
   "cell_type": "code",
   "execution_count": 192,
   "metadata": {},
   "outputs": [
    {
     "name": "stdout",
     "output_type": "stream",
     "text": [
      "              precision    recall  f1-score   support\n",
      "\n",
      "           0       0.95      0.97      0.96        40\n",
      "           1       0.98      0.97      0.98        64\n",
      "\n",
      "    accuracy                           0.97       104\n",
      "   macro avg       0.97      0.97      0.97       104\n",
      "weighted avg       0.97      0.97      0.97       104\n",
      "\n"
     ]
    }
   ],
   "source": [
    "print(classification_report(y_test, y_pred_test_rf11))"
   ]
  },
  {
   "cell_type": "code",
   "execution_count": 193,
   "metadata": {},
   "outputs": [
    {
     "data": {
      "text/plain": [
       "{'bootstrap': False,\n",
       " 'criterion': 'gini',\n",
       " 'max_depth': 8,\n",
       " 'max_features': 'sqrt',\n",
       " 'min_samples_leaf': 2,\n",
       " 'min_samples_split': 2,\n",
       " 'n_estimators': 50}"
      ]
     },
     "execution_count": 193,
     "metadata": {},
     "output_type": "execute_result"
    }
   ],
   "source": [
    "grid_search_rf2.best_params_"
   ]
  },
  {
   "cell_type": "markdown",
   "metadata": {},
   "source": [
    "## 9. Summary of Results <br id=section9 ></br>"
   ]
  },
  {
   "attachments": {},
   "cell_type": "markdown",
   "metadata": {},
   "source": [
    "1. DT and RF performed better than other base models:\n",
    "    - DT gave a 97% accuracy which reduced to 94.4% on using Repeated Stratified K fold cross validation\n",
    "    - RF gave an accuracy of 97-99% in different runs which reduced to 96.7% on cross validation\n",
    "\n",
    "2. RF with hyperparameter tuning improved its accuracy score slightly to 97%  but was computationally expensive taking 9 to11 \n",
    "   minutes (Grid Search CV) to run. Base model although gave slightly less accuracy of 96.7% but took only 2 sec to run.\n",
    "  \n",
    "3. Important features were selected based on the best DT and RF models,  using a threshold of 0.03 for feature importance \n",
    "   parameter\n",
    "    - 8 features each from DT and RF were shortlisted, out of which 5 were common in both\n",
    "    - A new dataset was created by combining the important features from both RF and DT \n",
    "        -The new dataset had 12 features instead of 17\n",
    "\n",
    "4.  Using  the selected features, DT was able to improve its accuracy from 95% to 96.8 %  and took only 3 ms to run\n",
    "    - Accuracy for RF reduced to 93.8% with selected features\n",
    "    \n",
    "5.  Using the new dataset  which was created by merging selected features from both DT and RF,  RF  performed the best giving \n",
    "    97% accuracy score, though was computationally very expensive taking over 4 minutes to execute (Grid Search CV)\n"
   ]
  },
  {
   "cell_type": "markdown",
   "metadata": {},
   "source": [
    "## 10. Conclusions <br id=section10 ></br>"
   ]
  },
  {
   "attachments": {},
   "cell_type": "markdown",
   "metadata": {},
   "source": [
    "1. DT was the best model with an accuracy score of 96.8 % (with 8 selected features) and a time of 3 ms\n",
    "     \n",
    "2. RF base model with Repeated Stratified K fold validation was the second best model in terms of accuracy (96.7%) and the time \n",
    "   taken (2 secs respectively)\n",
    "    - Hyperparameter tuning did not add much value for RF in terms of accuracy and was computationally very expensive\n",
    "     \n",
    "3. Selecting the features, did not help in improving the accuracy score beyond 97% for RF  but the selection helped in \n",
    "   improving the accuracy of DT from 95% to 96.8%\n",
    "    \n",
    "3. Surprisingly, neither RF  nor DT showed “delayed healing” as one of the important features, where as clinically “delayed    \n",
    "   healing” is a known symptom of early stage diabetes – reason for this discrepancy is not clear at this time\n",
    "\n",
    "4. There are several other things that can be tried to improve the predictions such as \n",
    "    - PCA\n",
    "    - Boosting /Stacking\n",
    "    - Combining features like Polyuria and Polydipsia , which seem to be slightly correlated (correlation coefficient of ~0.6)\n",
    "    - 90% females are disease positive and the correlation co-efficient between class and gender is 0.45.  Fixing this \n",
    "      imbalance in the female population could potentially further improve the accuracy of the model\n"
   ]
  }
 ],
 "metadata": {
  "kernelspec": {
   "display_name": "Python 3",
   "language": "python",
   "name": "python3"
  },
  "language_info": {
   "codemirror_mode": {
    "name": "ipython",
    "version": 3
   },
   "file_extension": ".py",
   "mimetype": "text/x-python",
   "name": "python",
   "nbconvert_exporter": "python",
   "pygments_lexer": "ipython3",
   "version": "3.7.4"
  }
 },
 "nbformat": 4,
 "nbformat_minor": 2
}
